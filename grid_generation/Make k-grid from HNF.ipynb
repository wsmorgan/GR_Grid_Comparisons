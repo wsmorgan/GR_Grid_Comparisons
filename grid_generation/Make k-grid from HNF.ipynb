{
 "cells": [
  {
   "cell_type": "code",
   "execution_count": 1,
   "metadata": {
    "collapsed": true,
    "deletable": true,
    "editable": true
   },
   "outputs": [],
   "source": [
    "import numpy as np\n",
    "import matplotlib.pyplot as plt"
   ]
  },
  {
   "cell_type": "code",
   "execution_count": 109,
   "metadata": {
    "collapsed": false,
    "deletable": true,
    "editable": true
   },
   "outputs": [],
   "source": [
    "A = np.asarray([[1,1],[1,-1]])\n",
    "H = np.asarray([[1,0],[4,5]])\n",
    "B = np.dot(A,H)\n",
    "Bp = np.asarray([[5,0],[0,5]])"
   ]
  },
  {
   "cell_type": "code",
   "execution_count": 110,
   "metadata": {
    "collapsed": false,
    "deletable": true,
    "editable": true
   },
   "outputs": [
    {
     "data": {
      "image/png": "[encoded data removed]",
      "text/plain": [
       "<matplotlib.figure.Figure at 0x10b927ed0>"
      ]
     },
     "metadata": {},
     "output_type": "display_data"
    }
   ],
   "source": [
    "plt.plot([Bp[0][0],Bp[1][0]],[Bp[0][1],Bp[1][0]],c=\"r\")\n",
    "plt.plot([Bp[0][0],Bp[1][0]],[Bp[0][0],Bp[1][1]],c=\"r\")\n",
    "plt.plot([Bp[0][0],Bp[1][1]],[Bp[0][1],Bp[1][1]],c=\"r\")\n",
    "plt.plot([Bp[0][1],Bp[1][0]],[Bp[0][1],Bp[1][1]],c=\"r\")\n",
    "plt.plot([0,B[0][0]],[0,B[1][0]],c=\"b\")\n",
    "plt.plot([0,B[0][1]],[0,B[1][1]],c=\"b\")\n",
    "plt.plot([B[0][1],B[0][0]+B[0][1]],[B[1][1],B[1][1]+B[1][0]],c=\"b\")\n",
    "plt.plot([B[0][0],B[0][0]+B[0][1]],[B[1][0],B[1][1]+B[1][0]],c=\"b\")\n",
    "#plt.plot([0,B[0][0]],[0,B[0][1]],c=\"b\")\n",
    "#plt.plot([0,B[1][0]],[0,B[1][1]],c=\"b\")\n",
    "#plt.plot([B[0][0],B[1][0]+B[0][0]],[B[0][1],B[1][1]+B[0][1]],c=\"b\")\n",
    "#plt.plot([B[1][0],B[1][0]+B[0][0]],[B[1][1],B[1][1]+B[0][1]],c=\"b\")\n",
    "#plt.plot([0,A[0][0]],[0,A[0][1]],c=\"g\")\n",
    "#plt.plot([0,A[1][0]],[0,A[1][1]],c=\"g\")\n",
    "#plt.plot([A[0][0],A[1][0]+A[0][0]],[A[0][1],A[1][1]+A[0][1]],c=\"g\")\n",
    "#plt.plot([A[1][0],A[1][0]+A[0][0]],[A[1][1],A[1][1]+A[0][1]],c=\"g\")\n",
    "plt.plot([0,A[0][0]],[0,A[1][0]],c=\"g\")\n",
    "plt.plot([0,A[0][1]],[0,A[1][1]],c=\"g\")\n",
    "plt.plot([A[0][1],A[0][0]+A[0][1]],[A[1][1],A[1][1]+A[1][0]],c=\"g\")\n",
    "plt.plot([A[0][0],A[0][0]+A[0][1]],[A[1][0],A[1][1]+A[1][0]],c=\"g\")\n",
    "plt.axis(\"equal\")\n",
    "plt.show()"
   ]
  },
  {
   "cell_type": "code",
   "execution_count": 111,
   "metadata": {
    "collapsed": false,
    "deletable": true,
    "editable": true
   },
   "outputs": [
    {
     "data": {
      "text/plain": [
       "array([[ 5,  5],\n",
       "       [-3, -5]])"
      ]
     },
     "execution_count": 111,
     "metadata": {},
     "output_type": "execute_result"
    }
   ],
   "source": [
    "B"
   ]
  },
  {
   "cell_type": "code",
   "execution_count": 114,
   "metadata": {
    "collapsed": false,
    "deletable": true,
    "editable": true
   },
   "outputs": [
    {
     "name": "stdout",
     "output_type": "stream",
     "text": [
      "[0, 1]\n",
      "[[0, 0], [0, 1], [0, 2], [0, 3], [0, 4]]\n",
      "('x', array([0, 0]))\n",
      "[ 0.  0.]\n",
      "('x', array([ 1, -1]))\n",
      "[ 0.2 -0.2]\n",
      "('x', array([ 2, -2]))\n",
      "[ 0.4 -0.4]\n",
      "('x', array([ 3, -3]))\n",
      "[ 0.6 -0.6]\n",
      "('x', array([ 4, -4]))\n",
      "[ 0.8 -0.8]\n"
     ]
    }
   ],
   "source": [
    "xs = [0,1]\n",
    "z1 = []\n",
    "\n",
    "for x1 in xs:\n",
    "    z1.append(H[0][0]*x1)\n",
    "print(z1)\n",
    "points = []\n",
    "for z in range(min(z1),max(z1)):\n",
    "    z2 = []\n",
    "    for x2 in xs:\n",
    "        z2.append(H[1][0]*z+H[1][1]*x2)\n",
    "    for y in range(min(z2),max(z2)):\n",
    "        points.append([z,y])\n",
    "print(points)\n",
    "cart_points = []\n",
    "for p in points:\n",
    "    print('x',np.dot(A,p))\n",
    "    c_p = np.dot(np.linalg.inv(Bp),np.dot(A,p))\n",
    "    print(c_p)\n",
    "    while any(c_p < 0):\n",
    "        if c_p[0] < 0:\n",
    "            c_p[0] += 1\n",
    "        if c_p[1] < 0:\n",
    "            c_p[1] += 1\n",
    "    while any(c_p >= 1):\n",
    "        if c_p[0] >= 1:\n",
    "            c_p[0] -= 1\n",
    "        if c_p[1] >= 1:\n",
    "            c_p[1] -= 1\n",
    "            \n",
    "    cart_points.append(c_p)\n",
    "        "
   ]
  },
  {
   "cell_type": "code",
   "execution_count": 113,
   "metadata": {
    "collapsed": false,
    "deletable": true,
    "editable": true
   },
   "outputs": [
    {
     "data": {
      "image/png": "[encoded data removed]",
      "text/plain": [
       "<matplotlib.figure.Figure at 0x10c1c0a50>"
      ]
     },
     "metadata": {},
     "output_type": "display_data"
    }
   ],
   "source": [
    "plt.plot([0,0],[0,5],c=\"r\")\n",
    "plt.plot([0,5],[0,0],c=\"r\")\n",
    "plt.plot([5,5],[0,5],c=\"r\")\n",
    "plt.plot([0,5],[5,5],c=\"r\")\n",
    "xs = []\n",
    "ys = []\n",
    "for point in cart_points:\n",
    "    p = np.dot(Bp,point)\n",
    "    xs.append(p[0])\n",
    "    ys.append(p[1])\n",
    "plt.scatter(xs,ys,c=\"b\")\n",
    "plt.axis('equal')\n",
    "plt.show()"
   ]
  },
  {
   "cell_type": "code",
   "execution_count": 91,
   "metadata": {
    "collapsed": false,
    "deletable": true,
    "editable": true
   },
   "outputs": [
    {
     "data": {
      "text/plain": [
       "10"
      ]
     },
     "execution_count": 91,
     "metadata": {},
     "output_type": "execute_result"
    }
   ],
   "source": [
    "len(cart_points)"
   ]
  },
  {
   "cell_type": "code",
   "execution_count": null,
   "metadata": {
    "collapsed": true,
    "deletable": true,
    "editable": true
   },
   "outputs": [],
   "source": []
  }
 ],
 "metadata": {
  "kernelspec": {
   "display_name": "Python 2",
   "language": "python",
   "name": "python2"
  },
  "language_info": {
   "codemirror_mode": {
    "name": "ipython",
    "version": 2
   },
   "file_extension": ".py",
   "mimetype": "text/x-python",
   "name": "python",
   "nbconvert_exporter": "python",
   "pygments_lexer": "ipython2",
   "version": "2.7.9"
  }
 },
 "nbformat": 4,
 "nbformat_minor": 2
}
