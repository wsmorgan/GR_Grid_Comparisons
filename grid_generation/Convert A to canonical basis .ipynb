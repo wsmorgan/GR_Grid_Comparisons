{
 "cells": [
  {
   "cell_type": "markdown",
   "metadata": {
    "deletable": true,
    "editable": true
   },
   "source": [
    "The idea is that if we minkowski reduce any given basis to its canonical form then we can find out which set of constraints it's HNF will obey because we will be able to identify its point group in the lattice basis.\n",
    "\n",
    "If this is true then two cells that define the same grid should also have the same symmetry preserving HNFs as well.\n",
    "\n",
    "First we'll check that the canonical form will actually give us the point group representation we want then we'll check that the HNFs are correct.\n",
    "\n",
    "We will perform these checks for two different sets of lattice vectors that both define the same simple cubic lattice."
   ]
  },
  {
   "cell_type": "code",
   "execution_count": 1,
   "metadata": {
    "collapsed": false,
    "deletable": true,
    "editable": true
   },
   "outputs": [],
   "source": [
    "from phenum.symmetry import _get_lattice_pointGroup\n",
    "import numpy as np\n",
    "from phenum.vector_utils import _minkowski_reduce_basis"
   ]
  },
  {
   "cell_type": "code",
   "execution_count": 2,
   "metadata": {
    "collapsed": false,
    "deletable": true,
    "editable": true
   },
   "outputs": [],
   "source": [
    "def forms_group(gens,pg):\n",
    "    \"\"\"Tests if the given generators forms a group.\n",
    "    \n",
    "    Args:\n",
    "        gens (list of list): The generators to check.\n",
    "        pg (list of list): The group the generators form.\n",
    "        \n",
    "    Returns:\n",
    "        corret_gens (bool): True if the generators form the group.\n",
    "    \"\"\"\n",
    "    \n",
    "    correct_gens = False\n",
    "    \n",
    "    group = []\n",
    "    for i in gens:\n",
    "        for j in gens:\n",
    "            test = np.matmul(i,j)\n",
    "            in_group = False\n",
    "            for k in group:\n",
    "                if np.allclose(test,k):\n",
    "                    in_group = True\n",
    "\n",
    "            if not in_group:\n",
    "                group.append(test)\n",
    "    \n",
    "    growing = True\n",
    "    while growing:\n",
    "        nfound = 0\n",
    "        for i in gens:\n",
    "            for j in group:\n",
    "                test = np.matmul(i,j)\n",
    "                in_group = False\n",
    "                for k in group:\n",
    "                    if np.allclose(test,k):\n",
    "                        in_group = True\n",
    "                if not in_group:\n",
    "                    group.append(test)\n",
    "                    nfound += 1\n",
    "                    \n",
    "        if nfound == 0:\n",
    "            growing = False\n",
    "\n",
    "    if not len(pg) == len(group):\n",
    "        correct_gens = False\n",
    "        \n",
    "    else:\n",
    "        for i in pg:\n",
    "            in_group = False\n",
    "            for k in group:\n",
    "                if np.allclose(i,k):\n",
    "                    correct_gens = True\n",
    "                    break\n",
    "            if correct_gens == False:\n",
    "                break\n",
    "\n",
    "    return correct_gens\n",
    "\n",
    "def find_gens_of_pg(pg):\n",
    "    \"\"\"This subroutine finds the generators of the point group.\n",
    "    \n",
    "    Args:\n",
    "        pg (list of list): A list of the matrix form of the point group.\n",
    "        \n",
    "    Returns:\n",
    "        gens (list of list): Those operations that will generate the \n",
    "            remainder of the group.\n",
    "    \"\"\"\n",
    "    \n",
    "    from itertools import combinations\n",
    "    \n",
    "    n_gens = 1\n",
    "    found_gens = False\n",
    "    while not found_gens:\n",
    "        possible_gens = list(combinations(range(len(pg)),r=n_gens))\n",
    "        for test in possible_gens:\n",
    "            test_gens = []\n",
    "            for i in test:\n",
    "                test_gens.append(pg[i])            \n",
    "            if forms_group(test_gens,pg):\n",
    "                gens = test_gens\n",
    "                found_gens = True\n",
    "                break\n",
    "        n_gens += 1\n",
    "\n",
    "    return gens\n",
    "\n",
    "def same_symm(A,B,gens):\n",
    "    \"\"\"Determines if the supercell has the \n",
    "    same symmetry as the parent cell.\n",
    "    \n",
    "    Args:\n",
    "        A (numpy.array): The parent cell vectors.\n",
    "        B (numpy.array): The supercell vectors.\n",
    "        gens (numpy.array): The generators of the point group.\n",
    "        \n",
    "    Returns:\n",
    "        same (bool): True if B has symmetry of A.\n",
    "    \"\"\"\n",
    "    \n",
    "    same = True\n",
    "    for g in gens:\n",
    "        #print('R',g)\n",
    "        BR = np.dot(B,g)\n",
    "        test = np.dot(np.linalg.inv(B),np.dot(g,B))\n",
    "        test2 = [[int(round(i)) for i in v] for v in test]\n",
    "        #print('1',test)\n",
    "        #print('2',test2)\n",
    "        if not np.allclose(test,test2):\n",
    "            same = False\n",
    "            break\n",
    "            \n",
    "    return same\n",
    "\n",
    "def find_HNFs(A,n):\n",
    "    \"\"\"Finds all the possible HNFs.\n",
    "    \n",
    "    Args:\n",
    "        A (numpy.array): The lattice vectors for the parent cell.\n",
    "        n (int): The number of cells.\n",
    "        \n",
    "    Returns:\n",
    "        srHNFs (list of list): The HNFs for the cell.\n",
    "    \"\"\"\n",
    "    \n",
    "    srHNFs = []\n",
    "    \n",
    "    pg = _get_lattice_pointGroup(A)\n",
    "    gens = find_gens_of_pg(pg)\n",
    "    \n",
    "    possibles = range(1,n+1)\n",
    "    for a in possibles:\n",
    "        keep = True\n",
    "        if n%a == 0:\n",
    "            rem = n/a\n",
    "            for c in range(1,rem+1):\n",
    "                if n%(c*a) == 0:\n",
    "                    f = n/(c*a)\n",
    "                    for b in range(c):\n",
    "                        for d in range(f):\n",
    "                            for e in range(f):\n",
    "                                HNF = [[a,0,0],[b,c,0],[d,e,f]]\n",
    "                                B = np.dot(A,HNF)\n",
    "                                #print(\"H\",HNF)\n",
    "                                if same_symm(A,B,gens):\n",
    "                                    srHNFs.append(HNF)\n",
    "                \n",
    "    return srHNFs   "
   ]
  },
  {
   "cell_type": "markdown",
   "metadata": {
    "deletable": true,
    "editable": true
   },
   "source": [
    "We'll start by seeing what the point group generators look like in the two different basis vector representations."
   ]
  },
  {
   "cell_type": "code",
   "execution_count": 121,
   "metadata": {
    "collapsed": false,
    "deletable": true,
    "editable": true
   },
   "outputs": [
    {
     "name": "stdout",
     "output_type": "stream",
     "text": [
      "0\n",
      "[[-1.  0.  0.]\n",
      " [ 0.  0. -1.]\n",
      " [ 0. -1.  0.]]\n",
      "[[-1. -1.  0.]\n",
      " [ 0.  1.  0.]\n",
      " [ 0.  0. -1.]]\n",
      "1\n",
      "[[ 0. -1.  0.]\n",
      " [ 0.  0.  1.]\n",
      " [ 1.  0.  0.]]\n",
      "[[-1.  0.  0.]\n",
      " [ 1.  0. -1.]\n",
      " [ 1.  1.  0.]]\n"
     ]
    }
   ],
   "source": [
    "A1 = [[1,0,0],[0,1,0],[0,0,1]]\n",
    "A2 = [[1,1,0],[1,0,0],[0,0,1]]\n",
    "pg1 = _get_lattice_pointGroup(A1)\n",
    "gens1 = find_gens_of_pg(pg1)\n",
    "pg2 = _get_lattice_pointGroup(A2)\n",
    "gens2= find_gens_of_pg(pg2)\n",
    "\n",
    "for i in range(2):\n",
    "    print(i)\n",
    "    print(np.dot(np.linalg.inv(A1),np.dot(gens1[i],A1)))\n",
    "    print(np.dot(np.linalg.inv(A2),np.dot(gens2[i],A2)))\n"
   ]
  },
  {
   "cell_type": "markdown",
   "metadata": {
    "deletable": true,
    "editable": true
   },
   "source": [
    "As we can see the genertors have different forms when expressed in terms of the two independent basis.\n",
    "\n",
    "Now we need to see what happens when we minkowski reduce both sets of basis vectors"
   ]
  },
  {
   "cell_type": "code",
   "execution_count": 122,
   "metadata": {
    "collapsed": false,
    "deletable": true,
    "editable": true
   },
   "outputs": [],
   "source": [
    "mA1=_minkowski_reduce_basis(A1,1E-10)\n",
    "mA2=_minkowski_reduce_basis(A2,1E-10)"
   ]
  },
  {
   "cell_type": "code",
   "execution_count": 123,
   "metadata": {
    "collapsed": false,
    "deletable": true,
    "editable": true
   },
   "outputs": [
    {
     "data": {
      "text/plain": [
       "[[0, 1, 0], [0, 0, 1], [1, 0, 0]]"
      ]
     },
     "execution_count": 123,
     "metadata": {},
     "output_type": "execute_result"
    }
   ],
   "source": [
    "mA1"
   ]
  },
  {
   "cell_type": "code",
   "execution_count": 124,
   "metadata": {
    "collapsed": false,
    "deletable": true,
    "editable": true
   },
   "outputs": [
    {
     "data": {
      "text/plain": [
       "[[1, 0, 0], [0, 1, 0], [0, 0, 1]]"
      ]
     },
     "execution_count": 124,
     "metadata": {},
     "output_type": "execute_result"
    }
   ],
   "source": [
    "mA2"
   ]
  },
  {
   "cell_type": "markdown",
   "metadata": {
    "deletable": true,
    "editable": true
   },
   "source": [
    "Now both of our basis vectors have the same form and will have the same repsentation for their point group generators."
   ]
  },
  {
   "cell_type": "code",
   "execution_count": 115,
   "metadata": {
    "collapsed": false,
    "deletable": true,
    "editable": true
   },
   "outputs": [
    {
     "name": "stdout",
     "output_type": "stream",
     "text": [
      "0\n",
      "[[ 0. -1.  0.]\n",
      " [-1.  0.  0.]\n",
      " [ 0.  0. -1.]]\n",
      "1\n",
      "[[ 0.  1.  0.]\n",
      " [ 0.  0.  1.]\n",
      " [-1.  0.  0.]]\n"
     ]
    }
   ],
   "source": [
    "mpg = _get_lattice_pointGroup(mA1)\n",
    "mgens = find_gens_of_pg(mpg)\n",
    "\n",
    "for i in range(2):\n",
    "    print(i)\n",
    "    print(np.dot(np.linalg.inv(mA1),np.dot(mgens[i],mA1)))"
   ]
  },
  {
   "cell_type": "markdown",
   "metadata": {
    "deletable": true,
    "editable": true
   },
   "source": [
    "We can see that this is yet a third representation of our generators but we will accept this as the canonical form for the generators.\n",
    "\n",
    "Now we need to determine if the canonical form and both of our initial lattices have the same symmetry preserving HNFs. We will do this through a brute force search for HNFs of size 2."
   ]
  },
  {
   "cell_type": "code",
   "execution_count": 116,
   "metadata": {
    "collapsed": false,
    "deletable": true,
    "editable": true
   },
   "outputs": [
    {
     "data": {
      "text/plain": [
       "[[[1, 0, 0], [0, 1, 0], [1, 1, 2]]]"
      ]
     },
     "execution_count": 116,
     "metadata": {},
     "output_type": "execute_result"
    }
   ],
   "source": [
    "find_HNFs(A1,2)"
   ]
  },
  {
   "cell_type": "code",
   "execution_count": 117,
   "metadata": {
    "collapsed": false,
    "deletable": true,
    "editable": true
   },
   "outputs": [
    {
     "data": {
      "text/plain": [
       "[[[1, 0, 0], [0, 1, 0], [1, 0, 2]]]"
      ]
     },
     "execution_count": 117,
     "metadata": {},
     "output_type": "execute_result"
    }
   ],
   "source": [
    "find_HNFs(A2,2)"
   ]
  },
  {
   "cell_type": "code",
   "execution_count": 118,
   "metadata": {
    "collapsed": false,
    "deletable": true,
    "editable": true
   },
   "outputs": [
    {
     "data": {
      "text/plain": [
       "[[[1, 0, 0], [0, 1, 0], [1, 1, 2]]]"
      ]
     },
     "execution_count": 118,
     "metadata": {},
     "output_type": "execute_result"
    }
   ],
   "source": [
    "find_HNFs(mA1,2)"
   ]
  },
  {
   "cell_type": "code",
   "execution_count": 119,
   "metadata": {
    "collapsed": false,
    "deletable": true,
    "editable": true
   },
   "outputs": [
    {
     "name": "stdout",
     "output_type": "stream",
     "text": [
      "[[1 1 0]\n",
      " [0 1 0]\n",
      " [1 0 2]]\n",
      "[[0 1 0]\n",
      " [1 1 2]\n",
      " [1 0 0]]\n"
     ]
    }
   ],
   "source": [
    "print(np.dot(A2,[[1, 0, 0], [0, 1, 0], [1, 0, 2]]))\n",
    "print(np.dot(mA1,[[1, 0, 0], [0, 1, 0], [1, 1, 2]]))"
   ]
  },
  {
   "cell_type": "markdown",
   "metadata": {
    "deletable": true,
    "editable": true
   },
   "source": [
    "It appears as though the two different lattices do not have the same symmetry preserving HNFs. We will confirm this by verifying that Binv.P.B is not integer for the case of lattice 2 when the symmetry preserving HNF of lattice 1 is in use."
   ]
  },
  {
   "cell_type": "code",
   "execution_count": 11,
   "metadata": {
    "collapsed": false,
    "deletable": true,
    "editable": true
   },
   "outputs": [
    {
     "name": "stdout",
     "output_type": "stream",
     "text": [
      "[[ 1.   0.   0. ]\n",
      " [-1.  -1.   0. ]\n",
      " [-0.5  0.  -1. ]]\n",
      "[[ 0.   0.   2. ]\n",
      " [-1.  -1.  -2. ]\n",
      " [ 0.5  1.   0. ]]\n"
     ]
    }
   ],
   "source": [
    "B = np.dot(A2,[[1,0,0],[0,1,0],[1,1,2]])\n",
    "for p in gens2:\n",
    "    print(np.dot(np.linalg.inv(B),np.dot(p,B)))\n",
    "    "
   ]
  },
  {
   "cell_type": "markdown",
   "metadata": {
    "deletable": true,
    "editable": true
   },
   "source": [
    "As we can see this results in non integer matrices. Therefore even though A1 and A2 define the same lattice they do not have the same symmetry preserving HNFs so we cannot use the canonical form of the lattices to try and group them."
   ]
  },
  {
   "cell_type": "code",
   "execution_count": 12,
   "metadata": {
    "collapsed": false,
    "deletable": true,
    "editable": true
   },
   "outputs": [
    {
     "data": {
      "text/plain": [
       "array([[0, 1, 0],\n",
       "       [0, 0, 1],\n",
       "       [1, 1, 0]])"
      ]
     },
     "execution_count": 12,
     "metadata": {},
     "output_type": "execute_result"
    }
   ],
   "source": [
    "T = np.dot(mA2,A2)\n",
    "T"
   ]
  },
  {
   "cell_type": "code",
   "execution_count": 13,
   "metadata": {
    "collapsed": true,
    "deletable": true,
    "editable": true
   },
   "outputs": [],
   "source": [
    "mB = np.dot(mA2,[[1,0,0],[0,1,0],[1,1,2]])"
   ]
  },
  {
   "cell_type": "code",
   "execution_count": 14,
   "metadata": {
    "collapsed": true,
    "deletable": true,
    "editable": true
   },
   "outputs": [],
   "source": [
    "B = np.dot(np.linalg.inv(T),mB)"
   ]
  },
  {
   "cell_type": "code",
   "execution_count": 15,
   "metadata": {
    "collapsed": false,
    "deletable": true,
    "editable": true
   },
   "outputs": [
    {
     "data": {
      "text/plain": [
       "array([[ 1., -1.,  0.],\n",
       "       [ 0.,  1.,  0.],\n",
       "       [ 1.,  1.,  2.]])"
      ]
     },
     "execution_count": 15,
     "metadata": {},
     "output_type": "execute_result"
    }
   ],
   "source": [
    "B"
   ]
  },
  {
   "cell_type": "code",
   "execution_count": 16,
   "metadata": {
    "collapsed": false,
    "deletable": true,
    "editable": true
   },
   "outputs": [
    {
     "data": {
      "text/plain": [
       "array([[0, 1, 0],\n",
       "       [1, 1, 2],\n",
       "       [1, 0, 0]])"
      ]
     },
     "execution_count": 16,
     "metadata": {},
     "output_type": "execute_result"
    }
   ],
   "source": [
    "mB"
   ]
  },
  {
   "cell_type": "code",
   "execution_count": 17,
   "metadata": {
    "collapsed": false,
    "deletable": true,
    "editable": true
   },
   "outputs": [
    {
     "name": "stdout",
     "output_type": "stream",
     "text": [
      "[[-1.   0.   0. ]\n",
      " [-1.   1.   0. ]\n",
      " [ 0.5 -1.  -1. ]]\n",
      "[[-2.   0.  -2. ]\n",
      " [-1.  -1.  -2. ]\n",
      " [ 1.5  1.   2. ]]\n"
     ]
    }
   ],
   "source": [
    "for g in gens2:\n",
    "    print(np.dot(np.linalg.inv(B),np.dot(g,B)))"
   ]
  },
  {
   "cell_type": "code",
   "execution_count": 18,
   "metadata": {
    "collapsed": false,
    "deletable": true,
    "editable": true
   },
   "outputs": [],
   "source": [
    "mB2= _minkowski_reduce_basis([[1,0,0],[0,1,1],[1,0,1]],1E-10)\n",
    "pgt = _get_lattice_pointGroup(mB2)\n",
    "gnst = find_gens_of_pg(pgt)"
   ]
  },
  {
   "cell_type": "code",
   "execution_count": 19,
   "metadata": {
    "collapsed": false,
    "deletable": true,
    "editable": true
   },
   "outputs": [
    {
     "name": "stdout",
     "output_type": "stream",
     "text": [
      "0\n",
      "[[-1.  0.  0.]\n",
      " [ 0.  0. -1.]\n",
      " [ 0. -1.  0.]]\n",
      "1\n",
      "[[ 0. -1.  0.]\n",
      " [ 0.  0.  1.]\n",
      " [ 1.  0.  0.]]\n"
     ]
    }
   ],
   "source": [
    "for i in range(2):\n",
    "    print(i)\n",
    "    print(np.dot(np.linalg.inv(mB2),np.dot(gnst[i],mB2)))"
   ]
  },
  {
   "cell_type": "code",
   "execution_count": 126,
   "metadata": {
    "collapsed": true,
    "deletable": true,
    "editable": true
   },
   "outputs": [],
   "source": [
    "Ac = [[1,0,0],[0,1,0],[0,0,1]]\n",
    "A1 = [[1,1,0],[0,1,0],[0,0,1]]\n",
    "#pgc = _get_lattice_pointGroup(Ac)\n",
    "#genc = find_gens_of_pg(pgc)\n",
    "H = find_HNFs(Ac,64)"
   ]
  },
  {
   "cell_type": "code",
   "execution_count": 127,
   "metadata": {
    "collapsed": false,
    "deletable": true,
    "editable": true
   },
   "outputs": [
    {
     "data": {
      "text/plain": [
       "[[[4, 0, 0], [0, 4, 0], [0, 0, 4]]]"
      ]
     },
     "execution_count": 127,
     "metadata": {},
     "output_type": "execute_result"
    }
   ],
   "source": [
    "H"
   ]
  },
  {
   "cell_type": "code",
   "execution_count": 128,
   "metadata": {
    "collapsed": false,
    "deletable": true,
    "editable": true
   },
   "outputs": [
    {
     "data": {
      "text/plain": [
       "array([[ 1., -1.,  0.],\n",
       "       [ 0.,  1.,  0.],\n",
       "       [ 0.,  0.,  1.]])"
      ]
     },
     "execution_count": 128,
     "metadata": {},
     "output_type": "execute_result"
    }
   ],
   "source": [
    "T = np.dot(Ac,np.linalg.inv(A1))\n",
    "T"
   ]
  },
  {
   "cell_type": "code",
   "execution_count": 129,
   "metadata": {
    "collapsed": false,
    "deletable": true,
    "editable": true
   },
   "outputs": [],
   "source": [
    "Bc = np.dot(Ac,H[0])\n",
    "B1 = np.dot(np.linalg.inv(T),Bc)"
   ]
  },
  {
   "cell_type": "code",
   "execution_count": 130,
   "metadata": {
    "collapsed": false,
    "deletable": true,
    "editable": true
   },
   "outputs": [
    {
     "data": {
      "text/plain": [
       "array([[ 4.,  4.,  0.],\n",
       "       [ 0.,  4.,  0.],\n",
       "       [ 0.,  0.,  4.]])"
      ]
     },
     "execution_count": 130,
     "metadata": {},
     "output_type": "execute_result"
    }
   ],
   "source": [
    "B1"
   ]
  },
  {
   "cell_type": "code",
   "execution_count": 131,
   "metadata": {
    "collapsed": false,
    "deletable": true,
    "editable": true
   },
   "outputs": [
    {
     "data": {
      "text/plain": [
       "array([[ 4.,  0.,  0.],\n",
       "       [ 0.,  4.,  0.],\n",
       "       [ 0.,  0.,  4.]])"
      ]
     },
     "execution_count": 131,
     "metadata": {},
     "output_type": "execute_result"
    }
   ],
   "source": [
    "H1=np.dot(np.linalg.inv(A1),B1)\n",
    "H1"
   ]
  },
  {
   "cell_type": "code",
   "execution_count": 132,
   "metadata": {
    "collapsed": false,
    "deletable": true,
    "editable": true
   },
   "outputs": [
    {
     "name": "stdout",
     "output_type": "stream",
     "text": [
      "[[ 1.  0.  0.]\n",
      " [-1. -1.  0.]\n",
      " [ 0.  0. -1.]]\n",
      "[[-1. -1.  1.]\n",
      " [ 0.  0. -1.]\n",
      " [ 0.  1.  0.]]\n"
     ]
    }
   ],
   "source": [
    "pg1 = _get_lattice_pointGroup(A1)\n",
    "gen1 = find_gens_of_pg(pg1)\n",
    "for p in gen1:\n",
    "    print(np.dot(np.linalg.inv(B1),np.dot(p,B1)))\n"
   ]
  },
  {
   "cell_type": "markdown",
   "metadata": {
    "deletable": true,
    "editable": true
   },
   "source": [
    "# We need to be able to define the dual in order to make the grids."
   ]
  },
  {
   "cell_type": "code",
   "execution_count": 133,
   "metadata": {
    "collapsed": true,
    "deletable": true,
    "editable": true
   },
   "outputs": [],
   "source": [
    "def find_mat_dual(A):\n",
    "    \"\"\"Finds the dual of the matrix A.\n",
    "    \n",
    "    Args:\n",
    "        A (numpy.array): The input matrix where the columns are the \n",
    "            vectors.\n",
    "        \n",
    "    Returns:\n",
    "        dualA (numpy.array): The dual of the matrix A.\n",
    "    \"\"\"\n",
    "    \n",
    "    dualA = np.transpose(np.linalg.inv(A))\n",
    "    return(dualA)    "
   ]
  },
  {
   "cell_type": "markdown",
   "metadata": {
    "deletable": true,
    "editable": true
   },
   "source": [
    "## Plots to see if we're doing it right"
   ]
  },
  {
   "cell_type": "code",
   "execution_count": 192,
   "metadata": {
    "collapsed": false,
    "deletable": true,
    "editable": true
   },
   "outputs": [],
   "source": [
    "import matplotlib.pyplot as plt\n",
    "from matplotlib import cm\n",
    "import matplotlib\n",
    "from mpl_toolkits.mplot3d import Axes3D\n",
    "%matplotlib notebook\n",
    "from sampling import make_mesh\n",
    "def show_grid(lattice,grid):\n",
    "    \"\"\"Plots the shape of each HNF.\n",
    "\n",
    "    Args:\n",
    "        lattice (numpy.array): The parent cell.\n",
    "        grid (numpy.array): The grid vectors for the k-points.\n",
    "    \"\"\"\n",
    "    #from phenum.grouptheory import SmithNormalForm\n",
    "    #from phenum.vector_utils import map_enumStr_to_real_space, cartesian2direct\n",
    "    #from operator import mul\n",
    "    from numpy import array, mgrid, dot, matmul\n",
    "    #from itertools import product\n",
    "\n",
    "    #try:\n",
    "    #    from functools import reduce\n",
    "    #except ImportError:\n",
    "    import numpy as np\n",
    "\n",
    "    grid = grid/(2**(1/3))\n",
    "    ## This part just plots the parent cell.\n",
    "    #aBas = array([[0,0,0]])\n",
    "        \n",
    "    #(SNF,L,R) = SmithNormalForm(HNF)\n",
    "    #diag = [SNF[0][0],SNF[1][1],SNF[2][2]]\n",
    "    #vol = reduce(mul,diag,1)\n",
    "    #sLV = matmul(lattice,HNF).tolist()\n",
    "    sLV = lattice\n",
    "    \n",
    "    # the corners of the polyhedron except the origin.\n",
    "    x = np.array(sLV[0])\n",
    "    y = sLV[1]#x-np.array(sLV[1])\n",
    "    z = sLV[2]\n",
    "    xy = (array(x)+array(y)).tolist()\n",
    "    xz = (array(x)+array(z)).tolist()\n",
    "    yz = (array(y)+array(z)).tolist()\n",
    "    xyz = (array(y)+array(x)+array(z)).tolist()\n",
    "\n",
    "    correct = [[0,0,0],x,y,z,xy,xz,yz,xyz]\n",
    "    xf = [i[0] for i in correct]\n",
    "    yf = [i[1] for i in correct]\n",
    "    zf = [i[2] for i in correct]\n",
    "\n",
    "    # we need to put the shifted atoms back into cartesian corrdinates.\n",
    "    #atoms = []\n",
    "    #for atom in aBas:\n",
    "    #    atoms.append(dot(atom,sLV).tolist())\n",
    "                        \n",
    "    #    xa = [atom[0] for atom in atoms]\n",
    "    #    ya = [atom[1] for atom in atoms]\n",
    "    #    za = [atom[2] for atom in atoms]\n",
    "\n",
    "    fig = plt.figure()\n",
    "    ax = fig.gca(projection='3d')\n",
    "    ax.set_aspect('equal')\n",
    "    ax.set_axis_off()\n",
    "     #   ax.scatter(xa,ya,za,zdir='z',c='red',s=1000)\n",
    "        # ax.scatter(xf,yf,zf,zdir='z',c='red')\n",
    "\n",
    "    ax.plot([0,x[0]],[0,x[1]],[0,x[2]],'k')\n",
    "    ax.plot([0,y[0]],[0,y[1]],[0,y[2]],'k')\n",
    "    ax.plot([0,z[0]],[0,z[1]],[0,z[2]],'k')\n",
    "    ax.plot([xz[0],x[0]],[xz[1],x[1]],[xz[2],x[2]],'k')\n",
    "    ax.plot([xz[0],z[0]],[xz[1],z[1]],[xz[2],z[2]],'k')\n",
    "    ax.plot([xy[0],x[0]],[xy[1],x[1]],[xy[2],x[2]],'k')\n",
    "    ax.plot([xy[0],y[0]],[xy[1],y[1]],[xy[2],y[2]],'k')\n",
    "    ax.plot([xz[0],z[0]],[xz[1],z[1]],[xz[2],z[2]],'k')\n",
    "    ax.plot([yz[0],z[0]],[yz[1],z[1]],[yz[2],z[2]],'k')\n",
    "    ax.plot([yz[0],y[0]],[yz[1],y[1]],[yz[2],y[2]],'k')\n",
    "    ax.plot([yz[0],xyz[0]],[yz[1],xyz[1]],[yz[2],xyz[2]],'k')\n",
    "    ax.plot([xz[0],xyz[0]],[xz[1],xyz[1]],[xz[2],xyz[2]],'k')\n",
    "    ax.plot([xy[0],xyz[0]],[xy[1],xyz[1]],[xy[2],xyz[2]],'k')\n",
    "\n",
    "    max_range = array([array(xf).max()-array(xf).min(),array(yf).max()-array(yf).min(),\n",
    "                        array(zf).max()-array(zf).min()]).max()\n",
    "    Xb = 0.5*max_range*mgrid[-1:2:2,-1:2:2,-1:2:2][0].flatten() + 0.5*(array(xf).max()+array(xf).min())\n",
    "    Yb = 0.5*max_range*mgrid[-1:2:2,-1:2:2,-1:2:2][0].flatten() + 0.5*(array(yf).max()+array(yf).min())\n",
    "    Zb = 0.5*max_range*mgrid[-1:2:2,-1:2:2,-1:2:2][0].flatten() + 0.5*(array(zf).max()+array(zf).min())\n",
    "\n",
    "    for xb, yb, zb in zip(Xb,Yb,Zb):\n",
    "        ax.plot([xb],[yb],[zb],'w')\n",
    "\n",
    "        \n",
    "    ## Now we need to plot the grid points\n",
    "    points = make_mesh(lattice,grid,[0,0,0])\n",
    "    for p in points:\n",
    "        ax.scatter(p[0],p[1],p[2],zdir='z',c='r')\n",
    "        #fig.savefig(\"HNF.pdf\")\n",
    "        #if show: #pragma: no cover\n",
    "    plt.show()\n",
    "        #else:\n",
    "        #    plt.close()"
   ]
  },
  {
   "cell_type": "code",
   "execution_count": 193,
   "metadata": {
    "collapsed": false,
    "deletable": true,
    "editable": true
   },
   "outputs": [
    {
     "data": {
      "application/javascript": [
       "/* Put everything inside the global mpl namespace */\n",
       "window.mpl = {};\n",
       "\n",
       "\n",
       "mpl.get_websocket_type = function() {\n",
       "    if (typeof(WebSocket) !== 'undefined') {\n",
       "        return WebSocket;\n",
       "    } else if (typeof(MozWebSocket) !== 'undefined') {\n",
       "        return MozWebSocket;\n",
       "    } else {\n",
       "        alert('Your browser does not have WebSocket support.' +\n",
       "              'Please try Chrome, Safari or Firefox ≥ 6. ' +\n",
       "              'Firefox 4 and 5 are also supported but you ' +\n",
       "              'have to enable WebSockets in about:config.');\n",
       "    };\n",
       "}\n",
       "\n",
       "mpl.figure = function(figure_id, websocket, ondownload, parent_element) {\n",
       "    this.id = figure_id;\n",
       "\n",
       "    this.ws = websocket;\n",
       "\n",
       "    this.supports_binary = (this.ws.binaryType != undefined);\n",
       "\n",
       "    if (!this.supports_binary) {\n",
       "        var warnings = document.getElementById(\"mpl-warnings\");\n",
       "        if (warnings) {\n",
       "            warnings.style.display = 'block';\n",
       "            warnings.textContent = (\n",
       "                \"This browser does not support binary websocket messages. \" +\n",
       "                    \"Performance may be slow.\");\n",
       "        }\n",
       "    }\n",
       "\n",
       "    this.imageObj = new Image();\n",
       "\n",
       "    this.context = undefined;\n",
       "    this.message = undefined;\n",
       "    this.canvas = undefined;\n",
       "    this.rubberband_canvas = undefined;\n",
       "    this.rubberband_context = undefined;\n",
       "    this.format_dropdown = undefined;\n",
       "\n",
       "    this.image_mode = 'full';\n",
       "\n",
       "    this.root = $('<div/>');\n",
       "    this._root_extra_style(this.root)\n",
       "    this.root.attr('style', 'display: inline-block');\n",
       "\n",
       "    $(parent_element).append(this.root);\n",
       "\n",
       "    this._init_header(this);\n",
       "    this._init_canvas(this);\n",
       "    this._init_toolbar(this);\n",
       "\n",
       "    var fig = this;\n",
       "\n",
       "    this.waiting = false;\n",
       "\n",
       "    this.ws.onopen =  function () {\n",
       "            fig.send_message(\"supports_binary\", {value: fig.supports_binary});\n",
       "            fig.send_message(\"send_image_mode\", {});\n",
       "            if (mpl.ratio != 1) {\n",
       "                fig.send_message(\"set_dpi_ratio\", {'dpi_ratio': mpl.ratio});\n",
       "            }\n",
       "            fig.send_message(\"refresh\", {});\n",
       "        }\n",
       "\n",
       "    this.imageObj.onload = function() {\n",
       "            if (fig.image_mode == 'full') {\n",
       "                // Full images could contain transparency (where diff images\n",
       "                // almost always do), so we need to clear the canvas so that\n",
       "                // there is no ghosting.\n",
       "                fig.context.clearRect(0, 0, fig.canvas.width, fig.canvas.height);\n",
       "            }\n",
       "            fig.context.drawImage(fig.imageObj, 0, 0);\n",
       "        };\n",
       "\n",
       "    this.imageObj.onunload = function() {\n",
       "        this.ws.close();\n",
       "    }\n",
       "\n",
       "    this.ws.onmessage = this._make_on_message_function(this);\n",
       "\n",
       "    this.ondownload = ondownload;\n",
       "}\n",
       "\n",
       "mpl.figure.prototype._init_header = function() {\n",
       "    var titlebar = $(\n",
       "        '<div class=\"ui-dialog-titlebar ui-widget-header ui-corner-all ' +\n",
       "        'ui-helper-clearfix\"/>');\n",
       "    var titletext = $(\n",
       "        '<div class=\"ui-dialog-title\" style=\"width: 100%; ' +\n",
       "        'text-align: center; padding: 3px;\"/>');\n",
       "    titlebar.append(titletext)\n",
       "    this.root.append(titlebar);\n",
       "    this.header = titletext[0];\n",
       "}\n",
       "\n",
       "\n",
       "\n",
       "mpl.figure.prototype._canvas_extra_style = function(canvas_div) {\n",
       "\n",
       "}\n",
       "\n",
       "\n",
       "mpl.figure.prototype._root_extra_style = function(canvas_div) {\n",
       "\n",
       "}\n",
       "\n",
       "mpl.figure.prototype._init_canvas = function() {\n",
       "    var fig = this;\n",
       "\n",
       "    var canvas_div = $('<div/>');\n",
       "\n",
       "    canvas_div.attr('style', 'position: relative; clear: both; outline: 0');\n",
       "\n",
       "    function canvas_keyboard_event(event) {\n",
       "        return fig.key_event(event, event['data']);\n",
       "    }\n",
       "\n",
       "    canvas_div.keydown('key_press', canvas_keyboard_event);\n",
       "    canvas_div.keyup('key_release', canvas_keyboard_event);\n",
       "    this.canvas_div = canvas_div\n",
       "    this._canvas_extra_style(canvas_div)\n",
       "    this.root.append(canvas_div);\n",
       "\n",
       "    var canvas = $('<canvas/>');\n",
       "    canvas.addClass('mpl-canvas');\n",
       "    canvas.attr('style', \"left: 0; top: 0; z-index: 0; outline: 0\")\n",
       "\n",
       "    this.canvas = canvas[0];\n",
       "    this.context = canvas[0].getContext(\"2d\");\n",
       "\n",
       "    var backingStore = this.context.backingStorePixelRatio ||\n",
       "\tthis.context.webkitBackingStorePixelRatio ||\n",
       "\tthis.context.mozBackingStorePixelRatio ||\n",
       "\tthis.context.msBackingStorePixelRatio ||\n",
       "\tthis.context.oBackingStorePixelRatio ||\n",
       "\tthis.context.backingStorePixelRatio || 1;\n",
       "\n",
       "    mpl.ratio = (window.devicePixelRatio || 1) / backingStore;\n",
       "\n",
       "    var rubberband = $('<canvas/>');\n",
       "    rubberband.attr('style', \"position: absolute; left: 0; top: 0; z-index: 1;\")\n",
       "\n",
       "    var pass_mouse_events = true;\n",
       "\n",
       "    canvas_div.resizable({\n",
       "        start: function(event, ui) {\n",
       "            pass_mouse_events = false;\n",
       "        },\n",
       "        resize: function(event, ui) {\n",
       "            fig.request_resize(ui.size.width, ui.size.height);\n",
       "        },\n",
       "        stop: function(event, ui) {\n",
       "            pass_mouse_events = true;\n",
       "            fig.request_resize(ui.size.width, ui.size.height);\n",
       "        },\n",
       "    });\n",
       "\n",
       "    function mouse_event_fn(event) {\n",
       "        if (pass_mouse_events)\n",
       "            return fig.mouse_event(event, event['data']);\n",
       "    }\n",
       "\n",
       "    rubberband.mousedown('button_press', mouse_event_fn);\n",
       "    rubberband.mouseup('button_release', mouse_event_fn);\n",
       "    // Throttle sequential mouse events to 1 every 20ms.\n",
       "    rubberband.mousemove('motion_notify', mouse_event_fn);\n",
       "\n",
       "    rubberband.mouseenter('figure_enter', mouse_event_fn);\n",
       "    rubberband.mouseleave('figure_leave', mouse_event_fn);\n",
       "\n",
       "    canvas_div.on(\"wheel\", function (event) {\n",
       "        event = event.originalEvent;\n",
       "        event['data'] = 'scroll'\n",
       "        if (event.deltaY < 0) {\n",
       "            event.step = 1;\n",
       "        } else {\n",
       "            event.step = -1;\n",
       "        }\n",
       "        mouse_event_fn(event);\n",
       "    });\n",
       "\n",
       "    canvas_div.append(canvas);\n",
       "    canvas_div.append(rubberband);\n",
       "\n",
       "    this.rubberband = rubberband;\n",
       "    this.rubberband_canvas = rubberband[0];\n",
       "    this.rubberband_context = rubberband[0].getContext(\"2d\");\n",
       "    this.rubberband_context.strokeStyle = \"#000000\";\n",
       "\n",
       "    this._resize_canvas = function(width, height) {\n",
       "        // Keep the size of the canvas, canvas container, and rubber band\n",
       "        // canvas in synch.\n",
       "        canvas_div.css('width', width)\n",
       "        canvas_div.css('height', height)\n",
       "\n",
       "        canvas.attr('width', width * mpl.ratio);\n",
       "        canvas.attr('height', height * mpl.ratio);\n",
       "        canvas.attr('style', 'width: ' + width + 'px; height: ' + height + 'px;');\n",
       "\n",
       "        rubberband.attr('width', width);\n",
       "        rubberband.attr('height', height);\n",
       "    }\n",
       "\n",
       "    // Set the figure to an initial 600x600px, this will subsequently be updated\n",
       "    // upon first draw.\n",
       "    this._resize_canvas(600, 600);\n",
       "\n",
       "    // Disable right mouse context menu.\n",
       "    $(this.rubberband_canvas).bind(\"contextmenu\",function(e){\n",
       "        return false;\n",
       "    });\n",
       "\n",
       "    function set_focus () {\n",
       "        canvas.focus();\n",
       "        canvas_div.focus();\n",
       "    }\n",
       "\n",
       "    window.setTimeout(set_focus, 100);\n",
       "}\n",
       "\n",
       "mpl.figure.prototype._init_toolbar = function() {\n",
       "    var fig = this;\n",
       "\n",
       "    var nav_element = $('<div/>')\n",
       "    nav_element.attr('style', 'width: 100%');\n",
       "    this.root.append(nav_element);\n",
       "\n",
       "    // Define a callback function for later on.\n",
       "    function toolbar_event(event) {\n",
       "        return fig.toolbar_button_onclick(event['data']);\n",
       "    }\n",
       "    function toolbar_mouse_event(event) {\n",
       "        return fig.toolbar_button_onmouseover(event['data']);\n",
       "    }\n",
       "\n",
       "    for(var toolbar_ind in mpl.toolbar_items) {\n",
       "        var name = mpl.toolbar_items[toolbar_ind][0];\n",
       "        var tooltip = mpl.toolbar_items[toolbar_ind][1];\n",
       "        var image = mpl.toolbar_items[toolbar_ind][2];\n",
       "        var method_name = mpl.toolbar_items[toolbar_ind][3];\n",
       "\n",
       "        if (!name) {\n",
       "            // put a spacer in here.\n",
       "            continue;\n",
       "        }\n",
       "        var button = $('<button/>');\n",
       "        button.addClass('ui-button ui-widget ui-state-default ui-corner-all ' +\n",
       "                        'ui-button-icon-only');\n",
       "        button.attr('role', 'button');\n",
       "        button.attr('aria-disabled', 'false');\n",
       "        button.click(method_name, toolbar_event);\n",
       "        button.mouseover(tooltip, toolbar_mouse_event);\n",
       "\n",
       "        var icon_img = $('<span/>');\n",
       "        icon_img.addClass('ui-button-icon-primary ui-icon');\n",
       "        icon_img.addClass(image);\n",
       "        icon_img.addClass('ui-corner-all');\n",
       "\n",
       "        var tooltip_span = $('<span/>');\n",
       "        tooltip_span.addClass('ui-button-text');\n",
       "        tooltip_span.html(tooltip);\n",
       "\n",
       "        button.append(icon_img);\n",
       "        button.append(tooltip_span);\n",
       "\n",
       "        nav_element.append(button);\n",
       "    }\n",
       "\n",
       "    var fmt_picker_span = $('<span/>');\n",
       "\n",
       "    var fmt_picker = $('<select/>');\n",
       "    fmt_picker.addClass('mpl-toolbar-option ui-widget ui-widget-content');\n",
       "    fmt_picker_span.append(fmt_picker);\n",
       "    nav_element.append(fmt_picker_span);\n",
       "    this.format_dropdown = fmt_picker[0];\n",
       "\n",
       "    for (var ind in mpl.extensions) {\n",
       "        var fmt = mpl.extensions[ind];\n",
       "        var option = $(\n",
       "            '<option/>', {selected: fmt === mpl.default_extension}).html(fmt);\n",
       "        fmt_picker.append(option)\n",
       "    }\n",
       "\n",
       "    // Add hover states to the ui-buttons\n",
       "    $( \".ui-button\" ).hover(\n",
       "        function() { $(this).addClass(\"ui-state-hover\");},\n",
       "        function() { $(this).removeClass(\"ui-state-hover\");}\n",
       "    );\n",
       "\n",
       "    var status_bar = $('<span class=\"mpl-message\"/>');\n",
       "    nav_element.append(status_bar);\n",
       "    this.message = status_bar[0];\n",
       "}\n",
       "\n",
       "mpl.figure.prototype.request_resize = function(x_pixels, y_pixels) {\n",
       "    // Request matplotlib to resize the figure. Matplotlib will then trigger a resize in the client,\n",
       "    // which will in turn request a refresh of the image.\n",
       "    this.send_message('resize', {'width': x_pixels, 'height': y_pixels});\n",
       "}\n",
       "\n",
       "mpl.figure.prototype.send_message = function(type, properties) {\n",
       "    properties['type'] = type;\n",
       "    properties['figure_id'] = this.id;\n",
       "    this.ws.send(JSON.stringify(properties));\n",
       "}\n",
       "\n",
       "mpl.figure.prototype.send_draw_message = function() {\n",
       "    if (!this.waiting) {\n",
       "        this.waiting = true;\n",
       "        this.ws.send(JSON.stringify({type: \"draw\", figure_id: this.id}));\n",
       "    }\n",
       "}\n",
       "\n",
       "\n",
       "mpl.figure.prototype.handle_save = function(fig, msg) {\n",
       "    var format_dropdown = fig.format_dropdown;\n",
       "    var format = format_dropdown.options[format_dropdown.selectedIndex].value;\n",
       "    fig.ondownload(fig, format);\n",
       "}\n",
       "\n",
       "\n",
       "mpl.figure.prototype.handle_resize = function(fig, msg) {\n",
       "    var size = msg['size'];\n",
       "    if (size[0] != fig.canvas.width || size[1] != fig.canvas.height) {\n",
       "        fig._resize_canvas(size[0], size[1]);\n",
       "        fig.send_message(\"refresh\", {});\n",
       "    };\n",
       "}\n",
       "\n",
       "mpl.figure.prototype.handle_rubberband = function(fig, msg) {\n",
       "    var x0 = msg['x0'] / mpl.ratio;\n",
       "    var y0 = (fig.canvas.height - msg['y0']) / mpl.ratio;\n",
       "    var x1 = msg['x1'] / mpl.ratio;\n",
       "    var y1 = (fig.canvas.height - msg['y1']) / mpl.ratio;\n",
       "    x0 = Math.floor(x0) + 0.5;\n",
       "    y0 = Math.floor(y0) + 0.5;\n",
       "    x1 = Math.floor(x1) + 0.5;\n",
       "    y1 = Math.floor(y1) + 0.5;\n",
       "    var min_x = Math.min(x0, x1);\n",
       "    var min_y = Math.min(y0, y1);\n",
       "    var width = Math.abs(x1 - x0);\n",
       "    var height = Math.abs(y1 - y0);\n",
       "\n",
       "    fig.rubberband_context.clearRect(\n",
       "        0, 0, fig.canvas.width, fig.canvas.height);\n",
       "\n",
       "    fig.rubberband_context.strokeRect(min_x, min_y, width, height);\n",
       "}\n",
       "\n",
       "mpl.figure.prototype.handle_figure_label = function(fig, msg) {\n",
       "    // Updates the figure title.\n",
       "    fig.header.textContent = msg['label'];\n",
       "}\n",
       "\n",
       "mpl.figure.prototype.handle_cursor = function(fig, msg) {\n",
       "    var cursor = msg['cursor'];\n",
       "    switch(cursor)\n",
       "    {\n",
       "    case 0:\n",
       "        cursor = 'pointer';\n",
       "        break;\n",
       "    case 1:\n",
       "        cursor = 'default';\n",
       "        break;\n",
       "    case 2:\n",
       "        cursor = 'crosshair';\n",
       "        break;\n",
       "    case 3:\n",
       "        cursor = 'move';\n",
       "        break;\n",
       "    }\n",
       "    fig.rubberband_canvas.style.cursor = cursor;\n",
       "}\n",
       "\n",
       "mpl.figure.prototype.handle_message = function(fig, msg) {\n",
       "    fig.message.textContent = msg['message'];\n",
       "}\n",
       "\n",
       "mpl.figure.prototype.handle_draw = function(fig, msg) {\n",
       "    // Request the server to send over a new figure.\n",
       "    fig.send_draw_message();\n",
       "}\n",
       "\n",
       "mpl.figure.prototype.handle_image_mode = function(fig, msg) {\n",
       "    fig.image_mode = msg['mode'];\n",
       "}\n",
       "\n",
       "mpl.figure.prototype.updated_canvas_event = function() {\n",
       "    // Called whenever the canvas gets updated.\n",
       "    this.send_message(\"ack\", {});\n",
       "}\n",
       "\n",
       "// A function to construct a web socket function for onmessage handling.\n",
       "// Called in the figure constructor.\n",
       "mpl.figure.prototype._make_on_message_function = function(fig) {\n",
       "    return function socket_on_message(evt) {\n",
       "        if (evt.data instanceof Blob) {\n",
       "            /* FIXME: We get \"Resource interpreted as Image but\n",
       "             * transferred with MIME type text/plain:\" errors on\n",
       "             * Chrome.  But how to set the MIME type?  It doesn't seem\n",
       "             * to be part of the websocket stream */\n",
       "            evt.data.type = \"image/png\";\n",
       "\n",
       "            /* Free the memory for the previous frames */\n",
       "            if (fig.imageObj.src) {\n",
       "                (window.URL || window.webkitURL).revokeObjectURL(\n",
       "                    fig.imageObj.src);\n",
       "            }\n",
       "\n",
       "            fig.imageObj.src = (window.URL || window.webkitURL).createObjectURL(\n",
       "                evt.data);\n",
       "            fig.updated_canvas_event();\n",
       "            fig.waiting = false;\n",
       "            return;\n",
       "        }\n",
       "        else if (typeof evt.data === 'string' && evt.data.slice(0, 21) == \"data:image/png;base64\") {\n",
       "            fig.imageObj.src = evt.data;\n",
       "            fig.updated_canvas_event();\n",
       "            fig.waiting = false;\n",
       "            return;\n",
       "        }\n",
       "\n",
       "        var msg = JSON.parse(evt.data);\n",
       "        var msg_type = msg['type'];\n",
       "\n",
       "        // Call the  \"handle_{type}\" callback, which takes\n",
       "        // the figure and JSON message as its only arguments.\n",
       "        try {\n",
       "            var callback = fig[\"handle_\" + msg_type];\n",
       "        } catch (e) {\n",
       "            console.log(\"No handler for the '\" + msg_type + \"' message type: \", msg);\n",
       "            return;\n",
       "        }\n",
       "\n",
       "        if (callback) {\n",
       "            try {\n",
       "                // console.log(\"Handling '\" + msg_type + \"' message: \", msg);\n",
       "                callback(fig, msg);\n",
       "            } catch (e) {\n",
       "                console.log(\"Exception inside the 'handler_\" + msg_type + \"' callback:\", e, e.stack, msg);\n",
       "            }\n",
       "        }\n",
       "    };\n",
       "}\n",
       "\n",
       "// from http://stackoverflow.com/questions/1114465/getting-mouse-location-in-canvas\n",
       "mpl.findpos = function(e) {\n",
       "    //this section is from http://www.quirksmode.org/js/events_properties.html\n",
       "    var targ;\n",
       "    if (!e)\n",
       "        e = window.event;\n",
       "    if (e.target)\n",
       "        targ = e.target;\n",
       "    else if (e.srcElement)\n",
       "        targ = e.srcElement;\n",
       "    if (targ.nodeType == 3) // defeat Safari bug\n",
       "        targ = targ.parentNode;\n",
       "\n",
       "    // jQuery normalizes the pageX and pageY\n",
       "    // pageX,Y are the mouse positions relative to the document\n",
       "    // offset() returns the position of the element relative to the document\n",
       "    var x = e.pageX - $(targ).offset().left;\n",
       "    var y = e.pageY - $(targ).offset().top;\n",
       "\n",
       "    return {\"x\": x, \"y\": y};\n",
       "};\n",
       "\n",
       "/*\n",
       " * return a copy of an object with only non-object keys\n",
       " * we need this to avoid circular references\n",
       " * http://stackoverflow.com/a/24161582/3208463\n",
       " */\n",
       "function simpleKeys (original) {\n",
       "  return Object.keys(original).reduce(function (obj, key) {\n",
       "    if (typeof original[key] !== 'object')\n",
       "        obj[key] = original[key]\n",
       "    return obj;\n",
       "  }, {});\n",
       "}\n",
       "\n",
       "mpl.figure.prototype.mouse_event = function(event, name) {\n",
       "    var canvas_pos = mpl.findpos(event)\n",
       "\n",
       "    if (name === 'button_press')\n",
       "    {\n",
       "        this.canvas.focus();\n",
       "        this.canvas_div.focus();\n",
       "    }\n",
       "\n",
       "    var x = canvas_pos.x * mpl.ratio;\n",
       "    var y = canvas_pos.y * mpl.ratio;\n",
       "\n",
       "    this.send_message(name, {x: x, y: y, button: event.button,\n",
       "                             step: event.step,\n",
       "                             guiEvent: simpleKeys(event)});\n",
       "\n",
       "    /* This prevents the web browser from automatically changing to\n",
       "     * the text insertion cursor when the button is pressed.  We want\n",
       "     * to control all of the cursor setting manually through the\n",
       "     * 'cursor' event from matplotlib */\n",
       "    event.preventDefault();\n",
       "    return false;\n",
       "}\n",
       "\n",
       "mpl.figure.prototype._key_event_extra = function(event, name) {\n",
       "    // Handle any extra behaviour associated with a key event\n",
       "}\n",
       "\n",
       "mpl.figure.prototype.key_event = function(event, name) {\n",
       "\n",
       "    // Prevent repeat events\n",
       "    if (name == 'key_press')\n",
       "    {\n",
       "        if (event.which === this._key)\n",
       "            return;\n",
       "        else\n",
       "            this._key = event.which;\n",
       "    }\n",
       "    if (name == 'key_release')\n",
       "        this._key = null;\n",
       "\n",
       "    var value = '';\n",
       "    if (event.ctrlKey && event.which != 17)\n",
       "        value += \"ctrl+\";\n",
       "    if (event.altKey && event.which != 18)\n",
       "        value += \"alt+\";\n",
       "    if (event.shiftKey && event.which != 16)\n",
       "        value += \"shift+\";\n",
       "\n",
       "    value += 'k';\n",
       "    value += event.which.toString();\n",
       "\n",
       "    this._key_event_extra(event, name);\n",
       "\n",
       "    this.send_message(name, {key: value,\n",
       "                             guiEvent: simpleKeys(event)});\n",
       "    return false;\n",
       "}\n",
       "\n",
       "mpl.figure.prototype.toolbar_button_onclick = function(name) {\n",
       "    if (name == 'download') {\n",
       "        this.handle_save(this, null);\n",
       "    } else {\n",
       "        this.send_message(\"toolbar_button\", {name: name});\n",
       "    }\n",
       "};\n",
       "\n",
       "mpl.figure.prototype.toolbar_button_onmouseover = function(tooltip) {\n",
       "    this.message.textContent = tooltip;\n",
       "};\n",
       "mpl.toolbar_items = [[\"Home\", \"Reset original view\", \"fa fa-home icon-home\", \"home\"], [\"Back\", \"Back to  previous view\", \"fa fa-arrow-left icon-arrow-left\", \"back\"], [\"Forward\", \"Forward to next view\", \"fa fa-arrow-right icon-arrow-right\", \"forward\"], [\"\", \"\", \"\", \"\"], [\"Pan\", \"Pan axes with left mouse, zoom with right\", \"fa fa-arrows icon-move\", \"pan\"], [\"Zoom\", \"Zoom to rectangle\", \"fa fa-square-o icon-check-empty\", \"zoom\"], [\"\", \"\", \"\", \"\"], [\"Download\", \"Download plot\", \"fa fa-floppy-o icon-save\", \"download\"]];\n",
       "\n",
       "mpl.extensions = [\"eps\", \"pdf\", \"png\", \"ps\", \"raw\", \"svg\"];\n",
       "\n",
       "mpl.default_extension = \"png\";var comm_websocket_adapter = function(comm) {\n",
       "    // Create a \"websocket\"-like object which calls the given IPython comm\n",
       "    // object with the appropriate methods. Currently this is a non binary\n",
       "    // socket, so there is still some room for performance tuning.\n",
       "    var ws = {};\n",
       "\n",
       "    ws.close = function() {\n",
       "        comm.close()\n",
       "    };\n",
       "    ws.send = function(m) {\n",
       "        //console.log('sending', m);\n",
       "        comm.send(m);\n",
       "    };\n",
       "    // Register the callback with on_msg.\n",
       "    comm.on_msg(function(msg) {\n",
       "        //console.log('receiving', msg['content']['data'], msg);\n",
       "        // Pass the mpl event to the overriden (by mpl) onmessage function.\n",
       "        ws.onmessage(msg['content']['data'])\n",
       "    });\n",
       "    return ws;\n",
       "}\n",
       "\n",
       "mpl.mpl_figure_comm = function(comm, msg) {\n",
       "    // This is the function which gets called when the mpl process\n",
       "    // starts-up an IPython Comm through the \"matplotlib\" channel.\n",
       "\n",
       "    var id = msg.content.data.id;\n",
       "    // Get hold of the div created by the display call when the Comm\n",
       "    // socket was opened in Python.\n",
       "    var element = $(\"#\" + id);\n",
       "    var ws_proxy = comm_websocket_adapter(comm)\n",
       "\n",
       "    function ondownload(figure, format) {\n",
       "        window.open(figure.imageObj.src);\n",
       "    }\n",
       "\n",
       "    var fig = new mpl.figure(id, ws_proxy,\n",
       "                           ondownload,\n",
       "                           element.get(0));\n",
       "\n",
       "    // Call onopen now - mpl needs it, as it is assuming we've passed it a real\n",
       "    // web socket which is closed, not our websocket->open comm proxy.\n",
       "    ws_proxy.onopen();\n",
       "\n",
       "    fig.parent_element = element.get(0);\n",
       "    fig.cell_info = mpl.find_output_cell(\"<div id='\" + id + \"'></div>\");\n",
       "    if (!fig.cell_info) {\n",
       "        console.error(\"Failed to find cell for figure\", id, fig);\n",
       "        return;\n",
       "    }\n",
       "\n",
       "    var output_index = fig.cell_info[2]\n",
       "    var cell = fig.cell_info[0];\n",
       "\n",
       "};\n",
       "\n",
       "mpl.figure.prototype.handle_close = function(fig, msg) {\n",
       "    var width = fig.canvas.width/mpl.ratio\n",
       "    fig.root.unbind('remove')\n",
       "\n",
       "    // Update the output cell to use the data from the current canvas.\n",
       "    fig.push_to_output();\n",
       "    var dataURL = fig.canvas.toDataURL();\n",
       "    // Re-enable the keyboard manager in IPython - without this line, in FF,\n",
       "    // the notebook keyboard shortcuts fail.\n",
       "    IPython.keyboard_manager.enable()\n",
       "    $(fig.parent_element).html('<img src=\"' + dataURL + '\" width=\"' + width + '\">');\n",
       "    fig.close_ws(fig, msg);\n",
       "}\n",
       "\n",
       "mpl.figure.prototype.close_ws = function(fig, msg){\n",
       "    fig.send_message('closing', msg);\n",
       "    // fig.ws.close()\n",
       "}\n",
       "\n",
       "mpl.figure.prototype.push_to_output = function(remove_interactive) {\n",
       "    // Turn the data on the canvas into data in the output cell.\n",
       "    var width = this.canvas.width/mpl.ratio\n",
       "    var dataURL = this.canvas.toDataURL();\n",
       "    this.cell_info[1]['text/html'] = '<img src=\"' + dataURL + '\" width=\"' + width + '\">';\n",
       "}\n",
       "\n",
       "mpl.figure.prototype.updated_canvas_event = function() {\n",
       "    // Tell IPython that the notebook contents must change.\n",
       "    IPython.notebook.set_dirty(true);\n",
       "    this.send_message(\"ack\", {});\n",
       "    var fig = this;\n",
       "    // Wait a second, then push the new image to the DOM so\n",
       "    // that it is saved nicely (might be nice to debounce this).\n",
       "    setTimeout(function () { fig.push_to_output() }, 1000);\n",
       "}\n",
       "\n",
       "mpl.figure.prototype._init_toolbar = function() {\n",
       "    var fig = this;\n",
       "\n",
       "    var nav_element = $('<div/>')\n",
       "    nav_element.attr('style', 'width: 100%');\n",
       "    this.root.append(nav_element);\n",
       "\n",
       "    // Define a callback function for later on.\n",
       "    function toolbar_event(event) {\n",
       "        return fig.toolbar_button_onclick(event['data']);\n",
       "    }\n",
       "    function toolbar_mouse_event(event) {\n",
       "        return fig.toolbar_button_onmouseover(event['data']);\n",
       "    }\n",
       "\n",
       "    for(var toolbar_ind in mpl.toolbar_items){\n",
       "        var name = mpl.toolbar_items[toolbar_ind][0];\n",
       "        var tooltip = mpl.toolbar_items[toolbar_ind][1];\n",
       "        var image = mpl.toolbar_items[toolbar_ind][2];\n",
       "        var method_name = mpl.toolbar_items[toolbar_ind][3];\n",
       "\n",
       "        if (!name) { continue; };\n",
       "\n",
       "        var button = $('<button class=\"btn btn-default\" href=\"#\" title=\"' + name + '\"><i class=\"fa ' + image + ' fa-lg\"></i></button>');\n",
       "        button.click(method_name, toolbar_event);\n",
       "        button.mouseover(tooltip, toolbar_mouse_event);\n",
       "        nav_element.append(button);\n",
       "    }\n",
       "\n",
       "    // Add the status bar.\n",
       "    var status_bar = $('<span class=\"mpl-message\" style=\"text-align:right; float: right;\"/>');\n",
       "    nav_element.append(status_bar);\n",
       "    this.message = status_bar[0];\n",
       "\n",
       "    // Add the close button to the window.\n",
       "    var buttongrp = $('<div class=\"btn-group inline pull-right\"></div>');\n",
       "    var button = $('<button class=\"btn btn-mini btn-primary\" href=\"#\" title=\"Stop Interaction\"><i class=\"fa fa-power-off icon-remove icon-large\"></i></button>');\n",
       "    button.click(function (evt) { fig.handle_close(fig, {}); } );\n",
       "    button.mouseover('Stop Interaction', toolbar_mouse_event);\n",
       "    buttongrp.append(button);\n",
       "    var titlebar = this.root.find($('.ui-dialog-titlebar'));\n",
       "    titlebar.prepend(buttongrp);\n",
       "}\n",
       "\n",
       "mpl.figure.prototype._root_extra_style = function(el){\n",
       "    var fig = this\n",
       "    el.on(\"remove\", function(){\n",
       "\tfig.close_ws(fig, {});\n",
       "    });\n",
       "}\n",
       "\n",
       "mpl.figure.prototype._canvas_extra_style = function(el){\n",
       "    // this is important to make the div 'focusable\n",
       "    el.attr('tabindex', 0)\n",
       "    // reach out to IPython and tell the keyboard manager to turn it's self\n",
       "    // off when our div gets focus\n",
       "\n",
       "    // location in version 3\n",
       "    if (IPython.notebook.keyboard_manager) {\n",
       "        IPython.notebook.keyboard_manager.register_events(el);\n",
       "    }\n",
       "    else {\n",
       "        // location in version 2\n",
       "        IPython.keyboard_manager.register_events(el);\n",
       "    }\n",
       "\n",
       "}\n",
       "\n",
       "mpl.figure.prototype._key_event_extra = function(event, name) {\n",
       "    var manager = IPython.notebook.keyboard_manager;\n",
       "    if (!manager)\n",
       "        manager = IPython.keyboard_manager;\n",
       "\n",
       "    // Check for shift+enter\n",
       "    if (event.shiftKey && event.which == 13) {\n",
       "        this.canvas_div.blur();\n",
       "        // select the cell after this one\n",
       "        var index = IPython.notebook.find_cell_index(this.cell_info[0]);\n",
       "        IPython.notebook.select(index + 1);\n",
       "    }\n",
       "}\n",
       "\n",
       "mpl.figure.prototype.handle_save = function(fig, msg) {\n",
       "    fig.ondownload(fig, null);\n",
       "}\n",
       "\n",
       "\n",
       "mpl.find_output_cell = function(html_output) {\n",
       "    // Return the cell and output element which can be found *uniquely* in the notebook.\n",
       "    // Note - this is a bit hacky, but it is done because the \"notebook_saving.Notebook\"\n",
       "    // IPython event is triggered only after the cells have been serialised, which for\n",
       "    // our purposes (turning an active figure into a static one), is too late.\n",
       "    var cells = IPython.notebook.get_cells();\n",
       "    var ncells = cells.length;\n",
       "    for (var i=0; i<ncells; i++) {\n",
       "        var cell = cells[i];\n",
       "        if (cell.cell_type === 'code'){\n",
       "            for (var j=0; j<cell.output_area.outputs.length; j++) {\n",
       "                var data = cell.output_area.outputs[j];\n",
       "                if (data.data) {\n",
       "                    // IPython >= 3 moved mimebundle to data attribute of output\n",
       "                    data = data.data;\n",
       "                }\n",
       "                if (data['text/html'] == html_output) {\n",
       "                    return [cell, data, j];\n",
       "                }\n",
       "            }\n",
       "        }\n",
       "    }\n",
       "}\n",
       "\n",
       "// Register the function which deals with the matplotlib target/channel.\n",
       "// The kernel may be null if the page has been refreshed.\n",
       "if (IPython.notebook.kernel != null) {\n",
       "    IPython.notebook.kernel.comm_manager.register_target('matplotlib', mpl.mpl_figure_comm);\n",
       "}\n"
      ],
      "text/plain": [
       "<IPython.core.display.Javascript object>"
      ]
     },
     "metadata": {},
     "output_type": "display_data"
    },
    {
     "data": {
      "text/html": [
       "<img src=\"data:image/png;base64,iVBORw0KGgoAAAANSUhEUgAAA8AAAALQCAYAAABfdxm0AAAgAElEQVR4XuzdCdg3Y9k/8NMakeVBskaStCDKlrKkspUoVCRtXoqK8uqtvO2KSOkt7QuRJUSKqEjZKUpUJPvyt+RBqCz/45rX8/TcvNwz9++eua+Z6zPH8R79PeaaOc/POcfx/L9mfjOzhY0AAQIECBAgQIAAAQIECBQgMFsBPWqRAAECBAgQIECAAAECBAiEAOwiIECAAAECBAgQIECAAIEiBATgIsasSQIECBAgQIAAAQIECBAQgF0DBAgQIECAAAECBAgQIFCEgABcxJg1SYAAAQIECBAgQIAAAQICsGuAAAECBAgQIECAAAECBIoQEICLGLMmCRAgQIAAAQIECBAgQEAAdg0QIECAAAECBAgQIECAQBECAnARY9YkAQIECBAgQIAAAQIECAjArgECBAgQIECAAAECBAgQKEJAAC5izJokQIAAAQIECBAgQIAAAQHYNUCAAAECBAgQIECAAAECRQgIwEWMWZMECBAgQIAAAQIECBAgIAC7BggQIECAAAECBAgQIECgCAEBuIgxa5IAAQIECBAgQIAAAQIEBGDXAAECBAgQIECAAAECBAgUISAAFzFmTRIgQIAAAQIECBAgQICAAOwaIECAAAECBAgQIECAAIEiBATgIsasSQIECBAgQIAAAQIECBAQgF0DBAgQIECAAAECBAgQIFCEgABcxJg1SYAAAQIECBAgQIAAAQICsGuAAAECBAgQIECAAAECBIoQEICLGLMmCRAgQIAAAQIECBAgQEAAdg0QIECAAAECBAgQIECAQBECAnARY9YkAQIECBAgQIAAAQIECAjArgECBAgQIECAAAECBAgQKEJAAC5izJokQIAAAQIECBAgQIAAAQHYNUCAAAECBAgQIECAAAECRQgIwEWMWZMECBAgQIAAAQIECBAgIAC7BggQIECAAAECBAgQIECgCAEBuIgxa5IAAQIECBAgQIAAAQIEBGDXAAECBAgQIECAAAECBAgUISAAFzFmTRIgQIAAAQIECBAgQICAAOwaIECAAAECBAgQIECAAIEiBATgIsasSQIECBAgQIAAAQIECBAQgF0DBAgQIECAAAECBAgQIFCEgABcxJg1SYAAAQIECBAgQIAAAQICsGuAAAECBAgQIECAAAECBIoQEICLGLMmCRAgQIAAAQIECBAgQEAAdg0QIECAAAECBAgQIECAQBECAnARY9YkAQIECBAgQIAAAQIECAjArgECBAgQIECAAAECBAgQKEJAAC5izJokQIAAAQIECBAgQIAAAQHYNUCAAAECBAgQIECAAAECRQgIwEWMWZMECBAgQIAAAQIECBAgIAC7BggQIECAAAECBAgQIECgCAEBuIgxa5IAAQIECBAgQIAAAQIEBGDXAAECBAgQIECAAAECBAgUISAAFzFmTRIgQIAAAQIECBAgQICAAOwaIECAAAECBAgQIECAAIEiBATgIsasSQIECBAgQIAAAQIECBAQgF0DBAgQIECAAAECBAgQIFCEgABcxJg1SYAAAQIECBAgQIAAAQICsGuAAAECBAgQIECAAAECBIoQEICLGLMmCRAgQIAAAQIECBAgQEAAdg0QIECAAAECBAgQIECAQBECAnARY9YkAQIECBAgQIAAAQIECAjArgECBAgQIECAAAECBAgQKEJAAC5izJokQIAAAQIECBAgQIAAAQHYNUCAAAECBAgQIECAAAECRQgIwEWMWZMECBAgQIAAAQIECBAgIAC7BggQIECAAAECBAgQIECgCAEBuIgxa5IAAQIECBAgQIAAAQIEBGDXAAECBAgQIECAAAECBAgUISAAFzFmTRIgQIAAAQIECBAgQICAAOwaIECAAAECBAgQIECAAIEiBATgIsasSQIECBAgQIAAAQIECBAQgF0DBAgQIECAAAECBAgQIFCEgABcxJg1SYAAAQIECBAgQIAAAQICsGuAAAECBAgQIECAAAECBIoQEICLGLMmCRAgQIAAAQIECBAgQEAAdg0QIECAAAECBAgQIECAQBECAnARY9YkAQIECBAgQIAAAQIECAjArgECBAgQIECAAAECBAgQKEJAAC5izJokQIAAAQIECBAgQIAAAQHYNUCAAAECBAgQIECAAAECRQgIwEWMWZMECBAgQIAAAQIECBAgIAC7BggQIECAAAECBAgQIECgCAEBuIgxa5IAAQIECBAgQIAAAQIEBGDXAAECBAgQIECAAAECBAgUISAAFzFmTRIgQIAAAQIECBAgQICAAOwaIECAAAECBAgQIECAAIEiBATgIsasSQIECBAgQIAAAQIECBAQgF0DBAgQIECAAAECBAgQIFCEgABcxJg1SYAAAQIECBAgQIAAAQICsGuAQEsCDz/88MMtHdphCRAgQIAAAQIjCcw222xywEiCFvdVwIXf18mpO3sBATj7ESmQAAECBAgUKyAAFzv64hsXgIu/BAC0JSAAtyXruAQIECBAgMCoAgLwqILW91VAAO7r5NSdvYAAnP2IFEiAAAECBIoVEICLHX3xjQvAxV8CANoSEIDbknVcAgQIECBAYFQBAXhUQev7KiAA93Vy6s5eQADOfkQKJECAAAECxQoIwMWOvvjGBeDiLwEAbQkIwG3JOi4BAgQIECAwqoAAPKqg9X0VEID7Ojl1Zy8gAGc/IgUSIECAAIFiBQTgYkdffOMCcPGXAIC2BATgtmQdlwABAgQIEBhVQAAeVdD6vgoIwH2dnLqzFxCAsx+RAgkQIECAQLECAnCxoy++cQG4+EsAQFsCAnBbso5LgAABAgQIjCogAI8qaH1fBQTgvk5O3dkLCMDZj0iBBAgQIECgWAEBuNjRF9+4AFz8JQCgLQEBuC1ZxyVAgAABAgRGFRCARxW0vq8CAnBfJ6fu7AUE4OxHpEACBAgQIFCsgABc7OiLb1wALv4SANCWgADclqzjEiBAgAABAqMKCMCjClrfVwEBuK+TU3f2AgJw9iNSIAECBAgQKFZAAC529MU3LgAXfwkAaEtAAG5L1nEJECBAgACBUQUE4FEFre+rgADc18mpO3sBATj7ESmQAAECBAgUKyAAFzv64hsXgIu/BAC0JSAAtyXruAQIECBAgMCoAgLwqILW91VAAO7r5NSdvYAAnP2IFEiAAAECBIoVEICLHX3xjQvAxV8CANoSEIDbknVcAgQIECBAYFQBAXhUQev7KiAA93Vy6s5eQADOfkQKJECAAAECxQoIwMWOvvjGBeDiLwEAbQkIwG3JOi4BAgQIECAwqoAAPKqg9X0VEID7Ojl1Zy8gAGc/IgUSIECAAIFiBQTgYkdffOMCcPGXAIC2BATgtmQdlwABAgQIEBhVQAAeVdD6vgoIwH2dnLqzFxCAsx+RAgkQIECAQLECAnCxoy++cQG4+EsAQFsCAnBbso5LgAABAgQIjCogAI8qaH1fBQTgvk5O3dkLCMDZj0iBBAgQIECgWAEBuNjRF9+4AFz8JQCgLQEBuC1ZxyVAgAABAgRGFRCARxW0vq8CAnBfJ6fu7AUE4OxHpEACBAgQIFCsgABc7OiLb1wALv4SANCWgADclqzjEiBAgAABAqMKCMCjClrfVwEBuK+TU3f2AgJw9iNSIAECBAgQKFZAAC529MU3LgAXfwkAaEtAAG5L1nEJECBAgACBUQUE4FEFre+rgADc18mpO3sBATj7ESmQAAECBAgUKyAAFzv64hsXgIu/BAC0JSAAtyXruAQIECBAgMCoAgLwqILW91VAAO7r5NSdvYAAnP2IFEiAAAECBIoVEICLHX3xjQvAxV8CANoSEIDbknVcAgQIECBAYFQBAXhUQev7KiAA93Vy6s5eQADOfkQKJECAAAECxQoIwMWOvvjGBeDiLwEAbQkIwG3JOi4BAgQIECAwqoAAPKqg9X0VEID7Ojl1Zy8gAGc/IgUSIECAAIFiBQTgYkdffOMCcPGXAIC2BATgtmQdlwABAgQIEBhVQAAeVdD6vgoIwH2dnLqzFxCAsx+RAgkQIECAQLECAnCxoy++cQG4+EsAQFsCAnBbso5LgAABAgQIjCogAI8qaH1fBQTgvk5O3dkLCMDZj0iBBAgQIECgWAEBuNjRF9+4AFz8JQCgLQEBuC1ZxyVAgAABAgRGFRCARxW0vq8CAnBfJ6fu7AUE4OxHpEACBAgQIFCsgABc7OiLb1wALv4SANCWgADclqzjEiBAgAABAqMKCMCjClrfVwEBuK+TU3f2AgJw9iNSIAECBAgQKFZAAC529MU3LgAXfwkAaEtAAG5L1nEJECBAgACBUQUE4FEFre+rgADc18mpO3sBATj7ESmQAAECBAgUKyAAFzv64hsXgIu/BAC0JSAAtyXruAQIECBAgMCoAgLwqILW91VAAO7r5NSdvYAAnP2IFEiAAAECBIoVEICLHX3xjQvAxV8CANoSEIDbknVcAgQIECBAYFQBAXhUQev7KiAA93Vy6s5eQADOfkQKJECAAAECxQoIwMWOvvjGBeDiLwEAbQkIwG3JOi4BAgQIECAwqoAAPKqg9X0VEID7Ojl1Zy8gAGc/IgUSIECAAIFiBQTgYkdffOMCcPGXAIC2BATgtmQdlwABAgQIEBhVQAAeVdD6vgoIwH2dnLqzFxCAsx+RAgkQIECAQLECAnCxoy++cQG4+EsAQFsCAnBbso5LgAABAgQIjCogAI8qaH1fBQTgvk5O3dkLCMDZj0iBBAgQIECgWAEBuNjRF9+4AFz8JQCgLQEBuC1ZxyVAgAABAgRGFRCARxW0vq8CAnBfJ6fu7AUE4OxHpEACBAgQIFCsgABc7OiLb1wALv4SANCWgADclqzjEiBAgAABAqMKCMCjClrfVwEBuK+TU3f2AgJw9iNSIAECBAgQKFZAAC529MU3LgAXfwkAaEtAAG5L1nEJECBAgACBUQUE4FEFre+rgADc18mpO3sBATj7ESmQAAECBAgUKyAAFzv64hsXgIu/BAC0JSAAtyXruAQIECBAgMCoAgLwqILW91VAAO7r5NSdvYAAnP2IFEiAAAECBIoVEICLHX3xjQvAxV8CANoSEIDbknVcAgQIECBAYFQBAXhUQev7KiAA93Vy6s5eQADOfkQKJECAAAECxQoIwMWOvvjGBeDiLwEAbQkIwG3JOi4BAgQIECAwqoAAPKqg9X0VEID7Ojl1Zy8gAGc/IgUSIECAAIFiBQTgYkdffOMCcPGXAIC2BATgtmQdlwABAgQIEBhVQAAeVdD6vgoIwH2dnLqzFxCAsx+RAgkQIECAQLECAnCxoy++cQG4+EsAQFsCAnBbso5LgAABAgQIjCogAI8qaH1fBQTgvk5O3dkLCMDZj0iBBAgQIECgWAEBuNjRF9+4AFz8JQCgLQEBuC1ZxyVAgAABAgRGFRCARxW0vq8CAnBfJ6fu7AUE4OxHpEACBAgQIFCsgABc7OiLb1wALv4SANCWgADclqzjEiBAgAABAqMKCMCjClrfVwEBuK+TU3f2AgJw9iNSIAECBAgQKFZAAC529MU3LgAXfwkAaEtAAG5L1nEJECBAgACBUQUE4FEFre+rgADc18mpO3sBATj7ESmQAAECBAgUKyAAFzv64hsXgIu/BAC0JSAAtyXruAQIECBAgMCoAgLwqILW91VAAO7r5NSdvYAAnP2IFEiAAAECBIoVEICLHX3xjQvAxV8CANoSEIDbknVcAgQIECBAYFQBAXhUQev7KiAA93Vy6s5eQADOfkQKJECAAAECxQoIwMWOvvjGBeDiLwEAbQkIwG3JOi4BAgQIECAwqoAAPKqg9X0VEID7Ojl1Zy8gAGc/IgUSIECAAIFiBQTgYkdffOMCcPGXAIC2BATgtmQdlwABAgQIEBhVQAAeVdD6vgoIwH2dnLqzFxCAsx+RAgkQIECAQLECAnCxoy++cQG4+EsAQFsCAnBbso5LgAABAgQIjCogAI8qaH1fBQTgvk5O3dkLCMDZj0iBBAgQIECgWAEBuNjRF9+4AFz8JQCgLQEBuC1ZxyVAgAABAgRGFRCARxW0vq8CAnBfJ6fu7AUE4OxHpEACBAgQIFCsgABc7OiLb1wALv4SANCWgADclqzjEiBAgAABAqMKCMCjClrfVwEBuK+TU3f2AgJw9iNSIAECBAgQKFZAAC529MU3LgAXfwkAaEtAAG5L1nEJECBAgACBUQUE4FEFre+rgADc18mpO3sBATj7ESmQAAECBAgUKyAAFzv64hsXgIu/BAC0JSAAtyXruAQIECBAgMCoAgLwqILW91VAAO7r5NSdvYAAnP2IFEiAAAECBIoVEICLHX3xjQvAxV8CANoSEIDbknVcAgQIECBAYFQBAXhUQev7KiAA93Vy6s5eQADOfkQKJECAAAECxQoIwMWOvvjGBeDiLwEAbQkIwG3JOi4BAgQIECAwqoAAPKqg9X0VEID7Ojl1Zy8gAGc/IgUSIECAAIFiBQTgYkdffOMCcPGXAIC2BATgtmQdlwABAgQIEBhVQAAeVdD6vgoIwH2dnLqzFxCAsx+RAgkQIECAQLECAnCxoy++cQG4+EsAQFsCAnBbso5LgAABAgQIjCogAI8qaH1fBQTgvk5O3dkLCMDZj0iBBAgQIECgWAEBuNjRF9+4AFz8JQCgLQEBuC1ZxyVAgAABAgRGFRCARxW0vq8CAnBfJ6fu7AUE4OxHpEACBAgQIFCsgABc7OiLb1wALv4SANCWgADclqzjEiBAgAABAqMKCMCjClrfVwEBuK+TU3f2AgJw9iNSIAECBAgQKFZAAC529MU3LgAXfwkAaEtAAG5L1nEJECBAgACBUQUE4FEFre+rgADc18mpO3sBATj7ESmQAAECBAgUKyAAFzv64hsXgIu/BAC0JSAAtyXruAQIECBAgMCoAgLwqILW91VAAO7r5NSdvYAAnP2IFEiAAAECBIoVEICLHX3xjQvAxV8CANoSEIDbknVcAgQIECBAYFQBAXhUQev7KiAA93Vy6s5eQADOfkQKJECAAAECxQoIwMWOvvjGBeDiLwEAbQkIwG3JOi4BAgQIECAwqoAAPKqg9X0VEID7Ojl1Zy8gAGc/IgUSIECAAIFiBQTgYkdffOMCcPGXAIC2BATgtmQdlwABAgQIEBhVQAAeVdD6vgoIwH2dnLqzFxCAsx+RAgkQIECAQLECAnCxoy++cQG4+EsAQFsCAnBbso5LgAABAgQIjCogAI8qaH1fBQTgvk5O3dkLCMDZj0iBBAgQIECgWAEBuNjRF9+4AFz8JQCgLQEBuC1ZxyVAgAABAgRGFRCARxW0vq8CAnBfJ6fu7AUE4OxHpEACBAgQIFCsgABc7OiLb1wALv4SANCWgADclqzjEiBAgAABAqMKCMCjClrfVwEBuK+TU3f2AgJw9iNSIAECBAgQKFZAAC529MU3LgAXfwkAaEtAAG5L1nEJECBAgACBUQUE4FEFre+rgADc18mpO3sBATj7ESmQAAECBAgUKyAAFzv64hsXgIu/BAC0JSAAtyXruAQIECBAgMCoAgLwqILW91VAAO7r5NSdvYAAnP2IFEiAAAECBIoVEICLHX3xjQvAxV8CANoSEIDbknVcAgQIECBAYFQBAXhUQev7KiAA93Vy6s5eQADOfkQKJECAAAECxQoIwMWOvvjGBeDiLwEAbQkIwG3JOi4BAgQIECAwqoAAPKqg9X0VEID7Ojl1Zy8gAGc/IgUSIECAAIFiBQTgYkdffOMCcPGXAIC2BATgtmQdlwABAgQIEBhVQAAeVdD6vgoIwH2dnLqzFxCAsx+RAgkQIECAQLECAnCxoy++cQG4+EsAQFsCAnBbso5LgAABAgQIjCogAI8qaH1fBQTgvk5O3dkLCMDZj0iBBAgQIECgWAEBuNjRF9+4AFz8JQCgLQEBuC1ZxyVAgAABAgRGFRCARxW0vq8CAnBfJ6fu7AUE4OxHpEACBAgQIFCsgABc7OiLb1wALv4SANCWgADclqzjEiBAgAABAqMKCMCjClrfVwEBuK+TU3f2AgJw9iNSIAECBAgQKFZAAC529MU3LgAXfwkAaEtAAG5L1nEJECBAgACBUQUE4FEFre+rgADc18mpO3sBATj7ESmQAAECBAgUKyAAFzv64hsXgIu/BAC0JSAAtyXruAQIECBAgMCoAgLwqILW91VAAO7r5NSdvYAAnP2IFEiAAAECBIoVEICLHX3xjQvAxV8CANoSEIDbknVcAgQIECBAYFQBAXhUQev7KiAA93Vy6s5eQADOfkQKJECAAAECxQoIwMWOvvjGBeDiLwEAbQkIwG3JOi4BAgQIECAwqoAAPKqg9X0VEID7Ojl1Zy8gAGc/IgUSIECAAIFiBQTgYkdffOMCcPGXAIC2BATgtmQdlwABAgQIEBhVQAAeVdD6vgoIwH2dnLqzFxCAsx+RAgkQIECAQLECAnCxoy++cQG4+EsAQFsCAnBbso5LgAABAgQIjCogAI8qaH1fBQTgvk5O3dkLCMDZj0iBBAgQIECgWAEBuNjRF9+4AFz8JQCgLQEBuC1ZxyVAgAABAgRGFRCARxW0vq8CAnBfJ6fu7AUE4OxHpEACBAgQIFCsgABc7OiLb1wALv4SANCWgADclqzjEiBAgAABAqMKCMCjClrfVwEBuK+TU3f2AgJw9iNSIAECBAgQKFZAAC529MU3LgAXfwkAaEtAAG5L1nEJECBAgACBUQUE4FEFre+rgADc18mpO3sBATj7ESmQAAECBAgUKyAAFzv64hsXgIu/BAC0JSAAtyXruAQIECBAgMCoAgLwqILW91VAAO7r5NSdvYAAnP2IFEiAAAECBIoVEICLHX3xjQvAxV8CANoSEIDbknVcAgQIECBAYFQBAXhUQev7KiAA93Vy6s5eQADOfkQKJECAAAECxQoIwMWOvvjGBeDiLwEAbQkIwG3JOi4BAgQIECAwqoAAPKqg9X0VEID7Ojl1Zy8gAGc/IgUSIECAAIFiBQTgYkdffOMCcPGXAIC2BATgtmQdlwABAgQIEBhVQAAeVdD6vgoIwH2dnLqzFxCAsx+RAgkQIECAQLECAnCxoy++cQG4+EsAQFsCAnBbso5LgAABAgQIjCogAI8qaH1fBQTgvk5O3dkLCMDZj0iBBAgQIECgWAEBuNjRF9+4AFz8JQCgLQEBuC1ZxyVAgAABAgRGFRCARxW0vq8CAnBfJ6fu7AUE4OxHpEACBAgQIFCsgABc7OiLb1wALv4SANCWgADclqzjEiBAgAABAqMKCMCjClrfVwEBuK+TU3f2AgJw9iNSIAECBAgQKFZAAC529MU3LgAXfwkAaEtAAG5L1nEJECBAgACBUQUE4FEFre+rgADc18mpO3sBATj7ESmQAAECBAgUKyAAFzv64hsXgIu/BAC0JSAAtyXruAQIECBAgMCoAgLwqILW91VAAO7r5NSdvYAAnP2IFEiAAAECBIoVEICLHX3xjQvAxV8CANoSEIDbknVcAgQIECBAYFQBAXhUQev7KiAA93Vy6s5eQADOfkQKJECAAAECxQoIwMWOvvjGBeDiLwEAbQkIwG3JOi4BAgQIECAwqoAAPKqg9X0VEID7Ojl1Zy8gAGc/IgUSIECAAIFiBQTgYkdffOMCcPGXAIC2BATgtmQdlwABAgQIEBhVQAAeVdD6vgoIwH2dnLqzFxCAsx+RAgkQIECAQLECAnCxoy++cQG4+EsAQFsCAnBbso5LgAABAgQIjCogAI8qaH1fBQTgvk5O3dkLCMDZj0iBBAgQIECgWAEBuNjRF9+4AFz8JQCgLQEBuC1ZxyVAgAABAgRGFRCARxW0vq8CAnBfJ6fu7AUE4OxHpEACBAgQIFCsgABc7OiLb1wALv4SANCWgADclqzjEiBAgAABAqMKCMCjClrfVwEBuK+TU3f2AgJw9iNSIAECBAgQKFZAAC529MU3LgAXfwkAaEtAAG5L1nEJECBAgACBUQUE4FEFre+rgADc18mpO3sBATj7ESmQAAECBAgUKyAAFzv64hsXgIu/BAC0JSAAtyXruAT6L7DMMsvErbfeGg8//HAst9xy8fa3vz3e8573xNxzz93/5nRAgEAvBATgXoxJkS0ICMAtoDokgSQgALsOCBB4PIHZZ5+9Cr+zbnPMMUcVhtdZZ53YZptt4pWvfGU86UlPgkiAAIFWBATgVlgdtAcCAnAPhqTEfgoIwP2cm6oJtC1w8803xxJLLFHrNIsttlisttpqscUWW8TrX//6eOpTn1prnZ0IECAwnoAAPJ6Qfz9UAQF4qJPV15QLCMBTPgIFEMhS4OSTT47NNttsQrXNN9988axnPSte9rKXxRve8IZ4wQteELPN5q/yCWFaRKBwAQG48Aug4Pb9rVnw8LXeroAA3K6voxPoq8AnP/nJ2GeffcaU/+53vzv+8Y9/xJlnnhl/+ctf4p///Get9tJj08suu2z12PTrXve62HTTTWOeeeaptdZOBAiULSAAlz3/krsXgEuevt5bFRCAW+V1cAK9FUgh9ZRTThlT/8UXXxyrrrrqzD9LIfj73/9+td+ll14a06dPr93voosuWh0r3WVOd4nrPm5d+wR2JEBgEAIC8CDGqIkJCAjAE0CzhEAdAQG4jpJ9CJQl8NBDD8W0adPGBNqnPOUp8be//S3S3dzH2+6666744Q9/GMcff3xccMEFcdNNN0U6Vp1t3nnnjZVWWik23HDDKhCvscYakV7CZSNAoGwBAbjs+ZfcvQBc8vT13qqAANwqr4MT6KXA73//+1hllVXG1P7yl788Tj311Eb9PPjgg3H22WfHkUceGb/85S/jyiuvrB6hrrOloL300kvH2muvXT02vfnmm0cKyTYCBMoSEIDLmrdu/y0gALsaCLQkIAC3BOuwBHos8JWvfCV23XXXMR189KMfjY985CMjd3X11VfHEUccMfOx6XRXue6W7kqnx6bT49npLnEKyDYCBIYtIG9G3HwAACAASURBVAAPe766e3wBAdjVQaAlAQG4JViHJdBjgR133DEOO+ywMR2cdtppsfHGG096V3fffXecdNJJcdxxx8V5550XN9xwQ6PHpldcccXYYIMNqkC85ppremx60ifkgASmVkAAnlp/Z586AQF46uydeeACAvDAB6w9AhMQWGGFFeKqq66auTL9FvfOO++M9Dvgtrf0m+Fzzz23emz6jDPOiCuuuCLuv//+WqdNdaa7wikIb7311vGqV70q5p9//lpr7USAQJ4CAnCec1FV+wICcPvGzlCogABc6OC1TeBxBG6++ebHvJE5fcf3N7/5zZSZXXfdddVj0+nbxOn3yXfccUftWhZeeOHq98wzHptOn2OyESDQHwEBuD+zUunkCgjAk+vpaARmCgjALgYCBGYVOPbYY6uXTs267bbbbvHFL34xG6h77723emw61Zoem77++usjvXCrzpa+P/zMZz4z1l9//eqx6fSSrSd6s3WdY9qHAIH2BATg9mwdOW8BATjv+aiuxwICcI+Hp3QCLQjsueeecdBBB405crr7msJirlt6bDp9dil9kzg9Nv3nP/857rvvvlrlpseml1xyyeqx6a222iq23HLLTh71rlWcnQgQCAHYRVCqgABc6uT13bqAANw6sRMQ6JXAWmutFeeff/6Ymq+55pro26PDN954Y/U74h//+MdxySWXxO233157DgsttFA8//nPj1e+8pXVb4mf/exnp/9PeO31diRAYPIEBODJs3Skfgn4W6df81JtjwQE4B4NS6kEWhZId00XWGCBeOCBB2aeKb1UKv0Gt+9b6u0nP/lJ9dj0OeecU/VU97Hp1Ptcc81V/Zb4W9/61mO+kdx3G/UTyFlAAM55OmprU0AAblPXsYsWEICLHr/mCYwROPPMM6vfxs66bbfddtWd1KFt6bHp3/72t9Vj07/4xS/iT3/6U6TfFtfZ0t3g9B8K1lhjjfje9773mJeG1TmGfQgQqCcgANdzstfwBATg4c1UR5kICMCZDEIZBDIQ+PSnPx0f/OAHx1Ry8MEHx+67755Bde2XkN6AfdRRR1Uv2Lr44ovjtttuG/ekt9xySzz1qU8ddz87ECAwMQEBeGJuVvVfQADu/wx1kKmAAJzpYJRFYAoEtthii+o3s7NuF110Uay++upTUM3Un/Lyyy+P5zznOTMLSS/MSneOZ2zp7dGzPi4+9RWrgMDwBATg4c1UR/UEBOB6TvYi0FhAAG5MZgGBQQqkYLfooovG3/72t5n9zTfffHHnnXfGnHPO2W3P550XcfXVEcstF7HWWt2ee5azHXbYYbHjjjtWf7LSSitFCsQveclL4qyzzpr5Z3/84x+nrD4nJlCCgABcwpT1+H8JCMCuCwItCQjALcE6LIGeCVx22WXx3Oc+d0zVG220Ufz85z/vrpM994z42tci/v73sefcY4+Iz32uuzoeOdMuu+wSX/3qV6t/eutb3xrf+MY3YvHFF49bb721+rMf/ehHke6a2wgQaE9AAG7P1pHzFhCA856P6nosIAD3eHhKJzCJAincveMd7xhzxH322Sc+/vGPT+JZnuBQ6U7voz6/9Ji9H364m1oeOUv6FNKll15a/dM3v/nNWG+99ao7wTO29GmladOmdVqTkxEoTUAALm3i+p0hIAC7Fgi0JCAAtwTrsAR6JvCWt7wlvvOd74yp+pRTTqm+hdv6lu78HnRQvdN0FILTo98p3D78yPnSo85nn312dSc4bSuvvHKku+Y2AgTaFRCA2/V19HwFBOB8Z6OyngsIwD0foPIJTJLAs571rLjiiitmHi196if9HnjBBRecpDM8wWGe8pSIe+6pf54OQvDJJ58cm222WVVT+m30//t//y923nnn6jHotL397W+Pr3/96/VrticBAhMSEIAnxGbRAAQE4AEMUQt5CgjAec5FVQS6FEjhLv22ddZtlVVWiUsuuaT9MtILr9Zeu9l5OgjAH/7wh+NTn/pUVderX/3qOOGEE6o3QqcXYaXt29/+duy0007N6rY3AQKNBQTgxmQWDERAAB7IILWRn4AAnN9MVESga4Ef/vCHsdVWW405bXoB1CGHHNJ+KUcdFfH61zc7zzLLRFx7bbM1DffecMMN44wzzqhW7bffftUd30UWWWTmUf785z/Hiiuu2PCodidAoKmAANxUzP5DERCAhzJJfWQnIABnNxIFEehcYK+99ooDDjhgzHnTJ4B22GGH9muZyB3gVFWLd4H/9a9/VY9+33fffVX/v/71r6vHwV/1qldV/7zYYovFLbfcEukxcRsBAu0KCMDt+jp6vgL+hsl3NirruYAA3PMBKp/AJAi8+MUvrl7wNOt21VVXxfLLLz8JR69xiIkEyRYD8AUXXBBrrrlmVfjcc88d06dPj4997GPxmc98pvqz17zmNXH88cfXaMwuBAiMKiAAjypofV8FBOC+Tk7d2QsIwNmPSIEEWhW4//77q7ud+/3zn7FGRFwUEfsvsUTccMMN3d3hXGyxiNtuq9/n6qtHXJQqbWf7/Oc/H3ukbw9HxLrrrhtnnXVWvPSlL41f/epX1Z999rOfjfe///3tnNxRCRAYIyAAuyBKFRCAS528vlsXEIBbJ3YCAlkL/Gu++WLOe++NWf+iTV/bnW2BBSKmT++u9iZ3gVu8+5sa3mabbeIHP/hB1Xt6PPyTn/xk9R8J0n8sSFu6W77OOut0Z+NMBAoWEIALHn7hrQvAhV8A2m9PQABuz9aRCWQvUCd0thw2ZxrVqWXGzi3WlL77u9RSS8VNN91UnS29ICy9IXtG4H3Sk55UPRKd/tdGgED7AgJw+8bOkKeAAJznXFQ1AAEBeABD1AKBiQjUDZxd3gmuU1OL4Tcx/vWvf41nPOMZM0XTJ6IOPfTQmY88r7feejMfhZ4IuzUECDQTEICbedl7OAIC8HBmqZPMBATgzAaiHAJdCNQJmrPW0XLoHNPyE9XWQR3f+9734k1velNVUvrMUfrc0dZbbz3zpVd77733zJdhdTEq5yBQuoAAXPoVUG7/AnC5s9d5ywICcMvADk8gN4EnPznikc/71C5tt90ivvjF2rtPyo5rrBHxl79ErLBCqy+8enStu+66a3zlK1+p/ninnXaKb33rW/G0pz0t0p3gtJ144okzP4c0KX06CAECTyggALtAShUQgEudvL5bFxCAWyd2AgJ5CTS9+5uqT2H0wgvz6qOlalZZZZX4/e9/Xx3961//emywwQbVneAZ22233RaLLLJIS2d3WAIEHi0gALsmShUQgEudvL5bFxCAWyd2AgL5COy0U8R3v9u8nu22izjyyObrerbizjvvjGnTpkV6EVbaLrvssjj//POrO8Fpe/aznx2XX355z7pSLoF+CwjA/Z6f6icuIABP3M5KAk8oIAC7QAgUJJDuZF55ZfOGr702Ypllmq/r2YpTTjklNt1006rqFIRvvfXW2GWXXao7wWl729veFt/4xjd61pVyCfRbQADu9/xUP3EBAXjidlYSEIBdAwQI/K/A+utHnHlmc40OXj7VvKjJX7HPPvtU3/xN2xZbbBE/+tGP4rnPfW51Jzht6ffAb3nLWyb/xI5IgMDjCgjALo5SBQTgUiev79YF3AFundgJCOQjcN55EWuv3ayeo4+O2GabZmt6uvdGG20Up59+elX9pz/96dh5553H/N73T3/6UzzrWc/qaXfKJtBPAQG4n3NT9egCAvDoho5A4P8UEIBdGAQKE2jyEqz0Pdz0JuYCtgceeCAWXHDBuPfee6tuzzzzzLjrrruqO8FpW2yxxeKWW26J2Zr4FeCmRQJtCwjAbQs7fq4CAnCuk1FX7wUE4N6PUAMEmgnsuWfEQQeNv2buuSP+8Y/x9xvIHhdddFG88IUvrLqZa665Yvr06fGJT3yiuhOcti233DJ++MMfDqRbbRDoj4AA3J9ZqXRyBQTgyfV0NAIzBQRgFwOB8gQeWmutmP388x+/8YUWivjb34qCOfjgg+M973lP1fPaa68d55xzTqy//vrVneC07b///rHXXnsVZaJZAjkICMA5TEENUyEgAE+FunMWISAAFzFmTRIYI3DuuefGWeusEztHxFNm/TfzzBOx664Rn/tccWLbbbddHJ1+7xwR73vf+2LfffetHom+//77qz8766yzYt111y3ORcMEplpAAJ7qCTj/VAkIwFMl77yDFxCABz9iDRJ4jMCBBx4Y73//+6s/f1FELB8Rr9p999jh4IOL1Erf/V1mmWXihhtuqPo/7rjjYskll6zuBKftSU96UvVIdPpfGwEC3QoIwN16O1s+AgJwPrNQycAEBOCBDVQ7BGoIvPa1r61C3qzb2WefHeuss06N1cPb5ZprronllltuZmM333xzHH744dWd4LS9+MUvjl//+tfDa1xHBHogIAD3YEhKbEVAAG6F1UEJRAjArgICZQmku51LLLFE9UbjGVvpdziPOOKI2H777SuOZz7zmXHFFVfErP+R4D//8z9jv/32K+tC0S2BTAQE4EwGoYzOBQTgzsmdsBQBAbiUSeuTwP8K/OUvf6lC3qzbeuutF7/61a+KJXrXu94VX/7yl6v+3/zmN8e3v/3tMf+R4IQTTohXv/rVxfponMBUCgjAU6nv3FMpIABPpb5zD1pAAB70eDVH4DEChx56aBXyZt323nvv+MxnPlOs1mqrrRaXXHJJ1f/Xvva12Gijjcb8R4Jbb701Fl100WJ9NE5gKgUE4KnUd+6pFBCAp1LfuQctIAAPeryaI/AYgf/4j/+oQt6s24knnhivetWritS66667YuGFF46HHnqo6v8Pf/hDXHjhhTP/I8FKK60Uf/zjH4u00TSBHAQE4BymoIapEBCAp0LdOYsQEICLGLMmCcwUeN7znleFvFm3ku9wnnrqqfHKV76y4khB+Lbbbotdd9115n8keMtb3hLf+ta3XEEECEyRgAA8RfBOO+UCAvCUj0ABQxUQgIc6WX0ReKzAnXfeWYW8WbfS73B+5CMfiY9//OMVyeabbx4nnXRSzPofCb7xjW/E2972NpcTAQJTJCAATxG80065gAA85SNQwFAFBOChTlZfBB4rcPLJJ8dmm2025l+89a1vjW9+85vdc514YsTll0esvHLEFL5gauONN46f//znVf/77rtv7LLLLjFt2rSZHpdffnk8+9nP7t7HGQkQqAQEYBdCqQICcKmT13frAgJw68ROQCAbgQ9/+MPxqU99akw9KfymENzZtsUWESefHPHIb26r884+e8Smm0acdFJnZaQTPfDAA7HQQgvF3//+9+q8v/zlL+Oee+6p7gSnbZFFFon0ePhss/n/hnQ6GCcjMIuAAOxyKFXA3zylTl7frQsIwK0TOwGBbAQ23HDDOOOMM8bUk17wlB6D7mRbcsmIm256/FMtsUTEjTd2Uko6yW9+85tYY401qvPNNddcMX369PjkJz9Z3QlOW3oxWHpBmI0AgakTEICnzt6Zp1ZAAJ5af2cfsIAAPODhao3ALAL/+te/YsEFF4z77rtv5p92eocz3fn98Y/Hn0m6+9rRneAvfvGL8e53v7uqaa211opzzz03Nthgg+pOcNrSp6HSJ6JsBAhMnYAAPHX2zjy1AgLw1Po7+4AFBOABD1drBGYRuOCCC2LNNdccY9LpHc4mjxE//HAns3v9618fRx11VHWuPffcswq8s/5Hgl/96lex3nrrdVKLkxAg8H8LCMCujFIFBOBSJ6/v1gUE4NaJnYBAFgJf+MIX4r3vfe+YWjq7w5keI95yy/oOJ5zQyYuxlllmmbj++uuruo499thYeumlqzvBaZt77rmrR6LnmWee+nXbkwCBSRcQgCed1AF7IiAA92RQyuyfgADcv5mpmMBEBLbddts45phjxizt7A7nBhukN0zVL3v99SMe9Vvl+ovr7XnttdfG05/+9Jk733zzzXHEEUdUd4LTts4668TZZ59d72D2IkCgNQEBuDVaB85cQADOfEDK66+AANzf2amcQF2Bhx9+uLq7eeMsL5jq9A7nootG3H573XLT65cjbrut/v4T2PP73/9+vPGNb6xWrrDCCnHllVfG6173uupOcNre//73x2c/+9kJHNkSAgQmU0AAnkxNx+qTgADcp2mptVcCAnCvxqVYAhMSuPrqq2P55Zcfs7bTO5zzzx/xyKeGajUw33wR99xTa9eJ7rTbbrvFl770pWr5jjvuGN/5zndiySWXjHQnOG3HH398vOY1r5no4a0jQGCSBATgSYJ0mN4JCMC9G5mC+yIgAPdlUuokMHGBww8/PL6www6xcUSkv1BPi4j1u7zD+ZSnNAu0KTDffffEG66x8gUveEFcfPHF1Z5f/epXY+ONN67uBM/YbrnllnjqU59a40h2IUCgTQEBuE1dx85ZQADOeTpq67WAANzr8SmewPgCe+4ZD3z+8zHno96s/GBEzNHVJ4cyewT67rvvjoUWWigeeuihyu/SSy+tvgmc7gSnbcUVV4w///nP49vagwCB1gUE4NaJnSBTAQE408Eoq/8CAnD/Z6gDAo8rkN5ofP75Twy0xBIRs/w2uBXNF74w4qKL6h96jTUiLryw/v4N9zzttNPiFa94RbUqBeHbb7893vnOd1Z3gtO20047xbe//e2GR7U7AQJtCAjAbag6Zh8EBOA+TEmNvRQQgHs5NkUTGF8gvc34oIPG3y/t0fad4G9+M+Ltb69XS9rrG9+IeNvb6u/fcM+PfvSj8bGPfaxatdlmm8WPf/zjeP7zn1/dCU7b17/+9Xh7k3obnt/uBAjUFxCA61vZc1gCAvCw5qmbjAQE4IyGoRQCkykwW4O/OmefPeLB9FB0i1uTeh71uPZkV/Xyl788fvazn1WH/dSnPlXd/Z02bVqkt2Wn7bLLLouVV155sk/reAQITEBAAJ4AmiWDEGjwt/gg+tUEgc4EBODOqJ2IQHcCL35xRNNv2J5wQsSrX91ejemx5t/8Zvzjr756s8elxz/imD0eeOCBWHjhheOeR94yfcYZZ8S9995b3QlOWwrCt956a8ye/qOAjQCBKRcQgKd8BAqYIgEBeIrgnXb4AgLw8GeswwIFmtxtncHzmc9E7L13u1jjfQ6pg88f/fa3v43VU8iOiDnnnDOmT58e++67b3UnOG1bbLFF/OhHP2rXwdEJEKgtIADXprLjwAQE4IENVDv5CAjA+cxCJQQmRWDLLSNOPLH5odq+Azyjose7E9zynd8Zp/+f//mf2H333at/XHPNNeO8886LjTbaKE4//fTqzz796U/HBz7wgeZ+VhAg0IqAANwKq4P2QEAA7sGQlNhPAQG4n3NTNYHHFZjI3d90sJZ/d/uYetOLsX73u4hVVmn1hVePPu8b3vCGOPLII6s/fu973xv7779/9Sbo9Bh02s4888x4yUte4gIjQCATAQE4k0Eoo3MBAbhzcicsRUAALmXS+ixC4LzzItZeu3mrLX92qHlB7a1Ydtll47rrrqtOcMwxx8Ryyy0XL3rRi6p/nmuuuapHouedd972CnBkAgQaCQjAjbjsPCABAXhAw9RKXgICcF7zUA2BkQS23z7iiCOaH6Lru7/NK5yUFSn4pgA8Y7vxxhvj6KOPru4Ep23ttdeOc845Z1LO5SAECEyOgAA8OY6O0j8BAbh/M1NxTwQE4J4MSpkE6gi84hURp51WZ89/71PQ3d/06HN6BDptyy+/fFx11VWx7bbbVneC0/a+970vDjjggGZ+9iZAoFUBAbhVXgfPWEAAzng4Suu3gADc7/mpnsAYgc9+NuI//7MZSiF3fxNKevlVeglW2nbYYYc49NBDY+mll450Jzhtxx13XGy11VbN/OxNgECrAgJwq7wOnrGAAJzxcJTWbwEBuN/zUz2Bxwg0eQnW5ptHnHRSMYjp80fpM0hpO+SQQ2KTTTap7gTP2G6++eZYfPHFi/HQKIE+CAjAfZiSGtsQEIDbUHVMAtWLXwu6/WPiBEoQeMYzIv761/E7nX32iAcfHH+/gexx9913V297fuihh6qOfve731X/l+4Ep+2Zz3xmXHHFFQPpVhsEhiMgAA9nljppJiAAN/OyN4HaAgJwbSo7EuiPwNxzR/zrX49fb7pL/EgQ7E9To1X685//PDbeeOPqIAsuuGDccccdsdtuu1V3gtP25je/Ob7zne+MdhKrCRCYdAEBeNJJHbAnAgJwTwalzP4JCMD9m5mKCYwncM8998QtT3lKPCMiHvMXaHrk96qrxjvE4P79xz/+8fjIRz5S9ZUefT755JNj1VVXre4Cp+1rX/tavOMd7xhc3xoi0HcBAbjvE1T/RAUE4InKWUdgHAEB2CVCYHgCs97t3CMiVk9BeNVVY/uLLx5eszU7euUrXxmnnnpqtfcnPvGJ6oVYCy+8cPoZSPVnf/jDH+I5z3lOzaPZjQCBrgQE4K6knSc3AQE4t4moZzACAvBgRqkRAjMFZr3bOeMP06O+u+yyS5FKDz74YBV20++A0/aLX/wi/vnPf1Z3gtOW/t1tt90Ws6ffRdsIEMhKQADOahyK6VBAAO4Q26nKEhCAy5q3bssQSMHupz/96ZhmL7nkklhllVXKAHhUl6n31VZbrfrTOeaYI6ZPnx777bdfdSc4bZtvvnmcVNDbsIu8CDTdWwEBuLejU/iIAgLwiICWE3g8AQHYtUFgWALpbue0adPirrvumtnYAgssUL30KYW/Ercvf/nL8a53vatq/YUvfGFccMEF8bKXvay6E5y2fffdN/7rv/6rRBo9E8heQADOfkQKbElAAG4J1mEJCMCuAQLDEkgvdUovd5p1S79/PeWUU4bVaINutt9++zjiiCOqFe95z3vigAMOqD6J9Pe//736s1/+8pfx0pe+tMER7UqAQFcCAnBX0s6Tm4AAnNtE1DMYAQF4MKPUCIFKIP3W953vfOcYjfSb4H322adYoeWWWy6uueaaqv+jjz46nvGMZ1R3gtM211xzVY9EzzvvvMX6aJxAzgICcM7TUVubAgJwm7qOXbSAAFz0+DU/QIEddtghDj/88DGdpbdCb7TRRt13e+KJEZdfHrHyyhGvfnX354+IG264IZZeeumZ507//IMf/KC6E5y2tdZaK84999wpqc1JCRAYX0AAHt/IHsMUEICHOVddZSAgAGcwBCUQmESB5ZdfPq6++uqZR0y/+73zzjtj/vnnn8SzjHOoLbaIOPnkiIce+veO6Q3Lm24a0fHLptId3+22266qI90J/utf/1r9c/rztO25555x4IEHdmfjTAQINBIQgBtx2XlAAgLwgIaplbwEBOC85qEaAqMI3HjjjbHUUkuNOcTqq68eF1100SiHbbZ2ySUjbrrp8dcssUTEjTc2O+YIe6c7vQcffHB1hPRb4MMOOyyWWWaZ6s5w2o499tjYeuutRziDpQQItCkgALep69g5CwjAOU9Hbb0WEIB7PT7FExgjkB7t3Wabbcb82e677z4zALbOle78/vjH459m8807uxOcfus74z8ApLdBb7bZZtWd4BnbzTffHIsvvvj4NduDAIEpERCAp4TdSTMQEIAzGIIShikgAA9zrroqU2CPPfaIz3/+82OaP/LII2c+Aty6ymwN/rp++OHWy7nnnnuqtz2nT0OlLX0P+NJLL63uBKdthRVWiCuvvLL1OpyAAIGJCwjAE7ezst8CDf5G7XejqifQtYAA3LW48xFoT2DNNdesvnE763bdddeNeQlUa2dPL7zacsv6hz/hhNZfjJW+85u+95u2Gd9Cfve73x3pTnDadtxxx/jud79bv2Z7EiDQuYAA3Dm5E2YiIABnMghlDE9AAB7eTHVUpsC9994bCy64YDzwwAMzAZZddtmZn/9pXeW1r4047rj6p0m/uz322Pr7T2DPT3ziE/Hf//3f1coZ30JebbXVqjvBafvqV78aO++88wSObAkBAl0JCMBdSTtPbgICcG4TUc9gBATgwYxSI4ULnHHGGbHhhhuOUXjDG94QRxxxRDcyq64a8bvf1T/XKqukZ5Lr7z+BPTfZZJP46U9/Wq1M30JOL8RaeOGF46FH3k6dHod+7nOfO4EjW0KAQFcCAnBX0s6Tm4AAnNtE1DMYAQF4MKPUSOEC++67b3zoQx8ao/DFL34xdtttt25knv3siD/9qf65Vlop4o9/rL9/wz3T736nTZsWd911V7UyfQs53R1Pd4LTln4bfPvtt8fs6fNMNgIEshUQgLMdjcJaFhCAWwZ2+HIFBOByZ6/zAQkcc0xsvvPOsdidd8aq6WVPEZF+2fqb/faLF/znf3bTaGYB+He/+12smu5KR0T6FvL06dNj//33r+4Epy29DfrHdd5Y3Y2esxAg8DgCArBLo1QBAbjUyeu7dQEBuHViJyDQrsDee8dD++8f6S/KWf+yTO9YfiiFv733jvjMZ9qtIR09swB8yCGHxDvf+c6q7zXWWCMuvPDC2Hjjjas7wWn71Kc+FR/84Afbd3EGAgRGEhCAR+KzuMcCAnCPh6f0vAUE4LznozoCTyhwzDER2247PtLRR0c86vvA4y9quMdSS0XceGP9RS0/Ar3DDjvE4YcfXtWT3vx84IEHVo89//3vf6/+LP1mev31169frz0JEJgSAQF4StidNAMBATiDIShhmAIC8DDnqqtCBOabL+Lee8dv9slPjngk+I2/8wT3mHfeiPvvr7+45QC8/PLLx9VXX13Vc9RRR8Uzn/nM6k5w2uacc87qkegnJxcbAQJZCwjAWY9HcS0KCMAt4jp02QICcNnz132PBa67LmLZZes3cO21EcssU3//Jns2rSUde6ON0pupmpyl9r433nhjLJXuSD+yXX/99XHcccdVd4LTlr6XfN5559U+nh0JEJg6AQF46uydeWoFBOCp9Xf2AQsIwAMertaGLfCsZ0VccUX9HtP3cD/2sfr7N9nz4osjXvCCJisiQRkpsgAAIABJREFUvvGNiLe9rdmamnsfc8wxse0jj4Y//elPr+4Ev/71r6/uBKftve99bxx00EE1j2Y3AgSmUkAAnkp9555KAQF4KvWde9ACAvCgx6u5IQvM1vCvxnXXjTjrrHZEJnIH+OH0mq52thRwv/CFL1QHf+Mb31j9FniZZZaJdCc4bSkgv+51r2vn5I5KgMCkCgjAk8rpYD0SaPi3fI86UyqBKRYQgKd4AE5PYCICW24ZceKJzVa2+MhxVcg660Sce269mlZfPeKii+rtO4G9XvSiF1VvfU7bl770pdhiiy0i3QmesaVHpJdYYokJHNkSAgS6FhCAuxZ3vlwEBOBcJqGOwQkIwIMbqYZKEGh69zeZtPjIcUVe943UT3pSs5dlNZxnesvzggsuGA8++GC18uKLL47LLrusuhOctvRyrKuuuqrhUe1OgMBUCQjAUyXvvFMtIABP9QScf7ACAvBgR6uxoQrsu2/Ehz7UvLsWHzmeWcwHPhCx336PX9vii0fcfHPz2husOP3002OjdLc7IhZYYIG444474j3veU91Jzht6fNIhx12WIMj2pUAgakUEICnUt+5p1JAAJ5KfecetIAAPOjxam6IAukO6j//2ayzadMibr+92ZqJ7p3uBH/uc2Mfh15hhYhPf7r9bxFHxCc/+cnYZ599qupf8YpXxE9/+tN4wQteUN0JTtshhxwSu+yyy0S7s44AgY4FBOCOwZ0uGwEBOJtRKGRoAgLw0Caqn0ELTORlUwkk/TZ3rbW6pUm1ptC9yCLtfX7p/+ho0003jVNOOaX6Nx/72Mdijz32iIUWWigeeuih6s9+97vfxfOf//xuLZyNAIEJCwjAE6azsOcCAnDPB6j8fAUE4HxnozICjxH4/Ocj9tijOUwXjz83r2rSV6SQO23atJg+fXp17NNOOy0efvjh6k5w2tJvg9Mj0bPPPvukn9sBCRBoR0AAbsfVUfMXEIDzn5EKeyogAPd0cMouU2DHHSOa/n71Va9q/sbonur+/ve/j1VWWaWqPoXcO++8Mw488MDqTnDaNtlkkzj55JN72p2yCZQpIACXOXddRwjArgICLQkIwC3BOiyBNgT22ivigAOaHbmQu78J5Stf+UrsuuuulU/63e9vfvObePnLXx4/+9nPqj/7xCc+ER/+8Ieb+dmbAIEpFRCAp5TfyadQQACeQnynHraAADzs+epuYALnnRex9tr1m1p33Yizzqq/f8/3fNOb3hTf+973qi522223OOigg2LhhReOe+65p/qzX/ziF7Hhhhv2vEvlEyhLQAAua966/beAAOxqINCSgADcEqzDEmhLYM45Ix75xu24pyjo7m+yeMYznhF//etfK5bvf//7sdJKK8Xqq69e/fMcc8xR/TZ4vvnmG5fNDgQI5CMgAOczC5V0KyAAd+vtbAUJCMAFDVurwxDYc8+Igw4av5f0sqz0OaJCtptuuimWXHLJmd1ee+21ccIJJ8Tuu+9e/dkLX/jCuOCCCwrR0CaB4QgIwMOZpU6aCQjAzbzsTaC2gABcm8qOBPIRSI9Bp8ehH29LnzxKnz4qaPvBD34Q22yzTdXxMsssEykAv+ENb4gjjzyy+rP3vOc98fn0Fm0bAQK9EhCAezUuxU6igAA8iZgORWBWAQHY9UCgfwK33XZbfHexxWLniHjKrOXPP3/EO95R1J3fGe3vueee1W9+0/b617++egT66U9/ehWE03b00UfPDMj9m7iKCZQrIACXO/vSOxeAS78C9N+agADcGq0DE2hN4MQTT4wtt9yyOv6LImL59Nbj17wmPnD88a2dM/cDr7XWWnH++edXZX7xi1+M17zmNdWd4BnbDTfcMOYR6dz7UR8BAv8rIAC7EkoVEIBLnby+WxcQgFsndgICky6w9957x/777z/muIceemiktyCXuN17772x4IILxgMPPFC1nz5/9Oc//7m6E5y25ZZbbubLsUr00TOBPgsIwH2entpHERCAR9GzlsATCAjALg8C/RN4yUteEr/+9a/HFP6Xv/ylegtyidsvf/nL2GCDDarW559//vjb3/4W6ZHodCc4bdtvv/3MzyOV6KNnAn0WEID7PD21jyIgAI+iZy0BAdg1QGAwAv/4xz+qu53pf2dsT3va0+LGG29Mjwp222d6EdeFF0YssEBECqCzPHLcZSH77rtvfOhDH6pOufHGG8dpp50Wa6yxRnUnOG1f/vKXY9ddd+2yJOciQGCSBATgSYJ0mN4JdPw3eu98FExgwgLuAE+YzkICUyJwzjnnxLrrrjvm3FtvvXUce+yx3dWTPsV0yCER998/9pxPe1rEwQdHPPI25q4K2nzzzeMnP/lJdbqPfOQj8f73vz8WWmihePCR7yVfcsklscoqq3RVjvMQIDCJAgLwJGI6VK8EBOBejUuxfRIQgPs0LbUSiDjggANir732GkNx4IEHVo/8drKlTyw98rKpxz3f3ntHfOYznZTz0EMPxSKLLBJ33nlndb5TTz01Zp999upOcNoWWGCBuOOOO2KOOebopB4nIUBgcgUE4Mn1dLT+CAjA/ZmVSnsmIAD3bGDKLV5gq622ih/+8IdjHM4999xIb0FufUsh+5FPDY17rqOP7uRO8B/+8Id43vOeV5WTgm8KwulzSOlOcNpe+cpXximnnDJuuXYgQCBPAQE4z7moqn0BAbh9Y2coVEAALnTw2u6lwMMPPxyLL7543HrrrTPrn2eeeWL69Okx99xzt9/TnHNGPPJY8bgnW2ediLPPHne3UXf42te+Fv/xH/9RHWa11VaL3/72t1XoTXeC0/bxj3889tlnn1FPYz0BAlMkIABPEbzTTrmAADzlI1DAUAUE4KFOVl9DFLjyyitjxRVXHNPaS1/60khvQW59Sy+8WnvtZqe59trWX4z15je/OdInoNL2rne9K77whS/EwgsvHHfffXf1Zz//+c9jo402ala3vQkQyEZAAM5mFArpWEAA7hjc6coREIDLmbVO+y/w3e9+N3baaacxjfzXf/1XpLcgt76l3x0fcECz0/z2t+m2bLM1Dfd+5jOfGekTUGk74ogj4jnPeU51Jzht6Xe/6e74fPPN1/CodidAIBcBATiXSaijawEBuGtx5ytGQAAuZtQaHYDAzjvvHF//+tfHdPKjH/0otthii/a723TTiKa/pW35DvAtt9wS6RNQM7ZrrrkmTjrppOpOcNrSp5AuTJ9pshEg0FsBAbi3o1P4iAIC8IiAlhN4PAEB2LVBoD8Cz33uc+Ouyy6LRSLi9oi4Pv3v7bfHtGnT2m9iww0jzjij/nnmnz/ikceQ6y9qtudxxx0Xr33ta6tFSy+9dFx33XWx/fbbV3eC0/bud7+7eiTaRoBAfwUE4P7OTuWjCQjAo/lZTeBxBQRgFweBfgjc/c53xh8OOSRm/RXuxbPNFqu9970Rn/tc+000DcArrxxx2WWt1vW+970vPvdI79ttt10ceeSRsdxyy0W6E5y2o446KrbddttWa3BwAgTaFRCA2/V19HwFBOB8Z6OyngsIwD0foPLLEBjv27vp3597brsWTQPwBhtEnH56qzWtvfbacV56OVdEHHzwwbH11ltXd4JnbNdff30stdRSrdbg4AQItCsgALfr6+j5CgjA+c5GZT0XEIB7PkDlD1+g7rd399ij3TvBmQXg++67LxZccMH417/+VV0DF110UaS3ZKc7wWl7+tOfHldfffXwrw8dEhi4gAA88AFr73EFBGAXB4GWBATglmAdlsBkCcwxR8RDD41/tLnmivjnP8ffb6J7ZBaAzzzzzFh//fWrbtJbnu+8885Ij0SnO8Fpe+Mb3xiHH374RLu1jgCBTAQE4EwGoYzOBQTgzsmdsBQBAbiUSeuzlwLp80Yf+lDt0v9x5pnxpJe8pPb+jXbcbLOIk0+uvyS9NfonP6m/f8M9P/3pT8cHP/jBatXLXvay+NnPfhYvfOELqzvBafvSl74U73znOxse1e4ECOQmIADnNhH1dCUgAHcl7TzFCQjAxY1cw30SmHfeiPvvr13xTrPPHleus068+MUvrv5vnXXWicUWW6z2+ifc8TWviTjhhPrH2nLLiB/+sP7+DfdMn3768Y9/XK367//+79hrr71ioYUWigcffLD6s4svvjhWXXXVhke1OwECuQkIwLlNRD1dCQjAXUk7T3ECAnBxI9dwXwSuuy5i2WUbVbtfRHzgUSue9axnzQzEKRSvtNJKMdtsE/hrtel3gDfZpNkd4wadPvTQQ7HooovG3/72t2rVT3/605hzzjmrO8FpW2CBBeKOO+6IOdLj4zYCBHotIAD3enyKH0FgAn9Tj3A2SwkUJCAAFzRsrfZL4LnPbfwZofRA8KfH6XKRRRaJddddtwrF6X9f9KIXxTzzzDO+zZvfHHHooePvN2OPHXeM+O536+/fYM/LLrss0jeR0zb77LNXQTh97zfdCU7bK17xiioU2wgQ6L+AANz/GepgYgIC8MTcrCIwroAAPC6RHQhMjcAE7tJe+o1vxKnTp8dZZ51V/d8tt9wybu1zzTVXrLHGGjPvEqdQvPjiiz923YknRqTHmutu6XHpV7+67t6N9vv6178eO++8c7UmPeacHnfeZJNNZobej33sYzPDcKMD25kAgewEBODsRqKgjgQE4I6gnaY8AQG4vJnruAcCTcPmjJYefnhmcw8//HD89a9/nRmGUyD+wx/+EOnPx9tWWGGFMY9Nr7zyytWd1mgSymucZ7w6Hu/f77TTTvHdR+4upxddpTc/T5s2Le66665qSXoh1ozHoSd6DusIEMhDQADOYw6q6F5AAO7e3BkLERCACxm0Nvsl8PSnR1x7bbOaX/WqiBScn2BLnwo655xzqlB89tlnx3nnnRf33nvvuOdZeOGFqxdqff7KK2PFP/953P1j880jTjpp/P0muMeKK65YffM3belTR8973vNmvvAq/e439Tn//PNP8OiWESCQk4AAnNM01NKlgADcpbZzFSUgABc1bs32RaDJndYZPU3gjuu//vWvuOSSS8bcJb7xxhufUOn6iFjqifZYYomIcY4xyhjSY91Pe9rTZh7i6quvjp/85CczP3m0+uqrz/wU0ijnsZYAgTwEBOA85qCK7gUE4O7NnbEQAQG4kEFrsz8C6Xe249zJfUwz6W3R11wzco/p8ehrr712TCD+/e9/H+mty7Nu6T7zZhEx6zuW08eHLllyyTjvwx+uHp9OL6lq4y3Mxx9/fGy99dZVOUsttVRcd9118aY3vam6E5y23XffvXok2kaAwDAEBOBhzFEXzQUE4OZmVhCoJSAA12KyE4HuBNKnex4VOMc9eYsvnEq/qz333HOrR6bTo9Pp/33PPfdUJW0eEc+JiMsi4n+/yPvvLX2KKD02PeObxGuuueakPJb8/ve/Pw488MDqRNtuu20cddRRsfzyy0e6E5y2I488MrbbbrtxyexAgEA/BATgfsxJlZMvIABPvqkjEqgEBGAXAoGMBM47L2LttZsXNIHHn5uf5H9XPPDAA5HuCs9403QKxumu8Xhbuhuc3tg8IxCn/1166aXHW/aYf59CdQrhaUufPnrd615X3QmesaU7whM5buNCLCBAoBMBAbgTZifJUEAAznAoShqGgAA8jDnqYiACn/xkxD77NGtm1VUjLr642ZpJ3vv6668f89h0+l3xgw+mh6KfeFt22WVnfpM4BeJVVlnlCR+bvu+++2LBBReM9NvltF144YVx1VVXVXeC05aOd80kPAo+Xt3+PQEC3QkIwN1ZO1NeAgJwXvNQzYAEBOABDVMr/RfYa6+IAw5o1ke6+7rMMs3WtLx3ekT6/PPPnxmK05unZ3yi6IlOnd7cvPbaa8+8S7zWWmtFepR6xvarX/0qXvrSl1b/+OQnP7l62/Nee+1V3QlO2xve8IY44ogjWu7O4QkQ6FJAAO5S27lyEhCAc5qGWgYlIAAPapya6bvAYYdF7Lhj7S7uiIgl5p67+g3seuutV/32NX3/tvpmb0ZbuhucvkE843fE6fHp9I3i8bbUx/Of//yZgTjdWd5///2rZRtuuGH84he/iBe96EXVneC0/c///E+8613vGu+w/j0BAj0SEIB7NCylTqqAADypnA5G4N8CArCrgUBGAtddl57jrV3QLhHx1UftPdtss8Xiiy8e6XNAr371q6u7orPeRa198JZ3vOmmm8b8jvg3v/lN9fviutsOO+wQX/nKV6pHomc8bv3b3/42VltttbqHsB8BAj0QEIB7MCQltiIgALfC6qAEvATLNUAgO4Ell4y46aZxy7o7Iv79cPAT7/6Upzwlnv3sZ8fGG29cfTJo5ZVXHvf4Xe9w7733xgUXXDAmFKdHnB9vS5872mqrrWKjjTaqdkmPT6f92/j0UtcWzkeAwL8FBGBXQ6kCAnCpk9d36wLuALdO7AQEmgkcc0z6vs+4ax468sj4+bRp1WeAfv3rX1ePFP/zn/8cd13aYa655orllluuegFVeoHUJptskt1j0+nbw5dffvnMx6ZPP/30MW+b/va3vx3p5Vv7PPLSsBTuTzvttFr924kAgf4ICMD9mZVKJ1dAAJ5cT0cjMFNAAHYxEMhQ4AMfiNhvv8cvbO+9Iz7zmcf8+7/85S9x2GGHxamnnhqXXXZZTJ8+vVZz6bHpxRZbLF7wghfEFltsEW984xtj2rRptdZ2uVN6KVZ6uVbavvzlL8eJJ54Yp5xySvXPH/nIR+KjH/1ol+U4FwECHQgIwB0gO0WWAgJwlmNR1BAEBOAhTFEPgxRId4I/97mIR755W/W4zjoRe+wRsc02tVpOb2NOd4h/9KMfVS+KSr+7TXdW62zpkeKVVlqpesR4xx13jOc973l1lrW6z1vf+tZId37Tlt7+/LWvfW1myE+h/+Uvf3mr53dwAgS6FxCAuzd3xjwEBOA85qCKAQoIwAMcqpaGJZBejHX77RGLLDLy545S+D3zzDPjyCOPrP43PTZ9//331/Kac845q+/srrPOOrHNNtvE5ptvHunPutw+/vGPV3d60/aKV7yiutOdtvS26PT73/RbZxsBAsMSEICHNU/d1BcQgOtb2ZNAIwEBuBGXnQkMTuCaa66pHpv+6U9/GpdeemkVJOts6bHpRRddNFZdddUqDKe3Mqd/bnM79NBD481vfnN1ivQb5quvvrr6f6c3P6c3QNsIEBiegAA8vJnqqJ6AAFzPyV4EGgsIwI3JLCAwaIH0Nubjjjsujj/++OqtzDfccEPtx6bnm2++WHHFFatv9KZAnD7FNJnbL3/5y9hggw2qQ84zzzwz716nb/+mbwDbCBAYnoAAPLyZ6qiegABcz8leBBoLCMCNySwgUJRAemz6nHPOiSOOOCJ+9atfxZVXXhn33XdfLYP0iPTSSy8da6+9drz2ta+tvks899xz11r7f+2U7lanO7+P3lJt6XvHNgIEhicgAA9vpjqqJyAA13OyF4HGAgJwYzILCBQvkD4/9L3vfa96A/Pvf//7uOOOO2qbLLLIIrHKKqvEpptuWn2T+GlPe1rttQ888EB15/fBBx8csyYF4/T7ZBsBAsMTEICHN1Md1RMQgOs52YtAYwEBuDGZBQQIPEogfX84PTJ97LHHVp8pSgH50SH18dDmnXfe6rHp9ddfP7bffvtInzp6oi3dAU6Bd8aW7jBfl14UZiNAYJACAvAgx6qpGgICcA0kuxCYiIAAPBE1awgQGE8g/X44PZp8+umnxxVXXBHpt8V1tjnmmCOWWmqpWHPNNWPrrbeOrbbaqrrrO2NLvwFOvwWesW233XbVW61tBAgMU0AAHuZcdTW+gAA8vpE9CExIQACeEJtFBAg0FLj55pvj8MMPj5NPPjkuueSSuO2222ofYeGFF47nP//5sckmm8RFF11U3WmesR188MGx++671z6WHQkQ6JeAANyveal28gQE4MmzdCQCYwQEYBcEAQJTIZB+z3vCCSdUYfbcc8+tHmNOf9Z0Sy/mWm+99Zousz8BAj0REIB7MihlTrqAADzppA5I4H8FBGBXAgECuQhcfPHF1V3iX/ziF/GnP/0p/v73v49b2t133x3zzz//uPvZgQCBfgoIwP2cm6pHFxCARzd0BAL/p4AA7MIgQCBXgfSYdArEP/nJTyKF41tvvTX9R7sx5T76n3PtRV0ECExMQACemJtV/RcQgPs/Qx1kKiAAZzoYZREg8BiB9Ij0gQceGJ/97Gcj3flNn1Ca9Y3QyAgQGJ6AADy8meqonoAAXM/JXgQaCwjAjcksIECAAAECBDoSEIA7gnaa7AQE4OxGoqChCAjAQ5mkPggQIECAwPAEBODhzVRH9QQE4HpO9iLQWEAAbkxmAQECBAgQINCRgADcEbTTZCcgAGc3EgUNRUAAHsok9UGAAAECBIYnIAAPb6Y6qicgANdzsheBxgICcGMyCwgQIECAAIGOBATgjqCdJjsBATi7kShoKAIC8FAmqQ8CBAgQIDA8AQF4eDPVUT0BAbiek70INBYQgBuTWUCAAAECBAh0JCAAdwTtNNkJCMDZjURBQxEQgIcySX0QIECAAIHhCQjAw5upjuoJCMD1nOxFoLGAANyYzAICBAgQIECgIwEBuCNop8lOQADObiQKGoqAADyUSeqDAAECBAgMT0AAHt5MdVRPQACu52QvAo0FBODGZBYQIECAAAECHQkIwB1BO012AgJwdiNR0FAEBOChTFIfBAgQIEBgeAIC8PBmqqN6AgJwPSd7EWgsIAA3JrOAAAECBAgQ6EhAAO4I2mmyExCAsxuJgoYiIAAPZZL6IECAAAECwxMQgIc3Ux3VExCA6znZi0BjAQG4MZkFBAgQIECAQEcCAnBH0E6TnYAAnN1IFDQUAQF4KJPUBwECBAgQGJ6AADy8meqonoAAXM/JXgQaCwjAjcksIECAAAECBDoSEIA7gnaa7AQE4OxGoqChCAjAQ5mkPggQIECAwPAEBODhzVRH9QQE4HpO9iLQWEAAbkxmAQECBAgQINCRgADcEbTTZCcgAGc3EgUNRUAAHsok9UGAAAECBIYnIAAPb6Y6qicgANdzsheBxgICcGMyCwgQIECAAIGOBATgjqCdJjsBATi7kShoKAIC8FAmqQ8CBAgQIDA8AQF4eDPVUT0BAbiek70INBYQgBuTWUCAAAECBAh0JCAAdwTtNNkJCMDZjURBQxEQgIcySX0QIECAAIHhCQjAw5upjuoJCMD1nOxFoLGAANyYzAICBAgQIECgIwEBuCNop8lOQADObiQKGoqAADyUSeqDAAECBAgMT0AAHt5MdVRPQACu52QvAo0FBODGZBYQIECAAAECHQkIwB1BO012AgJwdiNR0FAEBOChTFIfBAgQIEBgeAIC8PBmqqN6AgJwPSd7EWgsIAA3JrOAAAECBAgQ6EhAAO4I2mmyExCAsxuJgoYiIAAPZZL6IECAAAECwxMQgIc3Ux3VExCA6znZi0BjAQG4MZkFBAgQIECAQEcCAnBH0E6TnYAAnN1IFDQUAQF4KJPUBwECBAgQGJ6AADy8meqonoAAXM/JXgQaCwjAjcksIECAAAECBDoSEIA7gnaa7AQE4OxGoqChCAjAQ5mkPggQIECAwPAEBODhzVRH9QQE4HpO9iLQWEAAbkxmAQECBAgQINCRgADcEbTTZCcgAGc3EgUNRUAAHsok9UGAAAECBIYnIAAPb6Y6qicgANdzsheBxgICcGMyCwgQIECAAIGOBATgjqCdJjsBATi7kShoKAIC8FAmqQ8CBAgQIDA8AQF4eDPVUT0BAbiek70INBYQgBuTWUCAAAECBAh0JCAAdwTtNNkJCMDZjURBQxEQgIcySX0QIECAAIHhCQjAw5upjuoJCMD1nOxFoLGAANyYzAICBAgQIECgIwEBuCNop8lOQADObiQKGoqAADyUSeqDAAECBAgMT0AAHt5MdVRPQACu52QvAo0FBODGZBYQIECAAAECHQkIwB1BO012AgJwdiNR0FAEBOChTFIfBAgQIEBgeAIC8PBmqqN6AgJwPSd7EWgsIAA3JrOAAAECBAgQ6EhAAO4I2mmyExCAsxuJgoYiIAAPZZL6IECAAAECwxMQgIc3Ux3VExCA6znZi0BjAQG4MZkFBAgQIECAQEcCAnBH0E6TnYAAnN1IFDQUAQF4KJPUBwECBAgQGJ6AADy8meqonoAAXM/JXgQaCwjAjcksIECAAAECBDoSEIA7gnaa7AQE4OxGoqChCAjAQ5mkPggQIECAwPAEBODhzVRH9QQE4HpO9iLQWEAAbkxmAQECBAgQINCRgADcEbTTZCcgAGc3EgUNRUAAHsok9UGAAAECBIYnIAAPb6Y6qicgANdzsheBxgICcGMyCwgQIECAAIGOBATgjqCdJjsBATi7kShoKAIC8FAmqQ8CBAgQIDA8AQF4eDPVUT0BAbiek70INBYQgBuTWUCAAAECBAh0JCAAdwTtNNkJCMDZjURBQxEQgIcySX0QIECAAIHhCQjAw5upjuoJCMD1nOxFoLGAANyYzAICBAgQIECgIwEBuCNop8lOQADObiQKGoqAADyUSeqDAAECBAgMT0AAHt5MdVRPQACu52QvAo0FBODGZBYQIECAAAECHQkIwB1BO012AgJwdiNR0FAEBOChTFIfBAgQIEBgeAIC8PBmqqN6AgJwPSd7EWgsIAA3JrOAAAECBAgQ6EhAAO4I2mmyExCAsxuJgoYiIAAPZZL6IECAAAECwxMQgIc3Ux3VExCA6znZi0BjAQG4MZkFBAgQIECAQEcCAnBH0E6TnYAAnN1IFDQUAQF4KJPUBwECBAgQGJ6AADy8meqonoAAXM/JXgQaCwjAjcksIECAAAECBDoSEIA7gnaa7AQE4OxGoqChCAjAQ5mkPggQIECAwPAEBODhzVRH9QQE4HpO9iLQWEAAbkxmAQECBAgQINATda5+AAAVyUlEQVSRgADcEbTTZCcgAGc3EgUNRUAAHsok9UGAAAECBIYnIAAPb6Y6qicgANdzsheBxgICcGMyCwgQIECAAIGOBATgjqCdJjsBATi7kShoKAIC8FAmqQ8CBAgQIDA8AQF4eDPVUT0BAbiek70INBYQgBuTWUCAAAECBAh0JCAAdwTtNNkJCMDZjURBQxEQgIcySX0QIECAAIHhCQjAw5upjuoJCMD1nOxFoLGAANyYzAICBAgQIECgIwEBuCNop8lOQADObiQKGoqAADyUSeqDAAECBAgMT0AAHt5MdVRPQACu52QvAo0FBODGZBYQIECAAAECHQkIwB1BO012AgJwdiNR0FAEBOChTFIfBAgQIEBgeAIC8PBmqqN6AgJwPSd7EWgsIAA3JrOAAAECBAgQ6EhAAO4I2mmyExCAsxuJgoYiIAAPZZL6IECAAAECwxMQgIc3Ux3VExCA6znZi0BjAQG4MZkFBAgQIECAQEcCAnBH0E6TnYAAnN1IFDQUAQF4KJPUBwECBAgQGJ6AADy8meqonoAAXM/JXgQaCwjAjcksIECAAAECBDoSEIA7gnaa7AQE4OxGoqChCAjAQ5mkPggQIECAwPAEBODhzVRH9QQE4HpO9iLQWEAAbkxmAQECBAgQINCRgADcEbTTZCcgAGc3EgUNRUAAHsok9UGAAAECBIYnIAAPb6Y6qicgANdzsheBxgICcGMyCwgQIECAAIGOBATgjqCdJjsBATi7kShoKAIC8FAmqQ8CBAgQIDA8AQF4eDPVUT0BAbiek70INBYQgBuTWUCAAAECBAh0JCAAdwTtNNkJCMDZjURBQxEQgIcySX0QIECAAIHhCQjAw5upjuoJCMD1nOxFoLGAANyYzAICBAgQIECgIwEBuCNop8lOQADObiQKGoqAADyUSeqDAAECBAgMT0AAHt5MdVRPQACu52QvAo0FBODGZBYQIECAAAECHQkIwB1BO012AgJwdiNR0FAEBOChTFIfBAgQIEBgeAIC8PBmqqN6AgJwPSd7EWgsIAA3JrOAAAECBAgQ6EhAAO4I2mmyExCAsxuJgoYiIAAPZZL6IECAAAECwxMQgIc3Ux3VExCA6znZi0BjAQG4MZkFBAgQIECAQEcCAnBH0E6TnYAAnN1IFDQUAQF4KJPUBwECBAgQGJ6AADy8meqonoAAXM/JXgQaCwjAjcksIECAAAECBDoSEIA7gnaa7AQE4OxGoqChCAjAQ5mkPggQIECAwPAEBODhzVRH9QQE4HpO9iLQWEAAbkxmAQECBAgQINCRgADcEbTTZCcgAGc3EgUNRUAAHsok9UGAAAECBIYnIAAPb6Y6qicgANdzsheBxgICcGMyCwgQIECAAIGOBATgjqCdJjsBATi7kShoKAIC8FAmqQ8CBAgQIDA8AQF4eDPVUT0BAbiek70INBYQgBuTWUCAAAECBAh0JCAAdwTtNNkJCMDZjURBQxEQgIcySX0QIECAAIHhCQjAw5upjuoJCMD1nOxFoLGAANyYzAICBAgQIECgIwEBuCNop8lOQADObiQKGoqAADyUSeqDAAECBAgMT0AAHt5MdVRPQACu52QvAo0FBODGZBYQIECAAAECHQkIwB1BO012AgJwdiNR0FAEBOChTFIfBAgQIEBgeAIC8PBmqqN6AgJwPSd7EWgsIAA3JrOAAAECBAgQ6EhAAO4I2mmyExCAsxuJgoYiIAAPZZL6IECAAAECwxMQgIc3Ux3VExCA6znZi0BjAQG4MZkFBAgQIECAQEcCAnBH0E6TnYAAnN1IFDQUAQF4KJPUBwECBAgQGJ6AADy8meqonoAAXM/JXgQaCwjAjcksIECAAAECBDoSEIA7gnaa7AQE4OxGoqChCAjAQ5mkPggQIECAwPAEBODhzVRH9QQE4HpO9iLQWEAAbkxmAQECBAgQINCRgADcEbTTZCcgAGc3EgUNRUAAHsok9UGAAAECBIYnIAAPb6Y6qicgANdzsheBxgICcGMyCwgQIECAAIGOBATgjqCdJjsBATi7kShoKAIC8FAmqQ8CBAgQIDA8AQF4eDPVUT0BAbiek70INBYQgBuTWUCAAAECBAh0JCAAdwTtNNkJCMDZjURBQxEQgIcySX0QIECAAIHhCQjAw5upjuoJCMD1nOxFoLGAANyYzAICBAgQIECgIwEBuCNop8lOQADObiQKGoqAADyUSeqDAAECBAgMT0AAHt5MdVRPQACu52QvAo0FBODGZBYQIECAAAECHQkIwB1BO012AgJwdiNR0FAEBOChTFIfBAgQIEBgeAIC8PBmqqN6AgJwPSd7EWgsIAA3JrOAAAECBAgQ6EhAAP7/7dexDQAwCAOw/7/uC+mCIPJOVXCmDEH7Zp2AArwuEgu1CCjALUm6gwABAgQI9AkowH2ZuigTUIAzJ1MEvgUU4G8yDwgQIECAAIEhAQV4CNo36wQU4HWRWKhFQAFuSdIdBAgQIECgT0AB7svURZmAApw5mSLwLaAAf5N5QIAAAQIECAwJKMBD0L5ZJ6AAr4vEQi0CCnBLku4gQIAAAQJ9AgpwX6YuygQU4MzJFIFvAQX4m8wDAgQIECBAYEhAAR6C9s06AQV4XSQWahFQgFuSdAcBAgQIEOgTUID7MnVRJqAAZ06mCHwLKMDfZB4QIECAAAECQwIK8BC0b9YJKMDrIrFQi4AC3JKkOwgQIECAQJ+AAtyXqYsyAQU4czJF4FtAAf4m84AAAQIECBAYElCAh6B9s05AAV4XiYVaBBTgliTdQYAAAQIE+gQU4L5MXZQJKMCZkykC3wIK8DeZBwQIECBAgMCQgAI8BO2bdQIK8LpILNQioAC3JOkOAgQIECDQJ6AA92XqokxAAc6cTBH4FlCAv8k8IECAAAECBIYEFOAhaN+sE1CA10VioRYBBbglSXcQIECAAIE+AQW4L1MXZQIKcOZkisC3gAL8TeYBAQIECBAgMCSgAA9B+2adgAK8LhILtQgowC1JuoMAAQIECPQJKMB9mbooE1CAMydTBL4FFOBvMg8IECBAgACBIQEFeAjaN+sEFOB1kVioRUABbknSHQQIECBAoE9AAe7L1EWZgAKcOZki8C2gAH+TeUCAAAECBAgMCSjAQ9C+WSegAK+LxEItAgpwS5LuIECAAAECfQIKcF+mLsoEFODMyRSBbwEF+JvMAwIECBAgQGBIQAEegvbNOgEFeF0kFmoRUIBbknQHAQIECBDoE1CA+zJ1USagAGdOpgh8CyjA32QeECBAgAABAkMCCvAQtG/WCSjA6yKxUIuAAtySpDsIECBAgECfgALcl6mLMgEFOHMyReBbQAH+JvOAAAECBAgQGBJQgIegfbNOQAFeF4mFWgQU4JYk3UGAAAECBPoEFOC+TF2UCSjAmZMpAt8CCvA3mQcECBAgQIDAkIACPATtm3UCCvC6SCzUIqAAtyTpDgIECBAg0CegAPdl6qJMQAHOnEwR+BZQgL/JPCBAgAABAgSGBBTgIWjfrBNQgNdFYqEWAQW4JUl3ECBAgACBPgEFuC9TF2UCCnDmZIrAt4AC/E3mAQECBAgQIDAkoAAPQftmnYACvC4SC7UIKMAtSbqDAAECBAj0CSjAfZm6KBNQgDMnUwS+BRTgbzIPCBAgQIAAgSEBBXgI2jfrBBTgdZFYqEVAAW5J0h0ECBAgQKBPQAHuy9RFmYACnDmZIvAtoAB/k3lAgAABAgQIDAkowEPQvlknoACvi8RCLQIKcEuS7iBAgAABAn0CCnBfpi7KBBTgzMkUgW8BBfibzAMCBAgQIEBgSEABHoL2zToBBXhdJBZqEVCAW5J0BwECBAgQ6BNQgPsydVEmoABnTqYIfAsowN9kHhAgQIAAAQJDAgrwELRv1gkowOsisVCLgALckqQ7CBAgQIBAn4AC3JepizIBBThzMkXgW0AB/ibzgAABAgQIEBgSUICHoH2zTkABXheJhVoEFOCWJN1BgAABAgT6BBTgvkxdlAkowJmTKQLfAgrwN5kHBAgQIECAwJCAAjwE7Zt1Agrwukgs1CKgALck6Q4CBAgQINAnoAD3ZeqiTEABzpxMEfgWUIC/yTwgQIAAAQIEhgQU4CFo36wTUIDXRWKhFgEFuCVJdxAgQIAAgT4BBbgvUxdlAgpw5mSKwLeAAvxN5gEBAgQIECAwJKAAD0H7Zp2AArwuEgu1CCjALUm6gwABAgQI9AkowH2ZuigTUIAzJ1MEvgUU4G8yDwgQIECAAIEhAQV4CNo36wQU4HWRWKhFQAFuSdIdBAgQIECgT0AB7svURZmAApw5mSLwLaAAf5N5QIAAAQIECAwJKMBD0L5ZJ6AAr4vEQi0CCnBLku4gQIAAAQJ9AgpwX6YuygQU4MzJFIFvAQX4m8wDAgQIECBAYEhAAR6C9s06AQV4XSQWahFQgFuSdAcBAgQIEOgTUID7MnVRJqAAZ06mCHwLKMDfZB4QIECAAAECQwIK8BC0b9YJKMDrIrFQi4AC3JKkOwgQIECAQJ+AAtyXqYsyAQU4czJF4FtAAf4m84AAAQIECBAYElCAh6B9s05AAV4XiYVaBBTgliTdQYAAAQIE+gQU4L5MXZQJKMCZkykC3wIK8DeZBwQIECBAgMCQgAI8BO2bdQIK8LpILNQioAC3JOkOAgQIECDQJ6AA92XqokxAAc6cTBH4FlCAv8k8IECAAAECBIYEFOAhaN+sE1CA10VioRYBBbglSXcQIECAAIE+AQW4L1MXZQIKcOZkisC3gAL8TeYBAQIECBAgMCSgAA9B+2adgAK8LhILtQgowC1JuoMAAQIECPQJKMB9mbooE1CAMydTBL4FFOBvMg8IECBAgACBIQEFeAjaN+sEFOB1kVioRUABbknSHQQIECBAoE9AAe7L1EWZgAKcOZki8C2gAH+TeUCAAAECBAgMCSjAQ9C+WSegAK+LxEItAgpwS5LuIECAAAECfQIKcF+mLsoEFODMyRSBbwEF+JvMAwIECBAgQGBIQAEegvbNOgEFeF0kFmoRUIBbknQHAQIECBDoE1CA+zJ1USagAGdOpgh8CyjA32QeECBAgAABAkMCCvAQtG/WCSjA6yKxUIuAAtySpDsIECBAgECfgALcl6mLMgEFOHMyReBbQAH+JvOAAAECBAgQGBJQgIegfbNOQAFeF4mFWgQU4JYk3UGAAAECBPoEFOC+TF2UCSjAmZMpAt8CCvA3mQcECBAgQIDAkIACPATtm3UCCvC6SCzUIqAAtyTpDgIECBAg0CegAPdl6qJMQAHOnEwRIECAAAECBAgQIECAwHEBBfh4gNYnQIAAAQIECBAgQIAAgUxAAc6cTBEgQIAAAQIECBAgQIDAcQEF+HiA1idAgAABAgQIECBAgACBTEABzpxMESBAgAABAgQIECBAgMBxAQX4eIDWJ0CAAAECBAgQIECAAIFMQAHOnEwRIECAAAECBAgQIECAwHEBBfh4gNYnQIAAAQIECBAgQIAAgUxAAc6cTBEgQIAAAQIECBAgQIDAcQEF+HiA1idAgAABAgQIECBAgACBTEABzpxMESBAgAABAgQIECBAgMBxAQX4eIDWJ0CAAAECBAgQIECAAIFMQAHOnEwRIECAAAECBAgQIECAwHEBBfh4gNYnQIAAAQIECBAgQIAAgUxAAc6cTBEgQIAAAQIECBAgQIDAcQEF+HiA1idAgAABAgQIECBAgACBTEABzpxMESBAgAABAgQIECBAgMBxAQX4eIDWJ0CAAAECBAgQIECAAIFMQAHOnEwRIECAAAECBAgQIECAwHEBBfh4gNYnQIAAAQIECBAgQIAAgUxAAc6cTBEgQIAAAQIECBAgQIDAcQEF+HiA1idAgAABAgQIECBAgACBTEABzpxMESBAgAABAgQIECBAgMBxAQX4eIDWJ0CAAAECBAgQIECAAIFMQAHOnEwRIECAAAECBAgQIECAwHEBBfh4gNYnQIAAAQIECBAgQIAAgUxAAc6cTBEgQIAAAQIECBAgQIDAcQEF+HiA1idAgAABAgQIECBAgACBTEABzpxMESBAgAABAgQIECBAgMBxAQX4eIDWJ0CAAAECBAgQIECAAIFMQAHOnEwRIECAAAECBAgQIECAwHEBBfh4gNYnQIAAAQIECBAgQIAAgUxAAc6cTBEgQIAAAQIECBAgQIDAcQEF+HiA1idAgAABAgQIECBAgACBTEABzpxMESBAgAABAgQIECBAgMBxAQX4eIDWJ0CAAAECBAgQIECAAIFMQAHOnEwRIECAAAECBAgQIECAwHEBBfh4gNYnQIAAAQIECBAgQIAAgUxAAc6cTBEgQIAAAQIECBAgQIDAcQEF+HiA1idAgAABAgQIECBAgACBTEABzpxMESBAgAABAgQIECBAgMBxAQX4eIDWJ0CAAAECBAgQIECAAIFMQAHOnEwRIECAAAECBAgQIECAwHEBBfh4gNYnQIAAAQIECBAgQIAAgUxAAc6cTBEgQIAAAQIECBAgQIDAcQEF+HiA1idAgAABAgQIECBAgACBTEABzpxMESBAgAABAgQIECBAgMBxAQX4eIDWJ0CAAAECBAgQIECAAIFMQAHOnEwRIECAAAECBAgQIECAwHEBBfh4gNYnQIAAAQIECBAgQIAAgUxAAc6cTBEgQIAAAQIECBAgQIDAcQEF+HiA1idAgAABAgQIECBAgACBTEABzpxMESBAgAABAgQIECBAgMBxAQX4eIDWJ0CAAAECBAgQIECAAIFMQAHOnEwRIECAAAECBAgQIECAwHEBBfh4gNYnQIAAAQIECBAgQIAAgUxAAc6cTBEgQIAAAQIECBAgQIDAcQEF+HiA1idAgAABAgQIECBAgACBTEABzpxMESBAgAABAgQIECBAgMBxAQX4eIDWJ0CAAAECBAgQIECAAIFMQAHOnEwRIECAAAECBAgQIECAwHEBBfh4gNYnQIAAAQIECBAgQIAAgUxAAc6cTBEgQIAAAQIECBAgQIDAcQEF+HiA1idAgAABAgQIECBAgACBTEABzpxMESBAgAABAgQIECBAgMBxAQX4eIDWJ0CAAAECBAgQIECAAIFMQAHOnEwRIECAAAECBAgQIECAwHEBBfh4gNYnQIAAAQIECBAgQIAAgUxAAc6cTBEgQIAAAQIECBAgQIDAcQEF+HiA1idAgAABAgQIECBAgACBTEABzpxMESBAgAABAgQIECBAgMBxAQX4eIDWJ0CAAAECBAgQIECAAIFMQAHOnEwRIECAAAECBAgQIECAwHEBBfh4gNYnQIAAAQIECBAgQIAAgUxAAc6cTBEgQIAAAQIECBAgQIDAcQEF+HiA1idAgAABAgQIECBAgACBTEABzpxMESBAgAABAgQIECBAgMBxAQX4eIDWJ0CAAAECBAgQIECAAIFMQAHOnEwRIECAAAECBAgQIECAwHGBB2B02QxP21byAAAAAElFTkSuQmCC\" width=\"640\">"
      ],
      "text/plain": [
       "<IPython.core.display.HTML object>"
      ]
     },
     "metadata": {},
     "output_type": "display_data"
    }
   ],
   "source": [
    "show_grid(A1,find_mat_dual(Bc))"
   ]
  },
  {
   "cell_type": "markdown",
   "metadata": {
    "deletable": true,
    "editable": true
   },
   "source": [
    "# Determination of oreintation of grid\n",
    "\n",
    "In order to make use of the canonical form we need to know if there is a way to find the rotation between the lattices that are x-y to those that are x-z and so on. This is neccassary because we need to be able to rotate the grid into the correct orientation as well.\n",
    "\n",
    "For testing and demonstrative purposes we'll be playing with a tetragonal grid."
   ]
  },
  {
   "cell_type": "code",
   "execution_count": 277,
   "metadata": {
    "collapsed": true,
    "deletable": true,
    "editable": true
   },
   "outputs": [],
   "source": [
    "A1 = [[1,0,0],[0,2,0],[0,0,4]]\n",
    "A2 = [[2,0,0],[0,1,0],[0,0,4]]\n",
    "A3 = [[4,0,0],[0,2,0],[0,0,1]]\n",
    "A4 = [[1,0,0],[0,4,0],[0,0,2]]\n",
    "mA1 = _minkowski_reduce_basis(A1,1E-10)\n",
    "mA2 = _minkowski_reduce_basis(A2,1E-10)\n",
    "mA3 = _minkowski_reduce_basis(A3,1E-10)\n",
    "mA4 = _minkowski_reduce_basis(A4,1E-10)"
   ]
  },
  {
   "cell_type": "code",
   "execution_count": 278,
   "metadata": {
    "collapsed": false,
    "deletable": true,
    "editable": true
   },
   "outputs": [
    {
     "name": "stdout",
     "output_type": "stream",
     "text": [
      "[[1, 0, 0], [0, 2, 0], [0, 0, 4]]\n",
      "[[0, 1, 0], [0, 0, 4], [2, 0, 0]]\n",
      "[[0, 0, 1], [4, 0, 0], [0, 2, 0]]\n",
      "[[1, 0, 0], [0, 4, 0], [0, 0, 2]]\n"
     ]
    }
   ],
   "source": [
    "print(mA1)\n",
    "print(mA2)\n",
    "print(mA3)\n",
    "print(mA4)"
   ]
  },
  {
   "cell_type": "code",
   "execution_count": 281,
   "metadata": {
    "collapsed": false,
    "deletable": true,
    "editable": true
   },
   "outputs": [],
   "source": [
    "pg1 = _get_lattice_pointGroup(mA1)\n",
    "g1 = find_gens_of_pg(pg1)\n",
    "pg2 = _get_lattice_pointGroup(mA2)\n",
    "g2 = find_gens_of_pg(pg2)\n",
    "pg3 = _get_lattice_pointGroup(mA3)\n",
    "g3 = find_gens_of_pg(pg3)\n",
    "pg4 = _get_lattice_pointGroup(mA4)\n",
    "g4 = find_gens_of_pg(pg4)"
   ]
  },
  {
   "cell_type": "code",
   "execution_count": 282,
   "metadata": {
    "collapsed": false,
    "deletable": true,
    "editable": true
   },
   "outputs": [
    {
     "name": "stdout",
     "output_type": "stream",
     "text": [
      "0\n",
      "[[-1.  0.  0.]\n",
      " [ 0. -1.  0.]\n",
      " [ 0.  0. -1.]]\n",
      "[[-1.  0.  0.]\n",
      " [ 0. -1.  0.]\n",
      " [ 0.  0. -1.]]\n",
      "[[-1.  0.  0.]\n",
      " [ 0. -1.  0.]\n",
      " [ 0.  0. -1.]]\n",
      "[[-1.  0.  0.]\n",
      " [ 0. -1.  0.]\n",
      " [ 0.  0. -1.]]\n",
      "1\n",
      "[[-1.  0.  0.]\n",
      " [ 0. -1.  0.]\n",
      " [ 0.  0.  1.]]\n",
      "[[ 1.  0.  0.]\n",
      " [ 0. -1.  0.]\n",
      " [ 0.  0. -1.]]\n",
      "[[-1.  0.  0.]\n",
      " [ 0.  1.  0.]\n",
      " [ 0.  0. -1.]]\n",
      "[[-1.  0.  0.]\n",
      " [ 0. -1.  0.]\n",
      " [ 0.  0.  1.]]\n",
      "2\n",
      "[[-1.  0.  0.]\n",
      " [ 0.  1.  0.]\n",
      " [ 0.  0. -1.]]\n",
      "[[-1.  0.  0.]\n",
      " [ 0. -1.  0.]\n",
      " [ 0.  0.  1.]]\n",
      "[[ 1.  0.  0.]\n",
      " [ 0. -1.  0.]\n",
      " [ 0.  0. -1.]]\n",
      "[[-1.  0.  0.]\n",
      " [ 0.  1.  0.]\n",
      " [ 0.  0. -1.]]\n"
     ]
    }
   ],
   "source": [
    "for i in range(len(g1)):\n",
    "    print(i)\n",
    "    print(np.dot(np.linalg.inv(A1),np.dot(g1[i],A1)))\n",
    "    print(np.dot(np.linalg.inv(A2),np.dot(g2[i],A2)))\n",
    "    print(np.dot(np.linalg.inv(A3),np.dot(g3[i],A3)))\n",
    "    print(np.dot(np.linalg.inv(A4),np.dot(g4[i],A4)))"
   ]
  },
  {
   "cell_type": "markdown",
   "metadata": {
    "deletable": true,
    "editable": true
   },
   "source": [
    "Here we can see that the orientation of the crystal impacts the representation (and possibly order) of the generators. \n",
    "\n",
    "For the rest of these tests we shall call mA1 the canonical basis we want to identify mA2, mA3, and mA4 as.\n",
    "\n",
    "We will begin by attempting to 'rotate' the representanions of the generators."
   ]
  },
  {
   "cell_type": "code",
   "execution_count": 169,
   "metadata": {
    "collapsed": false,
    "deletable": true,
    "editable": true
   },
   "outputs": [],
   "source": [
    "z90=[[0,-1,0],[1,0,0],[0,0,1]]\n",
    "x90 = [[1,0,0],[0,0,-1],[0,1,0]]\n",
    "y90 = [[0,0,-1],[0,1,0],[1,0,0]]"
   ]
  },
  {
   "cell_type": "code",
   "execution_count": 158,
   "metadata": {
    "collapsed": true,
    "deletable": true,
    "editable": true
   },
   "outputs": [],
   "source": [
    "cg = []\n",
    "for g in g1:\n",
    "    cg.append(np.dot(np.linalg.inv(mA1),np.dot(g,mA1)))"
   ]
  },
  {
   "cell_type": "code",
   "execution_count": 164,
   "metadata": {
    "collapsed": false,
    "deletable": true,
    "editable": true
   },
   "outputs": [
    {
     "name": "stdout",
     "output_type": "stream",
     "text": [
      "True\n"
     ]
    }
   ],
   "source": [
    "mt = np.dot(z90,mA2)\n",
    "pgt = _get_lattice_pointGroup(mt)\n",
    "gt = find_gens_of_pg(pgt)\n",
    "same = True\n",
    "\n",
    "for i in range(len(gt)):\n",
    "    tt = np.dot(np.linalg.inv(mt),np.dot(gt[i],mt))\n",
    "    this_time = False\n",
    "    for g in cg:\n",
    "        if np.all(tt == g):\n",
    "            this_time = True\n",
    "            break\n",
    "    if this_time == False:\n",
    "        same = False\n",
    "        break\n",
    "print(same)"
   ]
  },
  {
   "cell_type": "code",
   "execution_count": 172,
   "metadata": {
    "collapsed": false,
    "deletable": true,
    "editable": true
   },
   "outputs": [
    {
     "name": "stdout",
     "output_type": "stream",
     "text": [
      "True\n"
     ]
    }
   ],
   "source": [
    "mt = np.dot(y90,mA2)\n",
    "pgt = _get_lattice_pointGroup(mt)\n",
    "gt = find_gens_of_pg(pgt)\n",
    "same = True\n",
    "\n",
    "for i in range(len(gt)):\n",
    "    tt = np.dot(np.linalg.inv(mt),np.dot(gt[i],mt))\n",
    "    this_time = False\n",
    "    for g in cg:\n",
    "        if np.all(tt == g):\n",
    "            this_time = True\n",
    "            break\n",
    "    if this_time == False:\n",
    "        same = False\n",
    "        break\n",
    "print(same)"
   ]
  },
  {
   "cell_type": "code",
   "execution_count": 176,
   "metadata": {
    "collapsed": false,
    "deletable": true,
    "editable": true
   },
   "outputs": [
    {
     "name": "stdout",
     "output_type": "stream",
     "text": [
      "True\n"
     ]
    }
   ],
   "source": [
    "mt = np.dot(x90,mA3)\n",
    "pgt = _get_lattice_pointGroup(mt)\n",
    "gt = find_gens_of_pg(pgt)\n",
    "same = True\n",
    "\n",
    "for i in range(len(gt)):\n",
    "    tt = np.dot(np.linalg.inv(mt),np.dot(gt[i],mt))\n",
    "    this_time = False\n",
    "    for g in cg:\n",
    "        if np.all(tt == g):\n",
    "            this_time = True\n",
    "            break\n",
    "    if this_time == False:\n",
    "        same = False\n",
    "        break\n",
    "print(same)"
   ]
  },
  {
   "cell_type": "code",
   "execution_count": 180,
   "metadata": {
    "collapsed": false,
    "deletable": true,
    "editable": true
   },
   "outputs": [
    {
     "name": "stdout",
     "output_type": "stream",
     "text": [
      "True\n"
     ]
    }
   ],
   "source": [
    "mt = mA4#np.dot(z90,mA4)\n",
    "pgt = _get_lattice_pointGroup(mt)\n",
    "gt = find_gens_of_pg(pgt)\n",
    "same = True\n",
    "\n",
    "for i in range(len(gt)):\n",
    "    tt = np.dot(np.linalg.inv(mt),np.dot(gt[i],mt))\n",
    "    this_time = False\n",
    "    for g in cg:\n",
    "        if np.all(tt == g):\n",
    "            this_time = True\n",
    "            break\n",
    "    if this_time == False:\n",
    "        same = False\n",
    "        break\n",
    "print(same)"
   ]
  },
  {
   "cell_type": "code",
   "execution_count": 185,
   "metadata": {
    "collapsed": false,
    "deletable": true,
    "editable": true
   },
   "outputs": [
    {
     "data": {
      "text/plain": [
       "[[1, 0, 0], [0, 1, 0], [2, 2, 4]]"
      ]
     },
     "execution_count": 185,
     "metadata": {},
     "output_type": "execute_result"
    }
   ],
   "source": [
    "H = find_HNFs(mA1,4)\n",
    "Ht = H[3]\n",
    "Ht"
   ]
  },
  {
   "cell_type": "code",
   "execution_count": 186,
   "metadata": {
    "collapsed": true,
    "deletable": true,
    "editable": true
   },
   "outputs": [],
   "source": [
    "Bc = np.dot(mA1,Ht)"
   ]
  },
  {
   "cell_type": "code",
   "execution_count": 194,
   "metadata": {
    "collapsed": false,
    "deletable": true,
    "editable": true
   },
   "outputs": [
    {
     "data": {
      "application/javascript": [
       "/* Put everything inside the global mpl namespace */\n",
       "window.mpl = {};\n",
       "\n",
       "\n",
       "mpl.get_websocket_type = function() {\n",
       "    if (typeof(WebSocket) !== 'undefined') {\n",
       "        return WebSocket;\n",
       "    } else if (typeof(MozWebSocket) !== 'undefined') {\n",
       "        return MozWebSocket;\n",
       "    } else {\n",
       "        alert('Your browser does not have WebSocket support.' +\n",
       "              'Please try Chrome, Safari or Firefox ≥ 6. ' +\n",
       "              'Firefox 4 and 5 are also supported but you ' +\n",
       "              'have to enable WebSockets in about:config.');\n",
       "    };\n",
       "}\n",
       "\n",
       "mpl.figure = function(figure_id, websocket, ondownload, parent_element) {\n",
       "    this.id = figure_id;\n",
       "\n",
       "    this.ws = websocket;\n",
       "\n",
       "    this.supports_binary = (this.ws.binaryType != undefined);\n",
       "\n",
       "    if (!this.supports_binary) {\n",
       "        var warnings = document.getElementById(\"mpl-warnings\");\n",
       "        if (warnings) {\n",
       "            warnings.style.display = 'block';\n",
       "            warnings.textContent = (\n",
       "                \"This browser does not support binary websocket messages. \" +\n",
       "                    \"Performance may be slow.\");\n",
       "        }\n",
       "    }\n",
       "\n",
       "    this.imageObj = new Image();\n",
       "\n",
       "    this.context = undefined;\n",
       "    this.message = undefined;\n",
       "    this.canvas = undefined;\n",
       "    this.rubberband_canvas = undefined;\n",
       "    this.rubberband_context = undefined;\n",
       "    this.format_dropdown = undefined;\n",
       "\n",
       "    this.image_mode = 'full';\n",
       "\n",
       "    this.root = $('<div/>');\n",
       "    this._root_extra_style(this.root)\n",
       "    this.root.attr('style', 'display: inline-block');\n",
       "\n",
       "    $(parent_element).append(this.root);\n",
       "\n",
       "    this._init_header(this);\n",
       "    this._init_canvas(this);\n",
       "    this._init_toolbar(this);\n",
       "\n",
       "    var fig = this;\n",
       "\n",
       "    this.waiting = false;\n",
       "\n",
       "    this.ws.onopen =  function () {\n",
       "            fig.send_message(\"supports_binary\", {value: fig.supports_binary});\n",
       "            fig.send_message(\"send_image_mode\", {});\n",
       "            if (mpl.ratio != 1) {\n",
       "                fig.send_message(\"set_dpi_ratio\", {'dpi_ratio': mpl.ratio});\n",
       "            }\n",
       "            fig.send_message(\"refresh\", {});\n",
       "        }\n",
       "\n",
       "    this.imageObj.onload = function() {\n",
       "            if (fig.image_mode == 'full') {\n",
       "                // Full images could contain transparency (where diff images\n",
       "                // almost always do), so we need to clear the canvas so that\n",
       "                // there is no ghosting.\n",
       "                fig.context.clearRect(0, 0, fig.canvas.width, fig.canvas.height);\n",
       "            }\n",
       "            fig.context.drawImage(fig.imageObj, 0, 0);\n",
       "        };\n",
       "\n",
       "    this.imageObj.onunload = function() {\n",
       "        this.ws.close();\n",
       "    }\n",
       "\n",
       "    this.ws.onmessage = this._make_on_message_function(this);\n",
       "\n",
       "    this.ondownload = ondownload;\n",
       "}\n",
       "\n",
       "mpl.figure.prototype._init_header = function() {\n",
       "    var titlebar = $(\n",
       "        '<div class=\"ui-dialog-titlebar ui-widget-header ui-corner-all ' +\n",
       "        'ui-helper-clearfix\"/>');\n",
       "    var titletext = $(\n",
       "        '<div class=\"ui-dialog-title\" style=\"width: 100%; ' +\n",
       "        'text-align: center; padding: 3px;\"/>');\n",
       "    titlebar.append(titletext)\n",
       "    this.root.append(titlebar);\n",
       "    this.header = titletext[0];\n",
       "}\n",
       "\n",
       "\n",
       "\n",
       "mpl.figure.prototype._canvas_extra_style = function(canvas_div) {\n",
       "\n",
       "}\n",
       "\n",
       "\n",
       "mpl.figure.prototype._root_extra_style = function(canvas_div) {\n",
       "\n",
       "}\n",
       "\n",
       "mpl.figure.prototype._init_canvas = function() {\n",
       "    var fig = this;\n",
       "\n",
       "    var canvas_div = $('<div/>');\n",
       "\n",
       "    canvas_div.attr('style', 'position: relative; clear: both; outline: 0');\n",
       "\n",
       "    function canvas_keyboard_event(event) {\n",
       "        return fig.key_event(event, event['data']);\n",
       "    }\n",
       "\n",
       "    canvas_div.keydown('key_press', canvas_keyboard_event);\n",
       "    canvas_div.keyup('key_release', canvas_keyboard_event);\n",
       "    this.canvas_div = canvas_div\n",
       "    this._canvas_extra_style(canvas_div)\n",
       "    this.root.append(canvas_div);\n",
       "\n",
       "    var canvas = $('<canvas/>');\n",
       "    canvas.addClass('mpl-canvas');\n",
       "    canvas.attr('style', \"left: 0; top: 0; z-index: 0; outline: 0\")\n",
       "\n",
       "    this.canvas = canvas[0];\n",
       "    this.context = canvas[0].getContext(\"2d\");\n",
       "\n",
       "    var backingStore = this.context.backingStorePixelRatio ||\n",
       "\tthis.context.webkitBackingStorePixelRatio ||\n",
       "\tthis.context.mozBackingStorePixelRatio ||\n",
       "\tthis.context.msBackingStorePixelRatio ||\n",
       "\tthis.context.oBackingStorePixelRatio ||\n",
       "\tthis.context.backingStorePixelRatio || 1;\n",
       "\n",
       "    mpl.ratio = (window.devicePixelRatio || 1) / backingStore;\n",
       "\n",
       "    var rubberband = $('<canvas/>');\n",
       "    rubberband.attr('style', \"position: absolute; left: 0; top: 0; z-index: 1;\")\n",
       "\n",
       "    var pass_mouse_events = true;\n",
       "\n",
       "    canvas_div.resizable({\n",
       "        start: function(event, ui) {\n",
       "            pass_mouse_events = false;\n",
       "        },\n",
       "        resize: function(event, ui) {\n",
       "            fig.request_resize(ui.size.width, ui.size.height);\n",
       "        },\n",
       "        stop: function(event, ui) {\n",
       "            pass_mouse_events = true;\n",
       "            fig.request_resize(ui.size.width, ui.size.height);\n",
       "        },\n",
       "    });\n",
       "\n",
       "    function mouse_event_fn(event) {\n",
       "        if (pass_mouse_events)\n",
       "            return fig.mouse_event(event, event['data']);\n",
       "    }\n",
       "\n",
       "    rubberband.mousedown('button_press', mouse_event_fn);\n",
       "    rubberband.mouseup('button_release', mouse_event_fn);\n",
       "    // Throttle sequential mouse events to 1 every 20ms.\n",
       "    rubberband.mousemove('motion_notify', mouse_event_fn);\n",
       "\n",
       "    rubberband.mouseenter('figure_enter', mouse_event_fn);\n",
       "    rubberband.mouseleave('figure_leave', mouse_event_fn);\n",
       "\n",
       "    canvas_div.on(\"wheel\", function (event) {\n",
       "        event = event.originalEvent;\n",
       "        event['data'] = 'scroll'\n",
       "        if (event.deltaY < 0) {\n",
       "            event.step = 1;\n",
       "        } else {\n",
       "            event.step = -1;\n",
       "        }\n",
       "        mouse_event_fn(event);\n",
       "    });\n",
       "\n",
       "    canvas_div.append(canvas);\n",
       "    canvas_div.append(rubberband);\n",
       "\n",
       "    this.rubberband = rubberband;\n",
       "    this.rubberband_canvas = rubberband[0];\n",
       "    this.rubberband_context = rubberband[0].getContext(\"2d\");\n",
       "    this.rubberband_context.strokeStyle = \"#000000\";\n",
       "\n",
       "    this._resize_canvas = function(width, height) {\n",
       "        // Keep the size of the canvas, canvas container, and rubber band\n",
       "        // canvas in synch.\n",
       "        canvas_div.css('width', width)\n",
       "        canvas_div.css('height', height)\n",
       "\n",
       "        canvas.attr('width', width * mpl.ratio);\n",
       "        canvas.attr('height', height * mpl.ratio);\n",
       "        canvas.attr('style', 'width: ' + width + 'px; height: ' + height + 'px;');\n",
       "\n",
       "        rubberband.attr('width', width);\n",
       "        rubberband.attr('height', height);\n",
       "    }\n",
       "\n",
       "    // Set the figure to an initial 600x600px, this will subsequently be updated\n",
       "    // upon first draw.\n",
       "    this._resize_canvas(600, 600);\n",
       "\n",
       "    // Disable right mouse context menu.\n",
       "    $(this.rubberband_canvas).bind(\"contextmenu\",function(e){\n",
       "        return false;\n",
       "    });\n",
       "\n",
       "    function set_focus () {\n",
       "        canvas.focus();\n",
       "        canvas_div.focus();\n",
       "    }\n",
       "\n",
       "    window.setTimeout(set_focus, 100);\n",
       "}\n",
       "\n",
       "mpl.figure.prototype._init_toolbar = function() {\n",
       "    var fig = this;\n",
       "\n",
       "    var nav_element = $('<div/>')\n",
       "    nav_element.attr('style', 'width: 100%');\n",
       "    this.root.append(nav_element);\n",
       "\n",
       "    // Define a callback function for later on.\n",
       "    function toolbar_event(event) {\n",
       "        return fig.toolbar_button_onclick(event['data']);\n",
       "    }\n",
       "    function toolbar_mouse_event(event) {\n",
       "        return fig.toolbar_button_onmouseover(event['data']);\n",
       "    }\n",
       "\n",
       "    for(var toolbar_ind in mpl.toolbar_items) {\n",
       "        var name = mpl.toolbar_items[toolbar_ind][0];\n",
       "        var tooltip = mpl.toolbar_items[toolbar_ind][1];\n",
       "        var image = mpl.toolbar_items[toolbar_ind][2];\n",
       "        var method_name = mpl.toolbar_items[toolbar_ind][3];\n",
       "\n",
       "        if (!name) {\n",
       "            // put a spacer in here.\n",
       "            continue;\n",
       "        }\n",
       "        var button = $('<button/>');\n",
       "        button.addClass('ui-button ui-widget ui-state-default ui-corner-all ' +\n",
       "                        'ui-button-icon-only');\n",
       "        button.attr('role', 'button');\n",
       "        button.attr('aria-disabled', 'false');\n",
       "        button.click(method_name, toolbar_event);\n",
       "        button.mouseover(tooltip, toolbar_mouse_event);\n",
       "\n",
       "        var icon_img = $('<span/>');\n",
       "        icon_img.addClass('ui-button-icon-primary ui-icon');\n",
       "        icon_img.addClass(image);\n",
       "        icon_img.addClass('ui-corner-all');\n",
       "\n",
       "        var tooltip_span = $('<span/>');\n",
       "        tooltip_span.addClass('ui-button-text');\n",
       "        tooltip_span.html(tooltip);\n",
       "\n",
       "        button.append(icon_img);\n",
       "        button.append(tooltip_span);\n",
       "\n",
       "        nav_element.append(button);\n",
       "    }\n",
       "\n",
       "    var fmt_picker_span = $('<span/>');\n",
       "\n",
       "    var fmt_picker = $('<select/>');\n",
       "    fmt_picker.addClass('mpl-toolbar-option ui-widget ui-widget-content');\n",
       "    fmt_picker_span.append(fmt_picker);\n",
       "    nav_element.append(fmt_picker_span);\n",
       "    this.format_dropdown = fmt_picker[0];\n",
       "\n",
       "    for (var ind in mpl.extensions) {\n",
       "        var fmt = mpl.extensions[ind];\n",
       "        var option = $(\n",
       "            '<option/>', {selected: fmt === mpl.default_extension}).html(fmt);\n",
       "        fmt_picker.append(option)\n",
       "    }\n",
       "\n",
       "    // Add hover states to the ui-buttons\n",
       "    $( \".ui-button\" ).hover(\n",
       "        function() { $(this).addClass(\"ui-state-hover\");},\n",
       "        function() { $(this).removeClass(\"ui-state-hover\");}\n",
       "    );\n",
       "\n",
       "    var status_bar = $('<span class=\"mpl-message\"/>');\n",
       "    nav_element.append(status_bar);\n",
       "    this.message = status_bar[0];\n",
       "}\n",
       "\n",
       "mpl.figure.prototype.request_resize = function(x_pixels, y_pixels) {\n",
       "    // Request matplotlib to resize the figure. Matplotlib will then trigger a resize in the client,\n",
       "    // which will in turn request a refresh of the image.\n",
       "    this.send_message('resize', {'width': x_pixels, 'height': y_pixels});\n",
       "}\n",
       "\n",
       "mpl.figure.prototype.send_message = function(type, properties) {\n",
       "    properties['type'] = type;\n",
       "    properties['figure_id'] = this.id;\n",
       "    this.ws.send(JSON.stringify(properties));\n",
       "}\n",
       "\n",
       "mpl.figure.prototype.send_draw_message = function() {\n",
       "    if (!this.waiting) {\n",
       "        this.waiting = true;\n",
       "        this.ws.send(JSON.stringify({type: \"draw\", figure_id: this.id}));\n",
       "    }\n",
       "}\n",
       "\n",
       "\n",
       "mpl.figure.prototype.handle_save = function(fig, msg) {\n",
       "    var format_dropdown = fig.format_dropdown;\n",
       "    var format = format_dropdown.options[format_dropdown.selectedIndex].value;\n",
       "    fig.ondownload(fig, format);\n",
       "}\n",
       "\n",
       "\n",
       "mpl.figure.prototype.handle_resize = function(fig, msg) {\n",
       "    var size = msg['size'];\n",
       "    if (size[0] != fig.canvas.width || size[1] != fig.canvas.height) {\n",
       "        fig._resize_canvas(size[0], size[1]);\n",
       "        fig.send_message(\"refresh\", {});\n",
       "    };\n",
       "}\n",
       "\n",
       "mpl.figure.prototype.handle_rubberband = function(fig, msg) {\n",
       "    var x0 = msg['x0'] / mpl.ratio;\n",
       "    var y0 = (fig.canvas.height - msg['y0']) / mpl.ratio;\n",
       "    var x1 = msg['x1'] / mpl.ratio;\n",
       "    var y1 = (fig.canvas.height - msg['y1']) / mpl.ratio;\n",
       "    x0 = Math.floor(x0) + 0.5;\n",
       "    y0 = Math.floor(y0) + 0.5;\n",
       "    x1 = Math.floor(x1) + 0.5;\n",
       "    y1 = Math.floor(y1) + 0.5;\n",
       "    var min_x = Math.min(x0, x1);\n",
       "    var min_y = Math.min(y0, y1);\n",
       "    var width = Math.abs(x1 - x0);\n",
       "    var height = Math.abs(y1 - y0);\n",
       "\n",
       "    fig.rubberband_context.clearRect(\n",
       "        0, 0, fig.canvas.width, fig.canvas.height);\n",
       "\n",
       "    fig.rubberband_context.strokeRect(min_x, min_y, width, height);\n",
       "}\n",
       "\n",
       "mpl.figure.prototype.handle_figure_label = function(fig, msg) {\n",
       "    // Updates the figure title.\n",
       "    fig.header.textContent = msg['label'];\n",
       "}\n",
       "\n",
       "mpl.figure.prototype.handle_cursor = function(fig, msg) {\n",
       "    var cursor = msg['cursor'];\n",
       "    switch(cursor)\n",
       "    {\n",
       "    case 0:\n",
       "        cursor = 'pointer';\n",
       "        break;\n",
       "    case 1:\n",
       "        cursor = 'default';\n",
       "        break;\n",
       "    case 2:\n",
       "        cursor = 'crosshair';\n",
       "        break;\n",
       "    case 3:\n",
       "        cursor = 'move';\n",
       "        break;\n",
       "    }\n",
       "    fig.rubberband_canvas.style.cursor = cursor;\n",
       "}\n",
       "\n",
       "mpl.figure.prototype.handle_message = function(fig, msg) {\n",
       "    fig.message.textContent = msg['message'];\n",
       "}\n",
       "\n",
       "mpl.figure.prototype.handle_draw = function(fig, msg) {\n",
       "    // Request the server to send over a new figure.\n",
       "    fig.send_draw_message();\n",
       "}\n",
       "\n",
       "mpl.figure.prototype.handle_image_mode = function(fig, msg) {\n",
       "    fig.image_mode = msg['mode'];\n",
       "}\n",
       "\n",
       "mpl.figure.prototype.updated_canvas_event = function() {\n",
       "    // Called whenever the canvas gets updated.\n",
       "    this.send_message(\"ack\", {});\n",
       "}\n",
       "\n",
       "// A function to construct a web socket function for onmessage handling.\n",
       "// Called in the figure constructor.\n",
       "mpl.figure.prototype._make_on_message_function = function(fig) {\n",
       "    return function socket_on_message(evt) {\n",
       "        if (evt.data instanceof Blob) {\n",
       "            /* FIXME: We get \"Resource interpreted as Image but\n",
       "             * transferred with MIME type text/plain:\" errors on\n",
       "             * Chrome.  But how to set the MIME type?  It doesn't seem\n",
       "             * to be part of the websocket stream */\n",
       "            evt.data.type = \"image/png\";\n",
       "\n",
       "            /* Free the memory for the previous frames */\n",
       "            if (fig.imageObj.src) {\n",
       "                (window.URL || window.webkitURL).revokeObjectURL(\n",
       "                    fig.imageObj.src);\n",
       "            }\n",
       "\n",
       "            fig.imageObj.src = (window.URL || window.webkitURL).createObjectURL(\n",
       "                evt.data);\n",
       "            fig.updated_canvas_event();\n",
       "            fig.waiting = false;\n",
       "            return;\n",
       "        }\n",
       "        else if (typeof evt.data === 'string' && evt.data.slice(0, 21) == \"data:image/png;base64\") {\n",
       "            fig.imageObj.src = evt.data;\n",
       "            fig.updated_canvas_event();\n",
       "            fig.waiting = false;\n",
       "            return;\n",
       "        }\n",
       "\n",
       "        var msg = JSON.parse(evt.data);\n",
       "        var msg_type = msg['type'];\n",
       "\n",
       "        // Call the  \"handle_{type}\" callback, which takes\n",
       "        // the figure and JSON message as its only arguments.\n",
       "        try {\n",
       "            var callback = fig[\"handle_\" + msg_type];\n",
       "        } catch (e) {\n",
       "            console.log(\"No handler for the '\" + msg_type + \"' message type: \", msg);\n",
       "            return;\n",
       "        }\n",
       "\n",
       "        if (callback) {\n",
       "            try {\n",
       "                // console.log(\"Handling '\" + msg_type + \"' message: \", msg);\n",
       "                callback(fig, msg);\n",
       "            } catch (e) {\n",
       "                console.log(\"Exception inside the 'handler_\" + msg_type + \"' callback:\", e, e.stack, msg);\n",
       "            }\n",
       "        }\n",
       "    };\n",
       "}\n",
       "\n",
       "// from http://stackoverflow.com/questions/1114465/getting-mouse-location-in-canvas\n",
       "mpl.findpos = function(e) {\n",
       "    //this section is from http://www.quirksmode.org/js/events_properties.html\n",
       "    var targ;\n",
       "    if (!e)\n",
       "        e = window.event;\n",
       "    if (e.target)\n",
       "        targ = e.target;\n",
       "    else if (e.srcElement)\n",
       "        targ = e.srcElement;\n",
       "    if (targ.nodeType == 3) // defeat Safari bug\n",
       "        targ = targ.parentNode;\n",
       "\n",
       "    // jQuery normalizes the pageX and pageY\n",
       "    // pageX,Y are the mouse positions relative to the document\n",
       "    // offset() returns the position of the element relative to the document\n",
       "    var x = e.pageX - $(targ).offset().left;\n",
       "    var y = e.pageY - $(targ).offset().top;\n",
       "\n",
       "    return {\"x\": x, \"y\": y};\n",
       "};\n",
       "\n",
       "/*\n",
       " * return a copy of an object with only non-object keys\n",
       " * we need this to avoid circular references\n",
       " * http://stackoverflow.com/a/24161582/3208463\n",
       " */\n",
       "function simpleKeys (original) {\n",
       "  return Object.keys(original).reduce(function (obj, key) {\n",
       "    if (typeof original[key] !== 'object')\n",
       "        obj[key] = original[key]\n",
       "    return obj;\n",
       "  }, {});\n",
       "}\n",
       "\n",
       "mpl.figure.prototype.mouse_event = function(event, name) {\n",
       "    var canvas_pos = mpl.findpos(event)\n",
       "\n",
       "    if (name === 'button_press')\n",
       "    {\n",
       "        this.canvas.focus();\n",
       "        this.canvas_div.focus();\n",
       "    }\n",
       "\n",
       "    var x = canvas_pos.x * mpl.ratio;\n",
       "    var y = canvas_pos.y * mpl.ratio;\n",
       "\n",
       "    this.send_message(name, {x: x, y: y, button: event.button,\n",
       "                             step: event.step,\n",
       "                             guiEvent: simpleKeys(event)});\n",
       "\n",
       "    /* This prevents the web browser from automatically changing to\n",
       "     * the text insertion cursor when the button is pressed.  We want\n",
       "     * to control all of the cursor setting manually through the\n",
       "     * 'cursor' event from matplotlib */\n",
       "    event.preventDefault();\n",
       "    return false;\n",
       "}\n",
       "\n",
       "mpl.figure.prototype._key_event_extra = function(event, name) {\n",
       "    // Handle any extra behaviour associated with a key event\n",
       "}\n",
       "\n",
       "mpl.figure.prototype.key_event = function(event, name) {\n",
       "\n",
       "    // Prevent repeat events\n",
       "    if (name == 'key_press')\n",
       "    {\n",
       "        if (event.which === this._key)\n",
       "            return;\n",
       "        else\n",
       "            this._key = event.which;\n",
       "    }\n",
       "    if (name == 'key_release')\n",
       "        this._key = null;\n",
       "\n",
       "    var value = '';\n",
       "    if (event.ctrlKey && event.which != 17)\n",
       "        value += \"ctrl+\";\n",
       "    if (event.altKey && event.which != 18)\n",
       "        value += \"alt+\";\n",
       "    if (event.shiftKey && event.which != 16)\n",
       "        value += \"shift+\";\n",
       "\n",
       "    value += 'k';\n",
       "    value += event.which.toString();\n",
       "\n",
       "    this._key_event_extra(event, name);\n",
       "\n",
       "    this.send_message(name, {key: value,\n",
       "                             guiEvent: simpleKeys(event)});\n",
       "    return false;\n",
       "}\n",
       "\n",
       "mpl.figure.prototype.toolbar_button_onclick = function(name) {\n",
       "    if (name == 'download') {\n",
       "        this.handle_save(this, null);\n",
       "    } else {\n",
       "        this.send_message(\"toolbar_button\", {name: name});\n",
       "    }\n",
       "};\n",
       "\n",
       "mpl.figure.prototype.toolbar_button_onmouseover = function(tooltip) {\n",
       "    this.message.textContent = tooltip;\n",
       "};\n",
       "mpl.toolbar_items = [[\"Home\", \"Reset original view\", \"fa fa-home icon-home\", \"home\"], [\"Back\", \"Back to  previous view\", \"fa fa-arrow-left icon-arrow-left\", \"back\"], [\"Forward\", \"Forward to next view\", \"fa fa-arrow-right icon-arrow-right\", \"forward\"], [\"\", \"\", \"\", \"\"], [\"Pan\", \"Pan axes with left mouse, zoom with right\", \"fa fa-arrows icon-move\", \"pan\"], [\"Zoom\", \"Zoom to rectangle\", \"fa fa-square-o icon-check-empty\", \"zoom\"], [\"\", \"\", \"\", \"\"], [\"Download\", \"Download plot\", \"fa fa-floppy-o icon-save\", \"download\"]];\n",
       "\n",
       "mpl.extensions = [\"eps\", \"pdf\", \"png\", \"ps\", \"raw\", \"svg\"];\n",
       "\n",
       "mpl.default_extension = \"png\";var comm_websocket_adapter = function(comm) {\n",
       "    // Create a \"websocket\"-like object which calls the given IPython comm\n",
       "    // object with the appropriate methods. Currently this is a non binary\n",
       "    // socket, so there is still some room for performance tuning.\n",
       "    var ws = {};\n",
       "\n",
       "    ws.close = function() {\n",
       "        comm.close()\n",
       "    };\n",
       "    ws.send = function(m) {\n",
       "        //console.log('sending', m);\n",
       "        comm.send(m);\n",
       "    };\n",
       "    // Register the callback with on_msg.\n",
       "    comm.on_msg(function(msg) {\n",
       "        //console.log('receiving', msg['content']['data'], msg);\n",
       "        // Pass the mpl event to the overriden (by mpl) onmessage function.\n",
       "        ws.onmessage(msg['content']['data'])\n",
       "    });\n",
       "    return ws;\n",
       "}\n",
       "\n",
       "mpl.mpl_figure_comm = function(comm, msg) {\n",
       "    // This is the function which gets called when the mpl process\n",
       "    // starts-up an IPython Comm through the \"matplotlib\" channel.\n",
       "\n",
       "    var id = msg.content.data.id;\n",
       "    // Get hold of the div created by the display call when the Comm\n",
       "    // socket was opened in Python.\n",
       "    var element = $(\"#\" + id);\n",
       "    var ws_proxy = comm_websocket_adapter(comm)\n",
       "\n",
       "    function ondownload(figure, format) {\n",
       "        window.open(figure.imageObj.src);\n",
       "    }\n",
       "\n",
       "    var fig = new mpl.figure(id, ws_proxy,\n",
       "                           ondownload,\n",
       "                           element.get(0));\n",
       "\n",
       "    // Call onopen now - mpl needs it, as it is assuming we've passed it a real\n",
       "    // web socket which is closed, not our websocket->open comm proxy.\n",
       "    ws_proxy.onopen();\n",
       "\n",
       "    fig.parent_element = element.get(0);\n",
       "    fig.cell_info = mpl.find_output_cell(\"<div id='\" + id + \"'></div>\");\n",
       "    if (!fig.cell_info) {\n",
       "        console.error(\"Failed to find cell for figure\", id, fig);\n",
       "        return;\n",
       "    }\n",
       "\n",
       "    var output_index = fig.cell_info[2]\n",
       "    var cell = fig.cell_info[0];\n",
       "\n",
       "};\n",
       "\n",
       "mpl.figure.prototype.handle_close = function(fig, msg) {\n",
       "    var width = fig.canvas.width/mpl.ratio\n",
       "    fig.root.unbind('remove')\n",
       "\n",
       "    // Update the output cell to use the data from the current canvas.\n",
       "    fig.push_to_output();\n",
       "    var dataURL = fig.canvas.toDataURL();\n",
       "    // Re-enable the keyboard manager in IPython - without this line, in FF,\n",
       "    // the notebook keyboard shortcuts fail.\n",
       "    IPython.keyboard_manager.enable()\n",
       "    $(fig.parent_element).html('<img src=\"' + dataURL + '\" width=\"' + width + '\">');\n",
       "    fig.close_ws(fig, msg);\n",
       "}\n",
       "\n",
       "mpl.figure.prototype.close_ws = function(fig, msg){\n",
       "    fig.send_message('closing', msg);\n",
       "    // fig.ws.close()\n",
       "}\n",
       "\n",
       "mpl.figure.prototype.push_to_output = function(remove_interactive) {\n",
       "    // Turn the data on the canvas into data in the output cell.\n",
       "    var width = this.canvas.width/mpl.ratio\n",
       "    var dataURL = this.canvas.toDataURL();\n",
       "    this.cell_info[1]['text/html'] = '<img src=\"' + dataURL + '\" width=\"' + width + '\">';\n",
       "}\n",
       "\n",
       "mpl.figure.prototype.updated_canvas_event = function() {\n",
       "    // Tell IPython that the notebook contents must change.\n",
       "    IPython.notebook.set_dirty(true);\n",
       "    this.send_message(\"ack\", {});\n",
       "    var fig = this;\n",
       "    // Wait a second, then push the new image to the DOM so\n",
       "    // that it is saved nicely (might be nice to debounce this).\n",
       "    setTimeout(function () { fig.push_to_output() }, 1000);\n",
       "}\n",
       "\n",
       "mpl.figure.prototype._init_toolbar = function() {\n",
       "    var fig = this;\n",
       "\n",
       "    var nav_element = $('<div/>')\n",
       "    nav_element.attr('style', 'width: 100%');\n",
       "    this.root.append(nav_element);\n",
       "\n",
       "    // Define a callback function for later on.\n",
       "    function toolbar_event(event) {\n",
       "        return fig.toolbar_button_onclick(event['data']);\n",
       "    }\n",
       "    function toolbar_mouse_event(event) {\n",
       "        return fig.toolbar_button_onmouseover(event['data']);\n",
       "    }\n",
       "\n",
       "    for(var toolbar_ind in mpl.toolbar_items){\n",
       "        var name = mpl.toolbar_items[toolbar_ind][0];\n",
       "        var tooltip = mpl.toolbar_items[toolbar_ind][1];\n",
       "        var image = mpl.toolbar_items[toolbar_ind][2];\n",
       "        var method_name = mpl.toolbar_items[toolbar_ind][3];\n",
       "\n",
       "        if (!name) { continue; };\n",
       "\n",
       "        var button = $('<button class=\"btn btn-default\" href=\"#\" title=\"' + name + '\"><i class=\"fa ' + image + ' fa-lg\"></i></button>');\n",
       "        button.click(method_name, toolbar_event);\n",
       "        button.mouseover(tooltip, toolbar_mouse_event);\n",
       "        nav_element.append(button);\n",
       "    }\n",
       "\n",
       "    // Add the status bar.\n",
       "    var status_bar = $('<span class=\"mpl-message\" style=\"text-align:right; float: right;\"/>');\n",
       "    nav_element.append(status_bar);\n",
       "    this.message = status_bar[0];\n",
       "\n",
       "    // Add the close button to the window.\n",
       "    var buttongrp = $('<div class=\"btn-group inline pull-right\"></div>');\n",
       "    var button = $('<button class=\"btn btn-mini btn-primary\" href=\"#\" title=\"Stop Interaction\"><i class=\"fa fa-power-off icon-remove icon-large\"></i></button>');\n",
       "    button.click(function (evt) { fig.handle_close(fig, {}); } );\n",
       "    button.mouseover('Stop Interaction', toolbar_mouse_event);\n",
       "    buttongrp.append(button);\n",
       "    var titlebar = this.root.find($('.ui-dialog-titlebar'));\n",
       "    titlebar.prepend(buttongrp);\n",
       "}\n",
       "\n",
       "mpl.figure.prototype._root_extra_style = function(el){\n",
       "    var fig = this\n",
       "    el.on(\"remove\", function(){\n",
       "\tfig.close_ws(fig, {});\n",
       "    });\n",
       "}\n",
       "\n",
       "mpl.figure.prototype._canvas_extra_style = function(el){\n",
       "    // this is important to make the div 'focusable\n",
       "    el.attr('tabindex', 0)\n",
       "    // reach out to IPython and tell the keyboard manager to turn it's self\n",
       "    // off when our div gets focus\n",
       "\n",
       "    // location in version 3\n",
       "    if (IPython.notebook.keyboard_manager) {\n",
       "        IPython.notebook.keyboard_manager.register_events(el);\n",
       "    }\n",
       "    else {\n",
       "        // location in version 2\n",
       "        IPython.keyboard_manager.register_events(el);\n",
       "    }\n",
       "\n",
       "}\n",
       "\n",
       "mpl.figure.prototype._key_event_extra = function(event, name) {\n",
       "    var manager = IPython.notebook.keyboard_manager;\n",
       "    if (!manager)\n",
       "        manager = IPython.keyboard_manager;\n",
       "\n",
       "    // Check for shift+enter\n",
       "    if (event.shiftKey && event.which == 13) {\n",
       "        this.canvas_div.blur();\n",
       "        // select the cell after this one\n",
       "        var index = IPython.notebook.find_cell_index(this.cell_info[0]);\n",
       "        IPython.notebook.select(index + 1);\n",
       "    }\n",
       "}\n",
       "\n",
       "mpl.figure.prototype.handle_save = function(fig, msg) {\n",
       "    fig.ondownload(fig, null);\n",
       "}\n",
       "\n",
       "\n",
       "mpl.find_output_cell = function(html_output) {\n",
       "    // Return the cell and output element which can be found *uniquely* in the notebook.\n",
       "    // Note - this is a bit hacky, but it is done because the \"notebook_saving.Notebook\"\n",
       "    // IPython event is triggered only after the cells have been serialised, which for\n",
       "    // our purposes (turning an active figure into a static one), is too late.\n",
       "    var cells = IPython.notebook.get_cells();\n",
       "    var ncells = cells.length;\n",
       "    for (var i=0; i<ncells; i++) {\n",
       "        var cell = cells[i];\n",
       "        if (cell.cell_type === 'code'){\n",
       "            for (var j=0; j<cell.output_area.outputs.length; j++) {\n",
       "                var data = cell.output_area.outputs[j];\n",
       "                if (data.data) {\n",
       "                    // IPython >= 3 moved mimebundle to data attribute of output\n",
       "                    data = data.data;\n",
       "                }\n",
       "                if (data['text/html'] == html_output) {\n",
       "                    return [cell, data, j];\n",
       "                }\n",
       "            }\n",
       "        }\n",
       "    }\n",
       "}\n",
       "\n",
       "// Register the function which deals with the matplotlib target/channel.\n",
       "// The kernel may be null if the page has been refreshed.\n",
       "if (IPython.notebook.kernel != null) {\n",
       "    IPython.notebook.kernel.comm_manager.register_target('matplotlib', mpl.mpl_figure_comm);\n",
       "}\n"
      ],
      "text/plain": [
       "<IPython.core.display.Javascript object>"
      ]
     },
     "metadata": {},
     "output_type": "display_data"
    },
    {
     "data": {
      "text/html": [
       "<img src=\"data:image/png;base64,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\" width=\"640\">"
      ],
      "text/plain": [
       "<IPython.core.display.HTML object>"
      ]
     },
     "metadata": {},
     "output_type": "display_data"
    }
   ],
   "source": [
    "show_grid(A2,find_mat_dual(Bc))"
   ]
  },
  {
   "cell_type": "markdown",
   "metadata": {
    "deletable": true,
    "editable": true
   },
   "source": [
    "# Try transformation in other order Ac = Au T"
   ]
  },
  {
   "cell_type": "code",
   "execution_count": 239,
   "metadata": {
    "collapsed": false,
    "deletable": true,
    "editable": true
   },
   "outputs": [],
   "source": [
    "Au = [[1,1,0],[0,1,0],[0,0,1]]\n",
    "Ac = _minkowski_reduce_basis(Au,1E-10)\n",
    "T = np.dot(np.linalg.inv(Au),Ac)"
   ]
  },
  {
   "cell_type": "code",
   "execution_count": 240,
   "metadata": {
    "collapsed": true,
    "deletable": true,
    "editable": true
   },
   "outputs": [],
   "source": [
    "H = find_HNFs(Ac,2)"
   ]
  },
  {
   "cell_type": "code",
   "execution_count": 241,
   "metadata": {
    "collapsed": false,
    "deletable": true,
    "editable": true
   },
   "outputs": [],
   "source": [
    "Bc = np.dot(Ac,H[0])"
   ]
  },
  {
   "cell_type": "code",
   "execution_count": 242,
   "metadata": {
    "collapsed": false,
    "deletable": true,
    "editable": true
   },
   "outputs": [
    {
     "data": {
      "text/plain": [
       "array([[0, 1, 0],\n",
       "       [1, 1, 2],\n",
       "       [1, 0, 0]])"
      ]
     },
     "execution_count": 242,
     "metadata": {},
     "output_type": "execute_result"
    }
   ],
   "source": [
    "Bc"
   ]
  },
  {
   "cell_type": "code",
   "execution_count": 243,
   "metadata": {
    "collapsed": true,
    "deletable": true,
    "editable": true
   },
   "outputs": [],
   "source": [
    "Bu = np.dot(Bc,np.linalg.inv(T))"
   ]
  },
  {
   "cell_type": "code",
   "execution_count": 244,
   "metadata": {
    "collapsed": false,
    "deletable": true,
    "editable": true
   },
   "outputs": [
    {
     "data": {
      "text/plain": [
       "array([[ 1.,  1.,  0.],\n",
       "       [ 1.,  3.,  1.],\n",
       "       [ 0.,  0.,  1.]])"
      ]
     },
     "execution_count": 244,
     "metadata": {},
     "output_type": "execute_result"
    }
   ],
   "source": [
    "Bu"
   ]
  },
  {
   "cell_type": "code",
   "execution_count": 245,
   "metadata": {
    "collapsed": true,
    "deletable": true,
    "editable": true
   },
   "outputs": [],
   "source": [
    "pg1 = _get_lattice_pointGroup(Au)\n",
    "g1 = find_gens_of_pg(pg1)"
   ]
  },
  {
   "cell_type": "code",
   "execution_count": 246,
   "metadata": {
    "collapsed": false,
    "deletable": true,
    "editable": true
   },
   "outputs": [
    {
     "name": "stdout",
     "output_type": "stream",
     "text": [
      "[[-1. -4. -2.]\n",
      " [ 0.  1.  1.]\n",
      " [ 0.  0. -1.]]\n",
      "[[-1.  0.  1.]\n",
      " [ 0. -1. -1.]\n",
      " [ 1.  3.  1.]]\n"
     ]
    }
   ],
   "source": [
    "for i in range(len(g1)):\n",
    "    print(np.dot(np.linalg.inv(Bu),np.dot(g1[i],Bu)))"
   ]
  },
  {
   "cell_type": "code",
   "execution_count": 247,
   "metadata": {
    "collapsed": true,
    "deletable": true,
    "editable": true
   },
   "outputs": [],
   "source": [
    "Hu = np.dot(np.linalg.inv(Au),Bu)"
   ]
  },
  {
   "cell_type": "code",
   "execution_count": 248,
   "metadata": {
    "collapsed": false,
    "deletable": true,
    "editable": true
   },
   "outputs": [
    {
     "data": {
      "text/plain": [
       "array([[ 1.,  0.,  0.],\n",
       "       [ 0.,  1.,  0.],\n",
       "       [ 1.,  0.,  2.]])"
      ]
     },
     "execution_count": 248,
     "metadata": {},
     "output_type": "execute_result"
    }
   ],
   "source": [
    "from sampling import LowerHermiteNormalForm\n",
    "Hu, U = LowerHermiteNormalForm(Hu)\n",
    "Hu"
   ]
  },
  {
   "cell_type": "code",
   "execution_count": 249,
   "metadata": {
    "collapsed": false,
    "deletable": true,
    "editable": true
   },
   "outputs": [
    {
     "data": {
      "text/plain": [
       "[[[1, 0, 0], [0, 1, 0], [1, 0, 2]]]"
      ]
     },
     "execution_count": 249,
     "metadata": {},
     "output_type": "execute_result"
    }
   ],
   "source": [
    "find_HNFs(Au,2)"
   ]
  },
  {
   "cell_type": "code",
   "execution_count": 256,
   "metadata": {
    "collapsed": true,
    "deletable": true,
    "editable": true
   },
   "outputs": [],
   "source": [
    "R1 = [[1,0,0],[0,2,0],[0,0,4]]\n",
    "R2 = [[1,0,0],[0,4,0],[0,0,2]]"
   ]
  },
  {
   "cell_type": "code",
   "execution_count": 257,
   "metadata": {
    "collapsed": false,
    "deletable": true,
    "editable": true
   },
   "outputs": [
    {
     "data": {
      "text/plain": [
       "array([[ 1. ,  0. ,  0. ],\n",
       "       [ 0. ,  0.5,  0. ],\n",
       "       [ 0. ,  0. ,  2. ]])"
      ]
     },
     "execution_count": 257,
     "metadata": {},
     "output_type": "execute_result"
    }
   ],
   "source": [
    "RT = np.dot(R1,np.linalg.inv(R2))\n",
    "RT"
   ]
  },
  {
   "cell_type": "code",
   "execution_count": 258,
   "metadata": {
    "collapsed": false,
    "deletable": true,
    "editable": true
   },
   "outputs": [
    {
     "data": {
      "text/plain": [
       "1.0"
      ]
     },
     "execution_count": 258,
     "metadata": {},
     "output_type": "execute_result"
    }
   ],
   "source": [
    "np.linalg.det(RT)"
   ]
  },
  {
   "cell_type": "code",
   "execution_count": 262,
   "metadata": {
    "collapsed": true,
    "deletable": true,
    "editable": true
   },
   "outputs": [],
   "source": [
    "from math import cos, sin\n",
    "def rot_mat(th):\n",
    "    R = [[cos(th),-sin(th),0],[sin(th),cos(th),0],[0,0,1]]\n",
    "    return R"
   ]
  },
  {
   "cell_type": "code",
   "execution_count": 274,
   "metadata": {
    "collapsed": false,
    "deletable": true,
    "editable": true
   },
   "outputs": [],
   "source": [
    "R = rot_mat(np.pi/3)\n",
    "Rt = np.dot(R1,R)\n",
    "pg1 = _get_lattice_pointGroup(R1)\n",
    "g1 = find_gens_of_pg(pg1)\n",
    "pgt = _get_lattice_pointGroup(Rt)\n",
    "gt = find_gens_of_pg(pgt)"
   ]
  },
  {
   "cell_type": "code",
   "execution_count": 276,
   "metadata": {
    "collapsed": false,
    "deletable": true,
    "editable": true
   },
   "outputs": [
    {
     "name": "stdout",
     "output_type": "stream",
     "text": [
      "0\n",
      "[[-1.  0.  0.]\n",
      " [ 0. -1.  0.]\n",
      " [ 0.  0. -1.]]\n",
      "[[-1.0, 0.0, 0.0], [-5.551115123125783e-17, -0.9999999999999999, 0.0], [0.0, 0.0, -1.0]]\n",
      "[[ -1.00000000e+00   1.11022302e-16   0.00000000e+00]\n",
      " [  0.00000000e+00  -1.00000000e+00   0.00000000e+00]\n",
      " [  0.00000000e+00   0.00000000e+00  -1.00000000e+00]]\n",
      "1\n",
      "[[-1.  0.  0.]\n",
      " [ 0. -1.  0.]\n",
      " [ 0.  0.  1.]]\n",
      "[[-1.0, 0.0, 0.0], [-5.551115123125783e-17, -0.9999999999999999, 0.0], [0.0, 0.0, 1.0]]\n",
      "[[ -1.00000000e+00   1.11022302e-16   0.00000000e+00]\n",
      " [  0.00000000e+00  -1.00000000e+00   0.00000000e+00]\n",
      " [  0.00000000e+00   0.00000000e+00   1.00000000e+00]]\n",
      "2\n",
      "[[-1.  0.  0.]\n",
      " [ 0.  1.  0.]\n",
      " [ 0.  0. -1.]]\n",
      "[[0.4999999999999998, 0.8660254037844388, 0.0], [0.8660254037844388, -0.49999999999999967, 0.0], [0.0, 0.0, -1.0]]\n",
      "[[ 0.6875     -0.32475953  0.        ]\n",
      " [-1.62379763 -0.6875      0.        ]\n",
      " [ 0.          0.         -1.        ]]\n"
     ]
    }
   ],
   "source": [
    "for i in range(len(g1)):\n",
    "    print(i)\n",
    "    print(np.dot(np.linalg.inv(R1),np.dot(g1[i],R1)))\n",
    "    print(gt[i])\n",
    "    print(np.dot(np.linalg.inv(Rt),np.dot(gt[i],Rt)))    "
   ]
  },
  {
   "cell_type": "markdown",
   "metadata": {
    "deletable": true,
    "editable": true
   },
   "source": [
    "# Character of group to ID which relations to use"
   ]
  },
  {
   "cell_type": "code",
   "execution_count": 288,
   "metadata": {
    "collapsed": true,
    "deletable": true,
    "editable": true
   },
   "outputs": [],
   "source": [
    "sc = [[1,0,0],[0,1,0],[0,0,1]]\n",
    "bcc = [[-0.5,0.5,0.5],[0.5,-0.5,0.5],[0.5,0.5,-0.5]]\n",
    "fcc = [[0,0.5,0.5],[0.5,0,0.5],[0.5,0.5,0]]"
   ]
  },
  {
   "cell_type": "code",
   "execution_count": 292,
   "metadata": {
    "collapsed": true,
    "deletable": true,
    "editable": true
   },
   "outputs": [],
   "source": [
    "def get_char_gen(lat):\n",
    "    \n",
    "    alat = _minkowski_reduce_basis(lat,1E-10)\n",
    "    pg = _get_lattice_pointGroup(alat)\n",
    "    gens = find_gens_of_pg(pg)\n",
    "    \n",
    "    ks = []\n",
    "    for g in gens:\n",
    "        ks.append(np.dot(np.linalg.inv(alat),np.dot(g,alat)))\n",
    "    \n",
    "    for k in ks:\n",
    "        print(np.trace(k))\n",
    "    "
   ]
  },
  {
   "cell_type": "markdown",
   "metadata": {
    "collapsed": true,
    "deletable": true,
    "editable": true
   },
   "source": [
    "# Do Mueller Grids preserve Symmetry?"
   ]
  },
  {
   "cell_type": "code",
   "execution_count": 24,
   "metadata": {
    "collapsed": false,
    "deletable": true,
    "editable": true
   },
   "outputs": [],
   "source": [
    "A = [[1,0,0],[-0.5,0.86602540,0],[0,0,3.26598640]]\n",
    "gens = find_gens_of_pg(_get_lattice_pointGroup(A))\n",
    "A = np.transpose(A)\n",
    "Ar = np.transpose(np.linalg.inv(A))"
   ]
  },
  {
   "cell_type": "code",
   "execution_count": 29,
   "metadata": {
    "collapsed": false,
    "deletable": true,
    "editable": true
   },
   "outputs": [],
   "source": [
    "grid = np.transpose(np.linalg.inv(np.dot(Ar,np.transpose(_minkowski_reduce_basis([[1,0,0],[0.25, 0.625, 0.0],[0,0,1]],1E-7)))))"
   ]
  },
  {
   "cell_type": "code",
   "execution_count": 30,
   "metadata": {
    "collapsed": false,
    "deletable": true,
    "editable": true
   },
   "outputs": [
    {
     "name": "stdout",
     "output_type": "stream",
     "text": [
      "[[ -1.00000000e+00   0.00000000e+00   5.55111512e-17]\n",
      " [  0.00000000e+00  -1.00000000e+00   0.00000000e+00]\n",
      " [  0.00000000e+00   0.00000000e+00  -1.00000000e+00]]\n",
      "[[ -1.00000000e+00   0.00000000e+00   5.55111512e-17]\n",
      " [  0.00000000e+00   1.00000000e+00   0.00000000e+00]\n",
      " [  0.00000000e+00   0.00000000e+00  -1.00000000e+00]]\n",
      "[[ 0.8  0.  -0.6]\n",
      " [ 0.  -1.   0. ]\n",
      " [-0.6  0.  -0.8]]\n"
     ]
    }
   ],
   "source": [
    "for g in gens:\n",
    "    print(np.dot(np.linalg.inv(grid),np.dot(g,grid)))"
   ]
  },
  {
   "cell_type": "code",
   "execution_count": 31,
   "metadata": {
    "collapsed": false,
    "deletable": true,
    "editable": true
   },
   "outputs": [],
   "source": [
    "grid2 = np.transpose(np.linalg.inv(np.dot(Ar,np.transpose(_minkowski_reduce_basis([[0.16666666666667, 0.91666666666667, 0.5],\n",
    "                                                        [0.5, 0.75, 0.5],\n",
    "                                                        [0.0, 0.125, 0.5]],1E-7)))))"
   ]
  },
  {
   "cell_type": "code",
   "execution_count": 32,
   "metadata": {
    "collapsed": false,
    "deletable": true,
    "editable": true
   },
   "outputs": [
    {
     "name": "stdout",
     "output_type": "stream",
     "text": [
      "[[ -1.00000000e+00   0.00000000e+00  -7.88860905e-31]\n",
      " [ -5.55111512e-17  -1.00000000e+00   0.00000000e+00]\n",
      " [ -2.22044605e-16   0.00000000e+00  -1.00000000e+00]]\n",
      "[[ -1.00000000e+00   0.00000000e+00  -7.88860905e-31]\n",
      " [ -4.28571429e-01   1.00000000e+00  -2.85714286e-01]\n",
      " [ -2.22044605e-16   0.00000000e+00  -1.00000000e+00]]\n",
      "[[ -1.00000000e+00   0.00000000e+00   1.12630671e-14]\n",
      " [  4.28571429e-01  -1.00000000e+00   2.85714286e-01]\n",
      " [  3.00000000e+00   0.00000000e+00   1.00000000e+00]]\n"
     ]
    }
   ],
   "source": [
    "for g in gens:\n",
    "    print(np.dot(np.linalg.inv(grid2),np.dot(g,grid2)))"
   ]
  },
  {
   "cell_type": "markdown",
   "metadata": {},
   "source": [
    "## Froyen HCP"
   ]
  },
  {
   "cell_type": "code",
   "execution_count": 33,
   "metadata": {
    "collapsed": true
   },
   "outputs": [],
   "source": [
    "grid = np.transpose(np.linalg.inv(np.dot(Ar,np.transpose(_minkowski_reduce_basis([[0.25,-0.25,0],[0, 0.25, 0.0],[0,0,1]],1E-7)))))"
   ]
  },
  {
   "cell_type": "code",
   "execution_count": 34,
   "metadata": {
    "collapsed": false
   },
   "outputs": [
    {
     "name": "stdout",
     "output_type": "stream",
     "text": [
      "[[-1.  0.  0.]\n",
      " [ 0. -1.  0.]\n",
      " [ 0.  0. -1.]]\n",
      "[[-1.  0.  0.]\n",
      " [ 0.  1.  0.]\n",
      " [ 0.  0. -1.]]\n",
      "[[ 1.  0.  0.]\n",
      " [ 0. -1.  0.]\n",
      " [ 1.  0. -1.]]\n"
     ]
    }
   ],
   "source": [
    "for g in gens:\n",
    "    print(np.dot(np.linalg.inv(grid),np.dot(g,grid)))"
   ]
  },
  {
   "cell_type": "code",
   "execution_count": 35,
   "metadata": {
    "collapsed": true
   },
   "outputs": [],
   "source": [
    "grid2 = np.transpose(np.linalg.inv(np.dot(Ar,np.transpose(_minkowski_reduce_basis([[0.125, -0.125, 0],\n",
    "                                                        [0., 0.125, 0.],\n",
    "                                                        [0.0, 0., 0.5]],1E-7)))))"
   ]
  },
  {
   "cell_type": "code",
   "execution_count": 36,
   "metadata": {
    "collapsed": false
   },
   "outputs": [
    {
     "name": "stdout",
     "output_type": "stream",
     "text": [
      "[[-1.  0.  0.]\n",
      " [ 0. -1.  0.]\n",
      " [ 0.  0. -1.]]\n",
      "[[-1.  0.  0.]\n",
      " [ 0.  1.  0.]\n",
      " [ 0.  0. -1.]]\n",
      "[[ 1.  0.  0.]\n",
      " [ 0. -1.  0.]\n",
      " [ 1.  0. -1.]]\n"
     ]
    }
   ],
   "source": [
    "for g in gens:\n",
    "    print(np.dot(np.linalg.inv(grid2),np.dot(g,grid2)))"
   ]
  },
  {
   "cell_type": "markdown",
   "metadata": {
    "collapsed": true,
    "deletable": true,
    "editable": true
   },
   "source": [
    "## Cu, a cubic test"
   ]
  },
  {
   "cell_type": "code",
   "execution_count": 37,
   "metadata": {
    "collapsed": false,
    "deletable": true,
    "editable": true
   },
   "outputs": [],
   "source": [
    "A = [[-.5,.5,.5],[0.5,-.5,.5],[.5,.5,-.5]]\n",
    "gens = find_gens_of_pg(_get_lattice_pointGroup(A))\n",
    "A = np.transpose(A)\n",
    "Ar = np.transpose(np.linalg.inv(A))"
   ]
  },
  {
   "cell_type": "code",
   "execution_count": 38,
   "metadata": {
    "collapsed": false,
    "deletable": true,
    "editable": true
   },
   "outputs": [],
   "source": [
    "grid = np.transpose(np.linalg.inv(np.dot(Ar,np.transpose(_minkowski_reduce_basis([[0.33333333333333, 0.00000000000000, 0.33333333333333],\n",
    "                               [0.66666666666667, 0.66666666666667, 0.33333333333333],\n",
    "                               [0.66666666666667, 0.33333333333333, 0.66666666666667]],1E-10)))))"
   ]
  },
  {
   "cell_type": "code",
   "execution_count": 39,
   "metadata": {
    "collapsed": false,
    "deletable": true,
    "editable": true
   },
   "outputs": [
    {
     "name": "stdout",
     "output_type": "stream",
     "text": [
      "[[ -1.00000000e+00   1.00000000e+00   3.01425551e-14]\n",
      " [ -1.00000000e+00   5.98595247e-14   1.00000000e+00]\n",
      " [ -1.00000000e+00   5.99520433e-14  -2.98649994e-14]]\n",
      "[[ -6.02851102e-14  -1.00000000e+00   0.00000000e+00]\n",
      " [ -1.00000000e+00   6.02110954e-14  -1.11022302e-16]\n",
      " [  8.95949981e-14  -8.95949981e-14  -1.00000000e+00]]\n"
     ]
    }
   ],
   "source": [
    "for g in gens:\n",
    "    print(np.dot(np.linalg.inv(grid),np.dot(g,grid)))"
   ]
  },
  {
   "cell_type": "code",
   "execution_count": 40,
   "metadata": {
    "collapsed": true,
    "deletable": true,
    "editable": true
   },
   "outputs": [],
   "source": [
    "grid2= np.transpose(np.linalg.inv(np.dot(Ar,np.transpose(_minkowski_reduce_basis([[0.16666666666667, 0.00000000000000, 0.16666666666667],\n",
    "                               [0.33333333333333, 0.83333333333333, 0.16666666666667],\n",
    "                               [0.50000000000000, 0.16666666666667, 0.50000000000000]],1E-10)))))"
   ]
  },
  {
   "cell_type": "code",
   "execution_count": 41,
   "metadata": {
    "collapsed": false,
    "deletable": true,
    "editable": true
   },
   "outputs": [
    {
     "name": "stdout",
     "output_type": "stream",
     "text": [
      "[[ -1.00000000e+00   1.19793064e-13  -1.00000000e+00]\n",
      " [ -1.00000000e+00   2.39808173e-13   1.79227004e-13]\n",
      " [  1.00000000e+00  -1.00000000e+00  -2.40307774e-13]]\n",
      "[[  1.79134485e-13  -1.79578574e-13   1.00000000e+00]\n",
      " [ -4.19220214e-13  -1.00000000e+00  -4.19146199e-13]\n",
      " [  1.00000000e+00  -1.79578574e-13  -1.79134485e-13]]\n"
     ]
    }
   ],
   "source": [
    "for g in gens:\n",
    "    print(np.dot(np.linalg.inv(grid2),np.dot(g,grid2)))"
   ]
  },
  {
   "cell_type": "code",
   "execution_count": null,
   "metadata": {
    "collapsed": true,
    "deletable": true,
    "editable": true
   },
   "outputs": [],
   "source": []
  }
 ],
 "metadata": {
  "celltoolbar": "Edit Metadata",
  "kernelspec": {
   "display_name": "Python 2",
   "language": "python",
   "name": "python2"
  },
  "language_info": {
   "codemirror_mode": {
    "name": "ipython",
    "version": 2
   },
   "file_extension": ".py",
   "mimetype": "text/x-python",
   "name": "python",
   "nbconvert_exporter": "python",
   "pygments_lexer": "ipython2",
   "version": "2.7.9"
  }
 },
 "nbformat": 4,
 "nbformat_minor": 2
}
