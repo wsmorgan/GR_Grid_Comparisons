{
 "cells": [
  {
   "cell_type": "code",
   "execution_count": 1,
   "metadata": {
    "collapsed": true,
    "deletable": true,
    "editable": true
   },
   "outputs": [],
   "source": [
    "import csv\n",
    "import numpy as np\n",
    "import pandas as pd\n",
    "import matplotlib.pyplot as plt\n",
    "from copy import deepcopy"
   ]
  },
  {
   "cell_type": "code",
   "execution_count": 2,
   "metadata": {
    "collapsed": true
   },
   "outputs": [],
   "source": [
    "for el in [\"Al\",\"Cu\",\"K\",\"Pd\",\"V\",\"W\",\"Ti\",\"Y\",\"Re\"]:\n",
    "    if el in [\"Ti\",\"Y\",\"Re\"]:\n",
    "        sizes = range(1,8)\n",
    "    else:\n",
    "        sizes = range(1,12)\n",
    "    for i in sizes:\n",
    "        data = []\n",
    "        kpd = []\n",
    "        f = open(\"../data/\"+el+\"_Mueller/\"+str(i)+\"_atom_convergence.csv\",\"r\")\n",
    "        reader = csv.reader(f,delimiter='\\t')\n",
    "        for row in reader:\n",
    "            if int(row[0]) in kpd:\n",
    "                loc = kpd.index(int(row[0]))\n",
    "                data[loc][1] = (data[loc][1]+float(row[1]))/2.\n",
    "            else:\n",
    "                kpd.append(int(row[0]))\n",
    "                point = [int(row[0]),float(row[1])]\n",
    "                data.append(point)\n",
    "        data = np.array(data)\n",
    "        df = pd.DataFrame(data[:,1:],index=data[:,0])#,columns=[str(i)+' atom'])    \n",
    "        if i > 1 or el != \"Al\":\n",
    "            Mueller = pd.concat([Mueller,df], axis=1)\n",
    "        else:\n",
    "            Mueller = df\n",
    "Mueller['mean'] = Mueller.mean(axis=1)        "
   ]
  },
  {
   "cell_type": "code",
   "execution_count": 3,
   "metadata": {
    "collapsed": true
   },
   "outputs": [],
   "source": [
    "for el in [\"Al\",\"Cu\",\"K\",\"Pd\",\"V\",\"W\",\"Ti\",\"Y\",\"Re\"]:\n",
    "    if el in [\"Ti\",\"Y\",\"Re\"]:\n",
    "        sizes = range(1,8)\n",
    "    else:\n",
    "        sizes = range(1,12)\n",
    "    for i in sizes:\n",
    "        data = []\n",
    "        kpd = []\n",
    "        f = open(\"../data/\"+el+\"_Aflow/\"+str(i)+\"_atom_convergence.csv\",\"r\")\n",
    "        reader = csv.reader(f,delimiter='\\t')\n",
    "        for row in reader:\n",
    "            if int(row[0]) in kpd:\n",
    "                loc = kpd.index(int(row[0]))\n",
    "                data[loc][1] = (data[loc][1]+float(row[1]))/2.\n",
    "            else:\n",
    "                kpd.append(int(row[0]))\n",
    "                point = [int(row[0]),float(row[1])]\n",
    "                data.append(point)\n",
    "        data = np.array(data)\n",
    "        df = pd.DataFrame(data[:,1:],index=data[:,0])#,columns=[str(i)+' atom'])    \n",
    "        if i > 1 or el != \"Al\":\n",
    "            Aflow = pd.concat([Aflow,df], axis=1)\n",
    "        else:\n",
    "            Aflow = df\n",
    "Aflow['mean'] = Aflow.mean(axis=1)        "
   ]
  },
  {
   "cell_type": "code",
   "execution_count": 4,
   "metadata": {
    "collapsed": false
   },
   "outputs": [],
   "source": [
    "for el in [\"Ti\",\"Y\",\"Re\"]:\n",
    "    for i in range(1,8):\n",
    "        data = []\n",
    "        f = open(\"../data/\"+el+\"_Froyen/\"+str(i)+\"_hcp2_atom_convergence.csv\",\"r\")\n",
    "        reader = csv.reader(f,delimiter='\\t')\n",
    "        for row in reader:\n",
    "            point = [int(row[0]),float(row[1])]\n",
    "            data.append(point)\n",
    "        data = np.array(data)\n",
    "        df = pd.DataFrame(data[:,1:],index=data[:,0])#,columns=[str(i)+' atom'])    \n",
    "        if i > 1 or el != \"Ti\":\n",
    "            Froyen_hcp = pd.concat([Froyen_hcp,df], axis=1)\n",
    "        else:\n",
    "            Froyen_hcp = df\n",
    "Froyen_hcp['mean'] = Froyen_hcp.mean(axis=1)        "
   ]
  },
  {
   "cell_type": "code",
   "execution_count": 5,
   "metadata": {
    "collapsed": false
   },
   "outputs": [],
   "source": [
    "for el in [\"Ti\",\"Y\",\"Re\"]:\n",
    "    for i in range(1,8):\n",
    "        data = []\n",
    "        kpd = []\n",
    "        f = open(\"../data/\"+el+\"_Mueller/\"+str(i)+\"_atom_convergence.csv\",\"r\")\n",
    "        reader = csv.reader(f,delimiter='\\t')\n",
    "        for row in reader:\n",
    "            if int(row[0]) in kpd:\n",
    "                loc = kpd.index(int(row[0]))\n",
    "                data[loc][1] = (data[loc][1]+float(row[1]))/2.\n",
    "            else:\n",
    "                kpd.append(int(row[0]))\n",
    "                point = [int(row[0]),float(row[1])]\n",
    "                data.append(point)\n",
    "        data = np.array(data)\n",
    "        df = pd.DataFrame(data[:,1:],index=data[:,0])#,columns=[str(i)+' atom'])    \n",
    "        if i > 1 or el != \"Ti\":\n",
    "            Mueller_hcp = pd.concat([Mueller_hcp,df], axis=1)\n",
    "        else:\n",
    "            Mueller_hcp = df\n",
    "Mueller_hcp['mean'] = Mueller_hcp.mean(axis=1)        "
   ]
  },
  {
   "cell_type": "code",
   "execution_count": 6,
   "metadata": {
    "collapsed": false,
    "deletable": true,
    "editable": true
   },
   "outputs": [],
   "source": [
    "for el in [\"Al\",\"Cu\",\"K\",\"Pd\",\"V\",\"W\"]:\n",
    "    for i in range(1,12):\n",
    "        data = []\n",
    "        f = open(\"../data/\"+el+\"_Froyen/\"+str(i)+\"_sc_atom_convergence.csv\",\"r\")\n",
    "        reader = csv.reader(f,delimiter='\\t')\n",
    "        for row in reader:\n",
    "            point = [int(row[0]),float(row[1])]\n",
    "            data.append(point)\n",
    "        data = np.array(data)\n",
    "        df = pd.DataFrame(data[:,1:],index=data[:,0])#,columns=[str(i)+' atom'])    \n",
    "        if i > 1 or el != \"Al\":\n",
    "            Froyen_sc = pd.concat([Froyen_sc,df], axis=1)\n",
    "        else:\n",
    "            Froyen_sc = df\n",
    "Froyen_sc['mean'] = Froyen_sc.mean(axis=1)        "
   ]
  },
  {
   "cell_type": "code",
   "execution_count": 7,
   "metadata": {
    "collapsed": false,
    "deletable": true,
    "editable": true
   },
   "outputs": [],
   "source": [
    "for el in [\"Al\",\"Cu\",\"K\",\"Pd\",\"V\",\"W\"]:\n",
    "    for i in range(1,12):\n",
    "        data = []\n",
    "        kpd = []\n",
    "        f = open(\"../data/\"+el+\"_Froyen/\"+str(i)+\"_bcc_atom_convergence.csv\",\"r\")\n",
    "        reader = csv.reader(f,delimiter='\\t')\n",
    "        for row in reader:\n",
    "            if int(row[0]) in kpd:\n",
    "                loc = kpd.index(int(row[0]))\n",
    "                data[loc][1] = (data[loc][1]+float(row[1]))/2.\n",
    "            else:\n",
    "                kpd.append(int(row[0]))\n",
    "                point = [int(row[0]),float(row[1])]\n",
    "                data.append(point)\n",
    "        data = np.array(data)\n",
    "        df = pd.DataFrame(data[:,1:],index=data[:,0])#,columns=[str(i)+' atom'])    \n",
    "        if i > 1 or el != \"Al\":\n",
    "            Froyen_bcc = pd.concat([Froyen_bcc,df], axis=1)\n",
    "        else:\n",
    "            Froyen_bcc = df\n",
    "Froyen_bcc['mean'] = Froyen_bcc.mean(axis=1)        "
   ]
  },
  {
   "cell_type": "code",
   "execution_count": 8,
   "metadata": {
    "collapsed": true,
    "deletable": true,
    "editable": true
   },
   "outputs": [],
   "source": [
    "for el in [\"Al\",\"Cu\",\"K\",\"Pd\",\"V\",\"W\"]:\n",
    "    for i in range(1,12):\n",
    "        data = []\n",
    "        kpd = []\n",
    "        f = open(\"../data/\"+el+\"_Froyen/\"+str(i)+\"_fcc_atom_convergence.csv\",\"r\")\n",
    "        reader = csv.reader(f,delimiter='\\t')\n",
    "        for row in reader:\n",
    "            if int(row[0]) in kpd:\n",
    "                loc = kpd.index(int(row[0]))\n",
    "                data[loc][1] = (data[loc][1]+float(row[1]))/2.\n",
    "            else:\n",
    "                kpd.append(int(row[0]))\n",
    "                point = [int(row[0]),float(row[1])]\n",
    "                data.append(point)\n",
    "        data = np.array(data)\n",
    "        df = pd.DataFrame(data[:,1:],index=data[:,0])#,columns=[str(i)+' atom'])    \n",
    "        if i > 1 or el != \"Al\":\n",
    "            Froyen_fcc = pd.concat([Froyen_fcc,df], axis=1)\n",
    "        else:\n",
    "            Froyen_fcc = df\n",
    "Froyen_fcc['mean'] = Froyen_fcc.mean(axis=1)        "
   ]
  },
  {
   "cell_type": "code",
   "execution_count": 9,
   "metadata": {
    "collapsed": false,
    "deletable": true,
    "editable": true
   },
   "outputs": [],
   "source": [
    "for el in [\"Al\",\"Cu\",\"K\",\"Pd\",\"V\",\"W\"]:\n",
    "    for i in range(1,12):\n",
    "        data = []\n",
    "        kpd = []\n",
    "        f = open(\"../data/\"+el+\"_Mueller/\"+str(i)+\"_atom_convergence.csv\",\"r\")\n",
    "        reader = csv.reader(f,delimiter='\\t')\n",
    "        for row in reader:\n",
    "            if int(row[0]) in kpd:\n",
    "                loc = kpd.index(int(row[0]))\n",
    "                data[loc][1] = (data[loc][1]+float(row[1]))/2.\n",
    "            else:\n",
    "                kpd.append(int(row[0]))\n",
    "                point = [int(row[0]),float(row[1])]\n",
    "                data.append(point)\n",
    "        data = np.array(data)\n",
    "        df = pd.DataFrame(data[:,1:],index=data[:,0])#,columns=[str(i)+' atom'])    \n",
    "        if i > 1 or el != \"Al\":\n",
    "            Mueller_cubic = pd.concat([Mueller_cubic,df], axis=1)\n",
    "        else:\n",
    "            Mueller_cubic = df\n",
    "Mueller_cubic['mean'] = Mueller_cubic.mean(axis=1)        "
   ]
  },
  {
   "cell_type": "code",
   "execution_count": 10,
   "metadata": {
    "collapsed": false,
    "deletable": true,
    "editable": true
   },
   "outputs": [
    {
     "data": {
      "image/png": "[encoded data removed]",
      "text/plain": [
       "<matplotlib.figure.Figure at 0x1120d41d0>"
      ]
     },
     "metadata": {},
     "output_type": "display_data"
    }
   ],
   "source": [
    "fig, ax = plt.subplots(1,1)\n",
    "Froyen_sc.reset_index().plot(x=\"index\",y=\"mean\",ax=ax,label=\"Froyen sc\")\n",
    "Froyen_bcc.reset_index().plot(x=\"index\",y=\"mean\",ax=ax,label=\"Froyen bcc\")\n",
    "Froyen_fcc.reset_index().plot(x=\"index\",y=\"mean\",ax=ax,label=\"Froyen fcc\")\n",
    "Mueller_cubic.reset_index().plot(x=\"index\",y=\"mean\",ax=ax,label=\"Mueller\")\n",
    "plt.yscale('log')\n",
    "plt.xscale('log')\n",
    "plt.xlabel(\"Number of irreducible K-points\")\n",
    "plt.ylabel(\"Error in calculation\")\n",
    "#ax.set_ylim([1E-6,1])\n",
    "plt.show()"
   ]
  },
  {
   "cell_type": "code",
   "execution_count": 11,
   "metadata": {
    "collapsed": false,
    "deletable": true,
    "editable": true
   },
   "outputs": [],
   "source": [
    "Froy_sc = np.asarray(Froyen_sc.reset_index().loc[:,[\"index\",\"mean\"]])\n",
    "Froy_bcc = np.asarray(Froyen_bcc.reset_index().loc[:,[\"index\",\"mean\"]])\n",
    "Froy_fcc = np.asarray(Froyen_fcc.reset_index().loc[:,[\"index\",\"mean\"]])\n",
    "Froy_hcp = np.asarray(Froyen_hcp.reset_index().loc[:,[\"index\",\"mean\"]])\n",
    "Muel_cubic = np.asanyarray(Mueller_cubic.reset_index().loc[:,[\"index\",\"mean\"]])\n",
    "Muel_hcp = np.asanyarray(Mueller_hcp.reset_index().loc[:,[\"index\",\"mean\"]])\n",
    "Muel = np.asanyarray(Mueller.reset_index().loc[:,[\"index\",\"mean\"]])\n",
    "Afl = np.asanyarray(Aflow.reset_index().loc[:,[\"index\",\"mean\"]])"
   ]
  },
  {
   "cell_type": "code",
   "execution_count": 12,
   "metadata": {
    "collapsed": true
   },
   "outputs": [],
   "source": [
    "Muel = Muel[np.argsort(Muel[:,1])]\n",
    "for i in range(1,len(Muel)):\n",
    "    if Muel[i][1] == Muel[i-1][1]:\n",
    "        if Muel[i][0] < Muel[i-1][0]:\n",
    "            temp = deepcopy(Muel[i])\n",
    "            Muel[i] = deepcopy(Muel[i-1])\n",
    "            Muel[i-1] = temp\n",
    "for i in range(1,len(Muel)):\n",
    "    if Muel[i][1] == Muel[i-1][1]:\n",
    "        if Muel[i][0] < Muel[i-1][0]:\n",
    "            temp = deepcopy(Muel[i])\n",
    "            Muel[i] = deepcopy(Muel[i-1])\n",
    "            Muel[i-1] = temp"
   ]
  },
  {
   "cell_type": "code",
   "execution_count": 13,
   "metadata": {
    "collapsed": true
   },
   "outputs": [],
   "source": [
    "Afl = Afl[np.argsort(Afl[:,1])]\n",
    "for i in range(1,len(Afl)):\n",
    "    if Afl[i][1] == Afl[i-1][1]:\n",
    "        if Afl[i][0] < Afl[i-1][0]:\n",
    "            temp = deepcopy(Afl[i])\n",
    "            Afl[i] = deepcopy(Afl[i-1])\n",
    "            Afl[i-1] = temp\n",
    "for i in range(1,len(Afl)):\n",
    "    if Afl[i][1] == Afl[i-1][1]:\n",
    "        if Afl[i][0] < Afl[i-1][0]:\n",
    "            temp = deepcopy(Afl[i])\n",
    "            Afl[i] = deepcopy(Afl[i-1])\n",
    "            Afl[i-1] = temp"
   ]
  },
  {
   "cell_type": "code",
   "execution_count": 14,
   "metadata": {
    "collapsed": true
   },
   "outputs": [],
   "source": [
    "Froy_hcp = Froy_hcp[np.argsort(Froy_hcp[:,1])]\n",
    "for i in range(1,len(Froy_hcp)):\n",
    "    if Froy_hcp[i][1] == Froy_hcp[i-1][1]:\n",
    "        if Froy_hcp[i][0] < Froy_hcp[i-1][0]:\n",
    "            temp = deepcopy(Froy_hcp[i])\n",
    "            Froy_hcp[i] = deepcopy(Froy_hcp[i-1])\n",
    "            Froy_hcp[i-1] = temp\n",
    "for i in range(1,len(Froy_hcp)):\n",
    "    if Froy_hcp[i][1] == Froy_hcp[i-1][1]:\n",
    "        if Froy_hcp[i][0] < Froy_hcp[i-1][0]:\n",
    "            temp = deepcopy(Froy_hcp[i])\n",
    "            Froy_hcp[i] = deepcopy(Froy_hcp[i-1])\n",
    "            Froy_hcp[i-1] = temp    "
   ]
  },
  {
   "cell_type": "code",
   "execution_count": 15,
   "metadata": {
    "collapsed": false,
    "deletable": true,
    "editable": true
   },
   "outputs": [],
   "source": [
    "Froy_sc = Froy_sc[np.argsort(Froy_sc[:,1])]\n",
    "for i in range(1,len(Froy_sc)):\n",
    "    if Froy_sc[i][1] == Froy_sc[i-1][1]:\n",
    "        if Froy_sc[i][0] < Froy_sc[i-1][0]:\n",
    "            temp = deepcopy(Froy_sc[i])\n",
    "            Froy_sc[i] = deepcopy(Froy_sc[i-1])\n",
    "            Froy_sc[i-1] = temp\n",
    "for i in range(1,len(Froy_sc)):\n",
    "    if Froy_sc[i][1] == Froy_sc[i-1][1]:\n",
    "        if Froy_sc[i][0] < Froy_sc[i-1][0]:\n",
    "            temp = deepcopy(Froy_sc[i])\n",
    "            Froy_sc[i] = deepcopy(Froy_sc[i-1])\n",
    "            Froy_sc[i-1] = temp    "
   ]
  },
  {
   "cell_type": "code",
   "execution_count": 16,
   "metadata": {
    "collapsed": true,
    "deletable": true,
    "editable": true
   },
   "outputs": [],
   "source": [
    "Froy_bcc = Froy_bcc[np.argsort(Froy_bcc[:,1])]\n",
    "for i in range(1,len(Froy_bcc)):\n",
    "    if Froy_bcc[i][1] == Froy_bcc[i-1][1]:\n",
    "        if Froy_bcc[i][0] < Froy_bcc[i-1][0]:\n",
    "            temp = deepcopy(Froy_bcc[i])\n",
    "            Froy_bcc[i] = deepcopy(Froy_bcc[i-1])\n",
    "            Froy_bcc[i-1] = temp\n",
    "for i in range(1,len(Froy_bcc)):\n",
    "    if Froy_bcc[i][1] == Froy_bcc[i-1][1]:\n",
    "        if Froy_bcc[i][0] < Froy_bcc[i-1][0]:\n",
    "            temp = deepcopy(Froy_bcc[i])\n",
    "            Froy_bcc[i] = deepcopy(Froy_bcc[i-1])\n",
    "            Froy_bcc[i-1] = temp    "
   ]
  },
  {
   "cell_type": "code",
   "execution_count": 17,
   "metadata": {
    "collapsed": true,
    "deletable": true,
    "editable": true
   },
   "outputs": [],
   "source": [
    "Froy_fcc = Froy_fcc[np.argsort(Froy_fcc[:,1])]\n",
    "for i in range(1,len(Froy_fcc)):\n",
    "    if Froy_fcc[i][1] == Froy_fcc[i-1][1]:\n",
    "        if Froy_fcc[i][0] < Froy_fcc[i-1][0]:\n",
    "            temp = deepcopy(Froy_fcc[i])\n",
    "            Froy_fcc[i] = deepcopy(Froy_fcc[i-1])\n",
    "            Froy_fcc[i-1] = temp\n",
    "for i in range(1,len(Froy_fcc)):\n",
    "    if Froy_fcc[i][1] == Froy_fcc[i-1][1]:\n",
    "        if Froy_fcc[i][0] < Froy_fcc[i-1][0]:\n",
    "            temp = deepcopy(Froy_fcc[i])\n",
    "            Froy_fcc[i] = deepcopy(Froy_fcc[i-1])\n",
    "            Froy_fcc[i-1] = temp    "
   ]
  },
  {
   "cell_type": "code",
   "execution_count": 18,
   "metadata": {
    "collapsed": false,
    "deletable": true,
    "editable": true
   },
   "outputs": [],
   "source": [
    "Muel_cubic = Muel_cubic[np.argsort(Muel_cubic[:,1])]\n",
    "for i in range(1,len(Muel_cubic)):\n",
    "    if Muel_cubic[i][1] == Muel_cubic[i-1][1]:\n",
    "        if Muel_cubic[i][0] < Muel_cubic[i-1][0]:\n",
    "            temp = deepcopy(Muel_cubic[i])\n",
    "            Muel_cubic[i] = deepcopy(Muel_cubic[i-1])\n",
    "            Muel_cubic[i-1] = temp\n",
    "for i in range(1,len(Muel_cubic)):\n",
    "    if Muel_cubic[i][1] == Muel_cubic[i-1][1]:\n",
    "        if Muel_cubic[i][0] < Muel_cubic[i-1][0]:\n",
    "            temp = deepcopy(Muel_cubic[i])\n",
    "            Muel_cubic[i] = deepcopy(Muel_cubic[i-1])\n",
    "            Muel_cubic[i-1] = temp"
   ]
  },
  {
   "cell_type": "code",
   "execution_count": 19,
   "metadata": {
    "collapsed": true
   },
   "outputs": [],
   "source": [
    "Muel_hcp = Muel_hcp[np.argsort(Muel_hcp[:,1])]\n",
    "for i in range(1,len(Muel_hcp)):\n",
    "    if Muel_hcp[i][1] == Muel_hcp[i-1][1]:\n",
    "        if Muel_hcp[i][0] < Muel_hcp[i-1][0]:\n",
    "            temp = deepcopy(Muel_hcp[i])\n",
    "            Muel_hcp[i] = deepcopy(Muel_hcp[i-1])\n",
    "            Muel_hcp[i-1] = temp\n",
    "for i in range(1,len(Muel_hcp)):\n",
    "    if Muel_hcp[i][1] == Muel_hcp[i-1][1]:\n",
    "        if Muel_hcp[i][0] < Muel_hcp[i-1][0]:\n",
    "            temp = deepcopy(Muel_hcp[i])\n",
    "            Muel_hcp[i] = deepcopy(Muel_hcp[i-1])\n",
    "            Muel_hcp[i-1] = temp"
   ]
  },
  {
   "cell_type": "code",
   "execution_count": 20,
   "metadata": {
    "collapsed": true,
    "deletable": true,
    "editable": true
   },
   "outputs": [],
   "source": [
    "import math\n",
    "def half_magnitude(x):\n",
    "    \"\"\"Finds the magnitude of the value and returns 5*10^(magnitude).\"\"\"\n",
    "    return 1*10**int(math.log10(x))"
   ]
  },
  {
   "cell_type": "code",
   "execution_count": 21,
   "metadata": {
    "collapsed": true
   },
   "outputs": [],
   "source": [
    "kpd_all = []\n",
    "err_all = []\n",
    "for pf in Afl:\n",
    "    hm = half_magnitude(pf[1])\n",
    "    tr = pf[0]\n",
    "    br = None\n",
    "    ber = None\n",
    "    if not pf[1] in err_all:\n",
    "        for pm in Muel:\n",
    "            test = abs(pm[1]-pf[1])\n",
    "            if test < hm:\n",
    "                if br is None and ber is None:\n",
    "                    br = pm[0]\n",
    "                    ber = pm[1]\n",
    "                elif abs(ber-pf[1]) > test:\n",
    "                    br = pm[0]\n",
    "                    ber = pm[1]\n",
    "        if ber is not None and br is not None:\n",
    "            err_all.append((pf[1]+ber)/2.)\n",
    "            kpd_all.append(float(tr)/float(br))"
   ]
  },
  {
   "cell_type": "code",
   "execution_count": 22,
   "metadata": {
    "collapsed": true
   },
   "outputs": [],
   "source": [
    "kpd_hcp = []\n",
    "err_hcp = []\n",
    "for pf in Froy_hcp:\n",
    "    hm = half_magnitude(pf[1])\n",
    "    tr = pf[0]\n",
    "    br = None\n",
    "    ber = None\n",
    "    if not pf[1] in err_hcp:\n",
    "        for pm in Muel_hcp:\n",
    "            test = abs(pm[1]-pf[1])\n",
    "            if test < hm:\n",
    "                if br is None and ber is None:\n",
    "                    br = pm[0]\n",
    "                    ber = pm[1]\n",
    "                elif abs(ber-pf[1]) > test:\n",
    "                    br = pm[0]\n",
    "                    ber = pm[1]\n",
    "        if ber is not None and br is not None:\n",
    "            err_hcp.append((pf[1]+ber)/2.)\n",
    "            kpd_hcp.append(float(tr)/float(br))        "
   ]
  },
  {
   "cell_type": "code",
   "execution_count": 23,
   "metadata": {
    "collapsed": false,
    "deletable": true,
    "editable": true
   },
   "outputs": [],
   "source": [
    "kpd_sc = []\n",
    "err_sc = []\n",
    "for pf in Froy_sc:\n",
    "    hm = half_magnitude(pf[1])\n",
    "    tr = pf[0]\n",
    "    br = None\n",
    "    ber = None\n",
    "    if not pf[1] in err_sc:\n",
    "        for pm in Muel_cubic:\n",
    "            test = abs(pm[1]-pf[1])\n",
    "            if test < hm:\n",
    "                if br is None and ber is None:\n",
    "                    br = pm[0]\n",
    "                    ber = pm[1]\n",
    "                elif abs(ber-pf[1]) > test:\n",
    "                    br = pm[0]\n",
    "                    ber = pm[1]\n",
    "        if ber is not None and br is not None:\n",
    "            err_sc.append((pf[1]+ber)/2.)\n",
    "            kpd_sc.append(float(tr)/float(br))        "
   ]
  },
  {
   "cell_type": "code",
   "execution_count": 24,
   "metadata": {
    "collapsed": true,
    "deletable": true,
    "editable": true
   },
   "outputs": [],
   "source": [
    "kpd_bcc = []\n",
    "err_bcc = []\n",
    "for pf in Froy_bcc:\n",
    "    hm = half_magnitude(pf[1])\n",
    "    tr = pf[0]\n",
    "    br = None\n",
    "    ber = None\n",
    "    if not pf[1] in err_bcc:\n",
    "        for pm in Muel_cubic:\n",
    "            test = abs(pm[1]-pf[1])\n",
    "            if test < hm:\n",
    "                if br is None and ber is None:\n",
    "                    br = pm[0]\n",
    "                    ber = pm[1]\n",
    "                elif abs(ber-pf[1]) > test:\n",
    "                    br = pm[0]\n",
    "                    ber = pm[1]\n",
    "        if ber is not None and br is not None:\n",
    "            err_bcc.append((pf[1]+ber)/2.)\n",
    "            kpd_bcc.append(float(tr)/float(br))        "
   ]
  },
  {
   "cell_type": "code",
   "execution_count": 25,
   "metadata": {
    "collapsed": true,
    "deletable": true,
    "editable": true
   },
   "outputs": [],
   "source": [
    "kpd_fcc = []\n",
    "err_fcc = []\n",
    "for pf in Froy_fcc:\n",
    "    hm = half_magnitude(pf[1])\n",
    "    tr = pf[0]\n",
    "    br = None\n",
    "    ber = None\n",
    "    if not pf[1] in err_fcc:\n",
    "        for pm in Muel_cubic:\n",
    "            test = abs(pm[1]-pf[1])\n",
    "            if test < hm:\n",
    "                if br is None and ber is None:\n",
    "                    br = pm[0]\n",
    "                    ber = pm[1]\n",
    "                elif abs(ber-pf[1]) > test:\n",
    "                    br = pm[0]\n",
    "                    ber = pm[1]\n",
    "        if ber is not None and br is not None:\n",
    "            err_fcc.append((pf[1]+ber)/2.)\n",
    "            kpd_fcc.append(float(tr)/float(br))        "
   ]
  },
  {
   "cell_type": "code",
   "execution_count": 42,
   "metadata": {
    "collapsed": false,
    "deletable": true,
    "editable": true
   },
   "outputs": [],
   "source": [
    "plt.plot(err_sc,kpd_sc,label=\"Froyen sc\")\n",
    "plt.plot(err_bcc,kpd_bcc,label=\"Froyen bcc\")\n",
    "plt.plot(err_fcc,kpd_fcc,label=\"Froyen fcc\")\n",
    "plt.plot(err_hcp,kpd_hcp,label=\"Froyen hcp\")\n",
    "plt.plot(err_all,kpd_all,label=\"AFLOW\")\n",
    "plt.yscale('log')\n",
    "plt.xscale('log')\n",
    "plt.xlabel(\"Error (eV/atom)\")\n",
    "plt.ylabel(\"Ratio of irreducible K-points (Method/GMP)\")\n",
    "plt.legend(loc=\"lower right\")\n",
    "plt.title(\"Average speedup of various K-point selection methods vs generalized Monkhorst-Pack\")\n",
    "plt.xlim([1E0,1E-6])\n",
    "#plt.show()\n",
    "plt.savefig(\"../plots/All_vs_Mueller_corrected.pdf\")"
   ]
  },
  {
   "cell_type": "code",
   "execution_count": 27,
   "metadata": {
    "collapsed": false,
    "deletable": true,
    "editable": true
   },
   "outputs": [
    {
     "name": "stdout",
     "output_type": "stream",
     "text": [
      "9.74282578924\n",
      "12.3758373768\n",
      "15.4763825458\n",
      "2.85039953074\n",
      "4.13471647832\n"
     ]
    }
   ],
   "source": [
    "print(np.mean(kpd_all))\n",
    "print(np.mean(kpd_bcc))\n",
    "print(np.mean(kpd_fcc))\n",
    "print(np.mean(kpd_hcp))\n",
    "print(np.mean(kpd_sc))"
   ]
  },
  {
   "cell_type": "code",
   "execution_count": 28,
   "metadata": {
    "collapsed": false
   },
   "outputs": [
    {
     "data": {
      "text/plain": [
       "8.709333982915"
      ]
     },
     "execution_count": 28,
     "metadata": {},
     "output_type": "execute_result"
    }
   ],
   "source": [
    "np.mean([12.3758373768,15.4763825458,2.85039953074,4.13471647832])"
   ]
  },
  {
   "cell_type": "code",
   "execution_count": null,
   "metadata": {
    "collapsed": true
   },
   "outputs": [],
   "source": []
  }
 ],
 "metadata": {
  "kernelspec": {
   "display_name": "Python 2",
   "language": "python",
   "name": "python2"
  },
  "language_info": {
   "codemirror_mode": {
    "name": "ipython",
    "version": 2
   },
   "file_extension": ".py",
   "mimetype": "text/x-python",
   "name": "python",
   "nbconvert_exporter": "python",
   "pygments_lexer": "ipython2",
   "version": "2.7.9"
  }
 },
 "nbformat": 4,
 "nbformat_minor": 2
}
