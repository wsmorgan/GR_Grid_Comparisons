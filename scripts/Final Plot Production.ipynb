{
 "cells": [
  {
   "cell_type": "code",
   "execution_count": 1,
   "metadata": {},
   "outputs": [],
   "source": [
    "%matplotlib inline\n",
    "import matplotlib"
   ]
  },
  {
   "cell_type": "code",
   "execution_count": 2,
   "metadata": {},
   "outputs": [],
   "source": [
    "import csv\n",
    "import numpy as np\n",
    "import pandas as pd\n",
    "matplotlib.style.use('seaborn')\n",
    "import matplotlib.pyplot as plt\n",
    "from copy import deepcopy\n",
    "from tqdm import tqdm"
   ]
  },
  {
   "cell_type": "code",
   "execution_count": 3,
   "metadata": {
    "collapsed": true
   },
   "outputs": [],
   "source": [
    "bcc = [\"K\",\"V\",\"W\"]\n",
    "fcc = [\"Al\",\"Cu\",\"Pd\"]\n",
    "hexagonal = [\"Ti\",\"Y\",\"Re\"]\n",
    "cubic = fcc+bcc\n",
    "all_elements = cubic+hexagonal"
   ]
  },
  {
   "cell_type": "code",
   "execution_count": 4,
   "metadata": {
    "collapsed": true
   },
   "outputs": [],
   "source": [
    "def get_mean_data(method,elements,sub_method=None):\n",
    "    \"\"\"Gathers the convergence data for the given method, element, \n",
    "    and sub-method, i.e. 'sc' for the Froyen method, and places it\n",
    "    in a pandas dataframe where each column is a different cell \n",
    "    size and each row is a different k-point density. The dataframe also\n",
    "    contains the mean error per density and numbder of instances \n",
    "    the density occures.\n",
    "    \n",
    "    Args:\n",
    "        methad (str): \"Froyen\", \"Mueller\", or \"Aflow\"\n",
    "        elements (list of str): A list consisting of the desired \n",
    "            elements (\"V\", \"W\", \"Cu\", \"Al\", \"K\", \"Pd\", \"Ti\", \"Y\", \"Re\")\n",
    "        sub_method (str, optional): The sampling scheme for the \n",
    "            Froyen method (\"sc\", \"bcc\", \"fcc\", \"hcp\"). A sub_method is\n",
    "            required for the Froyen method and for any other method\n",
    "            this should be None.\n",
    "    \n",
    "    Returns:\n",
    "        outdf (pandas.dataframe): A pandas dataframe of the error in\n",
    "            the calculated energy at each density (row) and supercell \n",
    "            (column) in addition to a column of the average error per\n",
    "            density.\n",
    "    \"\"\"\n",
    "    for el in elements:\n",
    "        if el in [\"Ti\",\"Y\",\"Re\"]:\n",
    "            sizes = range(1,8)\n",
    "        else:\n",
    "            sizes = range(1,12)\n",
    "            \n",
    "        for i in sizes:\n",
    "            data = []\n",
    "            kpd = []\n",
    "            if sub_method is None:\n",
    "                f = open(\"../data2/{0}/{1}_conv/{2}_atom_kpd_avg_conv.csv\".format(method,el,i),\"r\")\n",
    "            else:\n",
    "                f = open(\"../data2/{0}/{1}_conv/{2}_{3}_atom_kpd_avg_conv.csv\".format(method,el,i,sub_method),\"r\")\n",
    "            reader = csv.reader(f,delimiter='\\t')\n",
    "            for row in reader:\n",
    "                if float(row[0]) in kpd and float(row[1]) != 0:\n",
    "                    loc = kpd.index(float(row[0]))\n",
    "                    data[loc][1] = (data[loc][1]+float(row[1]))/2.\n",
    "                elif float(row[1]) != 0:\n",
    "                    kpd.append(float(row[0]))\n",
    "                    point = [float(row[0]),float(row[1])]\n",
    "                    data.append(point)\n",
    "                    \n",
    "            data = np.array(data)\n",
    "            if len(data) >= 1:\n",
    "                df = pd.DataFrame(data[:,1:],index=data[:,0])#,columns=[str(i)+' atom'])    \n",
    "            else:\n",
    "                print(\"Method: {0}, element: {1}, size: {2}\".format(method,el,i))\n",
    "                \n",
    "            if i > 1 or el != elements[0]:\n",
    "                outdf = pd.concat([outdf,df], axis=1)\n",
    "            else:\n",
    "                outdf = df\n",
    "\n",
    "    outdf['mean'] = outdf.mean(axis=1) \n",
    "    outdf['count'] = outdf.apply(lambda x: x.count(), axis=1)\n",
    "    return outdf"
   ]
  },
  {
   "cell_type": "code",
   "execution_count": 7,
   "metadata": {
    "collapsed": true
   },
   "outputs": [],
   "source": [
    "def get_ratios(top,bottom):\n",
    "    \"\"\"Constructs the lists of ratios and accuracies for plotting.\n",
    "    \n",
    "    Args:\n",
    "        top (numpy.array): The data that will be used for the top \n",
    "            half of the ratio.\n",
    "        bottom (numpy.array): The data that will be used for the bottom\n",
    "            half of the ratio.\n",
    "            \n",
    "    Returns:\n",
    "        kpd, err (list, list): A list of the ratios of the k-point \n",
    "            densities, and a list of the corresponding errors.\n",
    "    \"\"\"\n",
    "    kpd= []\n",
    "    err = []\n",
    "    pbar = tqdm(total=len(top))\n",
    "    \n",
    "    for pf in top:\n",
    "        #hm = half_magnitude(pf[1])\n",
    "        #hm2 = half_magnitude(pf[0])\n",
    "        tr = pf[0]\n",
    "        br = None\n",
    "        ber = None\n",
    "        dist = None\n",
    "        if not pf[1] in err:\n",
    "            for pm in bottom:\n",
    "                #test = abs(pm[1]-pf[1])\n",
    "                test = radial_dist(pf,pm)\n",
    "                #test2 = abs(pm[0]-pf[1])\n",
    "                if dist is None:\n",
    "                    dist = test\n",
    "                    br = pm[0] \n",
    "                    ber = pm[1]\n",
    "                elif test < dist and abs(ber)<abs(pm[1]):\n",
    "                    dist = test\n",
    "                    br = pm[0]\n",
    "                    ber = pm[1]\n",
    "                #if test < hm:\n",
    "                #    trial_set1 = [float(pf[0]),float(pm[0])]\n",
    "                #    if br is not None:\n",
    "                #        trial_set2 = [float(br),float(pf[0])]\n",
    "                #    if br is None and ber is None:\n",
    "                #        br = pm[0]\n",
    "                #        ber = pm[1]\n",
    "                #    elif ber < pf[1] and abs(ber-pf[1]) > test:\n",
    "#                    elif abs(ber-pf[1]) > test and abs(pf[0]-pm[0])<abs(br-pf[0]):\n",
    "                        #print(\"h\")\n",
    "                #        br = pm[0]\n",
    "                #        ber = pm[1]\n",
    "            if ber is not None and br is not None:\n",
    "                err.append(pf[1])#((pf[1]+ber)/2.)\n",
    "                kpd.append(float(tr)/float(br))\n",
    "        pbar.update(1)\n",
    "    return kpd, err"
   ]
  },
  {
   "cell_type": "code",
   "execution_count": 8,
   "metadata": {
    "collapsed": true
   },
   "outputs": [],
   "source": [
    "def binned_array(kpd_all,n):\n",
    "    \"\"\"Bins the ratio of k-point densities for a given error to reduce\n",
    "    the noise in the plot.\n",
    "    \n",
    "    Args:\n",
    "        kpd_all (list): The k-point density ratios.\n",
    "        n (int): The bin size will be 2*n+1.\n",
    "    \n",
    "    Returns:\n",
    "        binned_kpd_all (list): The averaged k-point density\n",
    "            ratios over the bin sizes.\n",
    "    \"\"\"\n",
    "    binned_kpd_all = []\n",
    "    n_kpd = len(kpd_all)\n",
    "    for i in range(n_kpd):\n",
    "        temp = []\n",
    "        for j in range(-n,n+1):\n",
    "            if i+j >0 and i+j <n_kpd-1:\n",
    "                temp.append(kpd_all[i+j])\n",
    "        binned_kpd_all.append(np.mean(temp))\n",
    "    return binned_kpd_all"
   ]
  },
  {
   "cell_type": "code",
   "execution_count": 9,
   "metadata": {
    "collapsed": true
   },
   "outputs": [],
   "source": [
    "def compare_methods_plot(bin_size,get_data=True):\n",
    "    \"\"\"This subroutine produces plot number (#) from the paper. \n",
    "    The plot compares the ratio of the different k-point densities at\n",
    "    every accuracy\n",
    "    \n",
    "    Args:\n",
    "        bin_size (int): The bin size for the averaging.\n",
    "        get_data (bool, optional): True if the data needs \n",
    "            to be gathered.\n",
    "    \"\"\"\n",
    "    \n",
    "    if get_data:\n",
    "        print(\"Collecting data.\")\n",
    "        # Construct dataframes of the data for each method.\n",
    "        Mueller = get_mean_data(\"Mueller\",all_elements)\n",
    "        Aflow = get_mean_data(\"AFLOW\",all_elements)\n",
    "        Froyen_hcp = get_mean_data(\"Froyen\",hexagonal,sub_method=\"hcp\")\n",
    "        Mueller_hcp = get_mean_data(\"Mueller\",hexagonal)\n",
    "        Froyen_sc = get_mean_data(\"Froyen\",cubic,sub_method=\"sc\")\n",
    "        Froyen_bcc = get_mean_data(\"Froyen\",cubic,sub_method=\"bcc\")\n",
    "        Froyen_fcc = get_mean_data(\"Froyen\",cubic,sub_method=\"fcc\")\n",
    "        Mueller_cubic = get_mean_data(\"Mueller\",cubic)\n",
    "        Mueller_bcc = get_mean_data(\"Mueller\",bcc)\n",
    "        Mueller_fcc = get_mean_data(\"Mueller\",fcc)\n",
    "    \n",
    "        # Convert the dataframes to numpy arrays of the density and the mean.\n",
    "        Froy_sc = np.asarray(Froyen_sc.reset_index().loc[:,[\"index\",\"mean\"]])\n",
    "        Froy_bcc = np.asarray(Froyen_bcc.reset_index().loc[:,[\"index\",\"mean\"]])\n",
    "        Froy_fcc = np.asarray(Froyen_fcc.reset_index().loc[:,[\"index\",\"mean\"]])\n",
    "        Froy_hcp = np.asarray(Froyen_hcp.reset_index().loc[:,[\"index\",\"mean\"]])\n",
    "        Muel_cubic = np.asanyarray(Mueller_cubic.reset_index().loc[:,[\"index\",\"mean\"]])\n",
    "        Muel_hcp = np.asanyarray(Mueller_hcp.reset_index().loc[:,[\"index\",\"mean\"]])\n",
    "        Muel = np.asanyarray(Mueller.reset_index().loc[:,[\"index\",\"mean\"]])\n",
    "        Muel_bcc = np.asanyarray(Mueller_bcc.reset_index().loc[:,[\"index\",\"mean\"]])\n",
    "        Muel_fcc = np.asanyarray(Mueller_fcc.reset_index().loc[:,[\"index\",\"mean\"]])\n",
    "        Afl = np.asanyarray(Aflow.reset_index().loc[:,[\"index\",\"mean\"]])\n",
    "    \n",
    "        print(\"Sorting errors.\")\n",
    "        # Sort the errors\n",
    "        Muel = sort_energies(Muel)\n",
    "        Afl = sort_energies(Afl)\n",
    "        Froy_hcp = sort_energies(Froy_hcp)\n",
    "        Froy_sc = sort_energies(Froy_sc)\n",
    "        Froy_bcc = sort_energies(Froy_bcc)\n",
    "        Froy_fcc = sort_energies(Froy_fcc)\n",
    "        Muel_cubic = sort_energies(Muel_cubic)\n",
    "        Muel_hcp = sort_energies(Muel_hcp)\n",
    "        Muel_bcc = sort_energies(Muel_bcc)\n",
    "        Muel_fcc = sort_energies(Muel_fcc)\n",
    "    \n",
    "        print(\"Getting ratios AFLOW.\")\n",
    "        # Construct the ratios for plotting\n",
    "        kpd_afl, err_afl = get_ratios(Afl,Muel)\n",
    "        print(\"Getting ratios Froyen hcp.\")\n",
    "        kpd_hcp, err_hcp = get_ratios(Froy_hcp,Muel_hcp)\n",
    "        print(\"Getting ratios Froyen sc.\")\n",
    "        kpd_sc, err_sc = get_ratios(Froy_sc,Muel_cubic)\n",
    "        print(\"Getting ratios Froyen bcc.\")\n",
    "        kpd_bcc, err_bcc = get_ratios(Froy_bcc,Muel_cubic)\n",
    "        print(\"Getting ratios Froyen fcc.\")\n",
    "        kpd_fcc, err_fcc = get_ratios(Froy_fcc,Muel_cubic)\n",
    "    \n",
    "    print(\"Plotting.\")\n",
    "    #plt.plot(err_sc,binned_array(kpd_sc,avg_bin),label=\"Froyen sc\")\n",
    "    #plt.plot(err_bcc,binned_array(kpd_bcc,avg_bin),label=\"Froyen bcc\")\n",
    "    #plt.plot(err_fcc,binned_array(kpd_fcc,avg_bin),label=\"Froyen fcc\")\n",
    "    #plt.plot(err_hcp,binned_array(kpd_hcp,2),label=\"Froyen hcp\")\n",
    "    #plt.plot(err_afl,binned_array(kpd_afl,avg_bin),label=\"AFLOW\")\n",
    "    plt.plot(err_sc,kpd_sc,label=\"Froyen sc\")\n",
    "    plt.plot(err_bcc,kpd_bcc,label=\"Froyen bcc\")\n",
    "    plt.plot(err_fcc,kpd_fcc,label=\"Froyen fcc\")\n",
    "    plt.plot(err_hcp,kpd_hcp,label=\"Froyen hcp\")\n",
    "    plt.plot(err_afl,kpd_afl,label=\"AFLOW\")\n",
    "    plt.yscale('log')\n",
    "    plt.xscale('log')\n",
    "    plt.xlabel(\"Total Error (eV)\")\n",
    "    plt.ylabel(\"Ratio of $K$-point Densities (Method/GMP)\")\n",
    "    plt.legend(loc=\"upper right\")\n",
    "    plt.title(\"Average speedup of k-point methods vs Generalized Monkhorst-Pack\")\n",
    "    plt.xlim([.4E-3,1E-1])\n",
    "    #plt.savefig(\"../plots/Y_res.pdf\")\n",
    "    plt.show()\n"
   ]
  },
  {
   "cell_type": "code",
   "execution_count": 10,
   "metadata": {},
   "outputs": [
    {
     "name": "stdout",
     "output_type": "stream",
     "text": [
      "Collecting data.\n",
      "Method: AFLOW, element: V, size: 1\n",
      "Method: AFLOW, element: V, size: 4\n",
      "Method: Froyen, element: Cu, size: 3\n",
      "Method: Froyen, element: Pd, size: 3\n",
      "Method: Froyen, element: V, size: 1\n",
      "Method: Froyen, element: Al, size: 11\n",
      "Method: Froyen, element: Cu, size: 3\n",
      "Method: Froyen, element: Cu, size: 9\n",
      "Method: Froyen, element: Cu, size: 10\n",
      "Method: Froyen, element: Cu, size: 11\n",
      "Method: Froyen, element: Pd, size: 3\n",
      "Method: Froyen, element: Pd, size: 9\n",
      "Method: Froyen, element: Pd, size: 10\n",
      "Method: Froyen, element: V, size: 1\n"
     ]
    },
    {
     "name": "stderr",
     "output_type": "stream",
     "text": [
      "\r",
      "  0%|          | 0/1064 [00:00<?, ?it/s]"
     ]
    },
    {
     "name": "stdout",
     "output_type": "stream",
     "text": [
      "Sorting errors.\n",
      "Getting ratios AFLOW.\n"
     ]
    },
    {
     "name": "stderr",
     "output_type": "stream",
     "text": [
      "100%|██████████| 1064/1064 [05:55<00:00,  3.56it/s] \n",
      "  0%|          | 0/157 [00:00<?, ?it/s]\u001b[A\n",
      "  1%|▏         | 2/157 [00:00<00:11, 14.00it/s]\u001b[A"
     ]
    },
    {
     "name": "stdout",
     "output_type": "stream",
     "text": [
      "Getting ratios Froyen hcp.\n"
     ]
    },
    {
     "name": "stderr",
     "output_type": "stream",
     "text": [
      "\n",
      "  3%|▎         | 4/157 [00:00<00:11, 13.56it/s]\u001b[A\n",
      "  4%|▍         | 6/157 [00:00<00:11, 13.63it/s]\u001b[A\n",
      "  5%|▌         | 8/157 [00:00<00:10, 13.55it/s]\u001b[A\n",
      "\n",
      "Exception in thread Thread-4:\n",
      "Traceback (most recent call last):\n",
      "  File \"/usr/local/Cellar/python/2.7.9/Frameworks/Python.framework/Versions/2.7/lib/python2.7/threading.py\", line 810, in __bootstrap_inner\n",
      "    self.run()\n",
      "  File \"/Users/wileymorgan/.virtualenvs/kpoints/lib/python2.7/site-packages/tqdm/_tqdm.py\", line 144, in run\n",
      "    for instance in self.tqdm_cls._instances:\n",
      "  File \"/Users/wileymorgan/.virtualenvs/kpoints/bin/../lib/python2.7/_weakrefset.py\", line 60, in __iter__\n",
      "    for itemref in self.data:\n",
      "RuntimeError: Set changed size during iteration\n",
      "  6%|▋         | 10/157 [00:00<00:11, 13.06it/s]\n",
      "\u001b[A\n",
      "  8%|▊         | 12/157 [00:00<00:11, 13.04it/s]\u001b[A\n",
      "  9%|▉         | 14/157 [00:01<00:11, 12.88it/s]\u001b[A\n",
      " 10%|█         | 16/157 [00:01<00:10, 13.04it/s]\u001b[A\n",
      " 11%|█▏        | 18/157 [00:01<00:10, 13.12it/s]\u001b[A\n",
      " 13%|█▎        | 20/157 [00:01<00:10, 13.26it/s]\u001b[A\n",
      " 14%|█▍        | 22/157 [00:01<00:10, 13.19it/s]\u001b[A\n",
      " 15%|█▌        | 24/157 [00:01<00:10, 13.25it/s]\u001b[A\n",
      " 17%|█▋        | 26/157 [00:01<00:09, 13.27it/s]\u001b[A\n",
      " 18%|█▊        | 28/157 [00:02<00:09, 13.16it/s]\u001b[A\n",
      " 19%|█▉        | 30/157 [00:02<00:09, 13.05it/s]\u001b[A\n",
      " 20%|██        | 32/157 [00:02<00:09, 12.90it/s]\u001b[A\n",
      " 22%|██▏       | 34/157 [00:02<00:09, 12.89it/s]\u001b[A\n",
      " 23%|██▎       | 36/157 [00:02<00:09, 12.84it/s]\u001b[A\n",
      " 24%|██▍       | 38/157 [00:02<00:09, 12.92it/s]\u001b[A\n",
      " 25%|██▌       | 40/157 [00:03<00:09, 12.43it/s]\u001b[A\n",
      " 27%|██▋       | 42/157 [00:03<00:09, 12.44it/s]\u001b[A\n",
      " 28%|██▊       | 44/157 [00:03<00:09, 12.48it/s]\u001b[A\n",
      " 29%|██▉       | 46/157 [00:03<00:08, 12.61it/s]\u001b[A\n",
      " 31%|███       | 48/157 [00:03<00:08, 12.77it/s]\u001b[A\n",
      " 32%|███▏      | 50/157 [00:03<00:08, 12.74it/s]\u001b[A\n",
      " 33%|███▎      | 52/157 [00:04<00:08, 12.74it/s]\u001b[A\n",
      " 34%|███▍      | 54/157 [00:04<00:08, 12.76it/s]\u001b[A\n",
      " 36%|███▌      | 56/157 [00:04<00:07, 12.92it/s]\u001b[A\n",
      " 37%|███▋      | 58/157 [00:04<00:07, 13.00it/s]\u001b[A\n",
      " 38%|███▊      | 60/157 [00:04<00:07, 12.80it/s]\u001b[A\n",
      " 39%|███▉      | 62/157 [00:04<00:07, 12.73it/s]\u001b[A\n",
      " 41%|████      | 64/157 [00:04<00:07, 12.59it/s]\u001b[A\n",
      " 42%|████▏     | 66/157 [00:05<00:07, 12.59it/s]\u001b[A\n",
      " 43%|████▎     | 68/157 [00:05<00:07, 12.44it/s]\u001b[A\n",
      " 45%|████▍     | 70/157 [00:05<00:06, 12.75it/s]\u001b[A\n",
      " 46%|████▌     | 72/157 [00:05<00:06, 12.83it/s]\u001b[A\n",
      " 47%|████▋     | 74/157 [00:05<00:06, 12.73it/s]\u001b[A\n",
      " 48%|████▊     | 76/157 [00:05<00:06, 12.72it/s]\u001b[A\n",
      " 50%|████▉     | 78/157 [00:06<00:06, 12.61it/s]\u001b[A\n",
      " 51%|█████     | 80/157 [00:06<00:05, 12.90it/s]\u001b[A\n",
      " 52%|█████▏    | 82/157 [00:06<00:05, 12.98it/s]\u001b[A\n",
      " 54%|█████▎    | 84/157 [00:06<00:05, 12.69it/s]\u001b[A\n",
      " 55%|█████▍    | 86/157 [00:06<00:05, 12.51it/s]\u001b[A\n",
      " 56%|█████▌    | 88/157 [00:06<00:05, 12.55it/s]\u001b[A\n",
      " 57%|█████▋    | 90/157 [00:07<00:05, 12.41it/s]\u001b[A\n",
      " 59%|█████▊    | 92/157 [00:07<00:05, 12.52it/s]\u001b[A\n",
      " 60%|█████▉    | 94/157 [00:07<00:05, 12.57it/s]\u001b[A\n",
      " 61%|██████    | 96/157 [00:07<00:04, 12.71it/s]\u001b[A\n",
      " 62%|██████▏   | 98/157 [00:07<00:04, 13.04it/s]\u001b[A\n",
      " 64%|██████▎   | 100/157 [00:07<00:04, 13.12it/s]\u001b[A\n",
      " 66%|██████▌   | 103/157 [00:07<00:03, 14.49it/s]\u001b[A\n",
      " 67%|██████▋   | 105/157 [00:08<00:03, 14.00it/s]\u001b[A\n",
      " 68%|██████▊   | 107/157 [00:08<00:03, 13.87it/s]\u001b[A\n",
      " 69%|██████▉   | 109/157 [00:08<00:03, 13.73it/s]\u001b[A\n",
      " 71%|███████▏  | 112/157 [00:08<00:03, 14.89it/s]\u001b[A\n",
      " 73%|███████▎  | 114/157 [00:08<00:03, 14.29it/s]\u001b[A\n",
      " 74%|███████▍  | 116/157 [00:08<00:02, 13.77it/s]\u001b[A\n",
      " 75%|███████▌  | 118/157 [00:09<00:02, 13.26it/s]\u001b[A\n",
      " 76%|███████▋  | 120/157 [00:09<00:02, 13.29it/s]\u001b[A\n",
      " 78%|███████▊  | 122/157 [00:09<00:02, 13.16it/s]\u001b[A\n",
      " 79%|███████▉  | 124/157 [00:09<00:02, 13.14it/s]\u001b[A\n",
      " 80%|████████  | 126/157 [00:09<00:02, 13.20it/s]\u001b[A\n",
      " 82%|████████▏ | 128/157 [00:09<00:02, 13.00it/s]\u001b[A\n",
      " 83%|████████▎ | 130/157 [00:09<00:02, 13.02it/s]\u001b[A\n",
      " 84%|████████▍ | 132/157 [00:10<00:01, 12.75it/s]\u001b[A\n",
      " 85%|████████▌ | 134/157 [00:10<00:01, 12.47it/s]\u001b[A\n",
      " 87%|████████▋ | 136/157 [00:10<00:01, 12.59it/s]\u001b[A\n",
      " 88%|████████▊ | 138/157 [00:10<00:01, 12.41it/s]\u001b[A\n",
      " 89%|████████▉ | 140/157 [00:10<00:01, 12.47it/s]\u001b[A\n",
      " 90%|█████████ | 142/157 [00:10<00:01, 12.67it/s]\u001b[A\n",
      " 92%|█████████▏| 144/157 [00:11<00:01, 12.78it/s]\u001b[A\n",
      " 93%|█████████▎| 146/157 [00:11<00:00, 12.64it/s]\u001b[A\n",
      " 94%|█████████▍| 148/157 [00:11<00:00, 12.68it/s]\u001b[A\n",
      " 96%|█████████▌| 150/157 [00:11<00:00, 12.88it/s]\u001b[A\n",
      " 97%|█████████▋| 152/157 [00:11<00:00, 13.10it/s]\u001b[A\n",
      " 98%|█████████▊| 154/157 [00:11<00:00, 12.83it/s]\u001b[A\n",
      " 99%|█████████▉| 156/157 [00:12<00:00, 12.73it/s]\u001b[A\n",
      "  0%|          | 0/313 [00:00<?, ?it/s]12.99it/s]\u001b[A"
     ]
    },
    {
     "name": "stdout",
     "output_type": "stream",
     "text": [
      "Getting ratios Froyen sc.\n"
     ]
    },
    {
     "name": "stderr",
     "output_type": "stream",
     "text": [
      "100%|██████████| 313/313 [01:06<00:00,  4.80it/s]\n",
      "  0%|          | 0/328 [00:00<?, ?it/s]"
     ]
    },
    {
     "name": "stdout",
     "output_type": "stream",
     "text": [
      "Getting ratios Froyen bcc.\n"
     ]
    },
    {
     "name": "stderr",
     "output_type": "stream",
     "text": [
      "100%|██████████| 328/328 [01:09<00:00,  4.66it/s]\n",
      "  0%|          | 0/226 [00:00<?, ?it/s]"
     ]
    },
    {
     "name": "stdout",
     "output_type": "stream",
     "text": [
      "Getting ratios Froyen fcc.\n"
     ]
    },
    {
     "name": "stderr",
     "output_type": "stream",
     "text": [
      "100%|██████████| 226/226 [00:47<00:00,  4.81it/s]\n"
     ]
    },
    {
     "name": "stdout",
     "output_type": "stream",
     "text": [
      "Plotting.\n"
     ]
    },
    {
     "data": {
      "image/png": "[encoded data removed]",
      "text/plain": [
       "<matplotlib.figure.Figure at 0x108f17610>"
      ]
     },
     "metadata": {},
     "output_type": "display_data"
    }
   ],
   "source": [
    "compare_methods_plot(5)"
   ]
  },
  {
   "cell_type": "code",
   "execution_count": null,
   "metadata": {
    "collapsed": true
   },
   "outputs": [],
   "source": []
  }
 ],
 "metadata": {
  "kernelspec": {
   "display_name": "Python 2",
   "language": "python",
   "name": "python2"
  },
  "language_info": {
   "codemirror_mode": {
    "name": "ipython",
    "version": 2
   },
   "file_extension": ".py",
   "mimetype": "text/x-python",
   "name": "python",
   "nbconvert_exporter": "python",
   "pygments_lexer": "ipython2",
   "version": "2.7.14"
  }
 },
 "nbformat": 4,
 "nbformat_minor": 2
}
