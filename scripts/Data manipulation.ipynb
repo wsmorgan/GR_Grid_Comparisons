{
 "cells": [
  {
   "cell_type": "code",
   "execution_count": 4,
   "metadata": {
    "collapsed": true,
    "deletable": true,
    "editable": true
   },
   "outputs": [],
   "source": [
    "import csv"
   ]
  },
  {
   "cell_type": "code",
   "execution_count": 2,
   "metadata": {
    "collapsed": false,
    "deletable": true,
    "editable": true
   },
   "outputs": [],
   "source": [
    "elements = [\"Al\",\"Cu\",\"K\",\"Pd\",\"Re\",\"Ti\",\"Y\",\"V\",\"W\"]\n",
    "energies = {\"Al\":3.7432023333,\"Cu\":3.7190866333,\n",
    "            \"Pd\":5.1786125,\"K\":1.0270634667,\"Ti\":15.505305238,\n",
    "           \"Y\":12.894161667,\"Re\":24.814712083,\"W\":13.0108,\"V\":8.9435804}\n",
    "std = {\"Al\":0.00024481,\"Cu\":0.000568197,\"Pd\":0.000342046,\"K\":0.0000907229,\n",
    "        \"Ti\":0.00051421,\"Y\":0.000627192,\"Re\":0.000546656,\"W\":0.000531094,\n",
    "        \"V\":0.000797741}\n",
    "methods = [\"Hess\"]# [\"AFLOW\",\"Mueller\",\"Hess\",\"Froyen\"]\n",
    "sub_methods = [\"hcp\",\"bcc\",\"sc\",\"fcc\"]"
   ]
  },
  {
   "cell_type": "code",
   "execution_count": 5,
   "metadata": {
    "collapsed": false,
    "deletable": true,
    "editable": true
   },
   "outputs": [],
   "source": [
    "# This parses Dr. Hess's data and saves them in the \n",
    "# correct \"raw.csv\" files and foldes\n",
    "\n",
    "# First read in the csv file.\n",
    "with open('../data/Dr_Hess/summary.csv','rb') as f:\n",
    "    temp = csv.reader(f)\n",
    "    temp2 = list(temp)\n",
    "\n",
    "# Now break it up into the correct folders and files folders.\n",
    "for el in elements:\n",
    "    if el in [\"Ti\",\"Y\",\"Re\"]:\n",
    "        sizes = range(1,8)\n",
    "    else:\n",
    "        sizes = range(1,12)\n",
    "    for s in sizes:\n",
    "        if el in [\"Ti\",\"Y\",\"Re\"]:\n",
    "            size = str(s*2)\n",
    "            tsize = str(s)\n",
    "        else:\n",
    "            size = str(s)\n",
    "            tsize = str(s)\n",
    "        data = []\n",
    "        for line in temp2:\n",
    "            if el in line[0]:\n",
    "                if size == line[4]:\n",
    "                    if tsize==size:\n",
    "                        data.append([line[1],str(float(line[2]))])\n",
    "                    else: \n",
    "                        data.append([line[1],str(float(line[2])*2)])\n",
    "\n",
    "        \n",
    "        ofile = open('../data/{0}_Hess/{1}_atom_raw.csv'.format(el,tsize), 'wb')\n",
    "        writer = csv.writer(ofile,delimiter='\\t')\n",
    "        for d in data:\n",
    "            writer.writerow(d)    \n",
    "        ofile.close()"
   ]
  },
  {
   "cell_type": "code",
   "execution_count": 6,
   "metadata": {
    "collapsed": false,
    "deletable": true,
    "editable": true
   },
   "outputs": [],
   "source": [
    "# This script makes the convergenc style csv files.\n",
    "def make_convergence(method,elements,cv,std,sub_method=None):\n",
    "    for el in elements:\n",
    "        if el in [\"Ti\",\"Y\",\"Re\"]:\n",
    "            sizes = range(1,8)\n",
    "        else:\n",
    "            sizes = range(1,12)\n",
    "            \n",
    "        for s in sizes:\n",
    "        \n",
    "            if sub_method is None:\n",
    "                with open('../data/{0}_{1}/{2}_atom_raw.csv'.format(el,method,s),'rb') as f:\n",
    "                    temp = csv.reader(f,delimiter='\\t')\n",
    "                    data = list(temp)\n",
    "                fout = open('../data/{0}_{1}/{2}_atom_convergence.csv'.format(el,method,s),'w+')\n",
    "            else:\n",
    "                with open('../data/{0}_{1}/{2}_{3}_atom_raw.csv'.format(el,method,s,sub_method),'rb') as f:\n",
    "                    temp = csv.reader(f,delimiter='\\t')\n",
    "                    data = list(temp)\n",
    "                fout = open('../data/{0}_{1}/{2}_{3}_atom_convergence.csv'.format(el,method,s,sub_method),'w+')\n",
    "                \n",
    "            writer = csv.writer(fout,delimiter='\\t')\n",
    "            \n",
    "            for d in data:\n",
    "                # The converged value is actually negative but in \n",
    "                # the dictionary containing it's value it's been \n",
    "                # absolute valued. So here we add it to the values\n",
    "                # from the runs to find the true error.\n",
    "                error = abs(float(d[1])-cv[el])\n",
    "                if error > std[el]:\n",
    "                    d_out = [int(d[0]),error]\n",
    "                    writer.writerow(d_out)\n",
    "            fout.close()"
   ]
  },
  {
   "cell_type": "code",
   "execution_count": 7,
   "metadata": {
    "collapsed": false,
    "deletable": true,
    "editable": true
   },
   "outputs": [],
   "source": [
    "make_convergence(\"Hess\",elements,energies,std)\n",
    "#make_convergence(\"AFLOW\",elements,energies,std)\n",
    "#make_convergence(\"Mueller\",elements,energies,std)\n",
    "#make_convergence(\"Froyen\",elements,energies,std,sub_method=\"sc\")\n",
    "#make_convergence(\"Froyen\",elements,energies,std,sub_method=\"bcc\")\n",
    "#make_convergence(\"Froyen\",elements,energies,std,sub_method=\"fcc\")\n",
    "#make_convergence(\"Froyen\",elements,energies,std,sub_method=\"hcp\")"
   ]
  },
  {
   "cell_type": "code",
   "execution_count": 8,
   "metadata": {
    "collapsed": true,
    "deletable": true,
    "editable": true
   },
   "outputs": [],
   "source": [
    "# This script makes the convergenc style csv files.\n",
    "def make_full_convergence(method,elements,cv,sub_method=None):\n",
    "    for el in elements:\n",
    "        if el in [\"Ti\",\"Y\",\"Re\"]:\n",
    "            sizes = range(1,8)\n",
    "        else:\n",
    "            sizes = range(1,12)\n",
    "            \n",
    "        for s in sizes:\n",
    "        \n",
    "            if sub_method is None:\n",
    "                with open('../data/{0}_{1}/{2}_atom_raw.csv'.format(el,method,s),'rb') as f:\n",
    "                    temp = csv.reader(f,delimiter='\\t')\n",
    "                    data = list(temp)\n",
    "                fout = open('../data/{0}_{1}/{2}_atom_full_convergence.csv'.format(el,method,s),'w+')\n",
    "            else:\n",
    "                with open('../data/{0}_{1}/{2}_{3}_atom_raw.csv'.format(el,method,s,sub_method),'rb') as f:\n",
    "                    temp = csv.reader(f,delimiter='\\t')\n",
    "                    data = list(temp)\n",
    "                fout = open('../data/{0}_{1}/{2}_{3}_atom_full_convergence.csv'.format(el,method,s,sub_method),'w+')\n",
    "                \n",
    "            writer = csv.writer(fout,delimiter='\\t')\n",
    "            \n",
    "            for d in data:\n",
    "                error = abs(float(d[1])-cv[el])\n",
    "                d_out = [int(d[0]),error]\n",
    "                writer.writerow(d_out)\n",
    "            fout.close()"
   ]
  },
  {
   "cell_type": "code",
   "execution_count": 9,
   "metadata": {
    "collapsed": false,
    "deletable": true,
    "editable": true
   },
   "outputs": [],
   "source": [
    "make_full_convergence(\"Hess\",elements,energies)\n",
    "#make_full_convergence(\"AFLOW\",elements,energies)\n",
    "#make_full_convergence(\"Mueller\",elements,energies)\n",
    "#make_full_convergence(\"Froyen\",elements,energies,sub_method=\"sc\")\n",
    "#make_full_convergence(\"Froyen\",elements,energies,sub_method=\"bcc\")\n",
    "#make_full_convergence(\"Froyen\",elements,energies,sub_method=\"fcc\")\n",
    "#make_full_convergence(\"Froyen\",elements,energies,sub_method=\"hcp\")"
   ]
  },
  {
   "cell_type": "code",
   "execution_count": 10,
   "metadata": {
    "collapsed": true,
    "deletable": true,
    "editable": true
   },
   "outputs": [],
   "source": [
    "import time"
   ]
  },
  {
   "cell_type": "code",
   "execution_count": null,
   "metadata": {
    "collapsed": true
   },
   "outputs": [],
   "source": []
  }
 ],
 "metadata": {
  "kernelspec": {
   "display_name": "Python 2",
   "language": "python",
   "name": "python2"
  },
  "language_info": {
   "codemirror_mode": {
    "name": "ipython",
    "version": 2
   },
   "file_extension": ".py",
   "mimetype": "text/x-python",
   "name": "python",
   "nbconvert_exporter": "python",
   "pygments_lexer": "ipython2",
   "version": "2.7.9"
  }
 },
 "nbformat": 4,
 "nbformat_minor": 2
}
